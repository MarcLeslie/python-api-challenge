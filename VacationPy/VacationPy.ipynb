{
 "cells": [
  {
   "cell_type": "code",
   "execution_count": 1,
   "metadata": {},
   "outputs": [],
   "source": [
    "# Dependencies and Setup\n",
    "import matplotlib.pyplot as plt\n",
    "import pandas as pd\n",
    "import numpy as np\n",
    "import requests\n",
    "import gmaps\n",
    "import gmaps.datasets\n",
    "import os\n",
    "import ipywidgets as widgets\n",
    "from pprint import pprint\n",
    "import json"
   ]
  },
  {
   "cell_type": "code",
   "execution_count": 2,
   "metadata": {},
   "outputs": [],
   "source": [
    "# Import API key\n",
    "from config import weather_api_key\n",
    "from config import g_key\n",
    "gmaps.configure(api_key=g_key)"
   ]
  },
  {
   "cell_type": "markdown",
   "metadata": {},
   "source": [
    "# Store Part 1 Results into DF"
   ]
  },
  {
   "cell_type": "code",
   "execution_count": 3,
   "metadata": {},
   "outputs": [
    {
     "data": {
      "text/html": [
       "<div>\n",
       "<style scoped>\n",
       "    .dataframe tbody tr th:only-of-type {\n",
       "        vertical-align: middle;\n",
       "    }\n",
       "\n",
       "    .dataframe tbody tr th {\n",
       "        vertical-align: top;\n",
       "    }\n",
       "\n",
       "    .dataframe thead th {\n",
       "        text-align: right;\n",
       "    }\n",
       "</style>\n",
       "<table border=\"1\" class=\"dataframe\">\n",
       "  <thead>\n",
       "    <tr style=\"text-align: right;\">\n",
       "      <th></th>\n",
       "      <th>City</th>\n",
       "      <th>Lat</th>\n",
       "      <th>Lng</th>\n",
       "      <th>Max Temp</th>\n",
       "      <th>Humidity</th>\n",
       "      <th>Cloudiness</th>\n",
       "      <th>Wind Speed</th>\n",
       "      <th>Country</th>\n",
       "      <th>Date</th>\n",
       "    </tr>\n",
       "  </thead>\n",
       "  <tbody>\n",
       "    <tr>\n",
       "      <th>0</th>\n",
       "      <td>haines junction</td>\n",
       "      <td>60.7522</td>\n",
       "      <td>-137.5108</td>\n",
       "      <td>21.20</td>\n",
       "      <td>93</td>\n",
       "      <td>12</td>\n",
       "      <td>1.14</td>\n",
       "      <td>CA</td>\n",
       "      <td>2021-04-24 12:39:46</td>\n",
       "    </tr>\n",
       "    <tr>\n",
       "      <th>1</th>\n",
       "      <td>port alfred</td>\n",
       "      <td>-33.5906</td>\n",
       "      <td>26.8910</td>\n",
       "      <td>74.77</td>\n",
       "      <td>57</td>\n",
       "      <td>15</td>\n",
       "      <td>14.25</td>\n",
       "      <td>ZA</td>\n",
       "      <td>2021-04-24 12:39:46</td>\n",
       "    </tr>\n",
       "    <tr>\n",
       "      <th>2</th>\n",
       "      <td>port hardy</td>\n",
       "      <td>50.6996</td>\n",
       "      <td>-127.4199</td>\n",
       "      <td>44.60</td>\n",
       "      <td>100</td>\n",
       "      <td>90</td>\n",
       "      <td>2.30</td>\n",
       "      <td>CA</td>\n",
       "      <td>2021-04-24 12:39:47</td>\n",
       "    </tr>\n",
       "    <tr>\n",
       "      <th>3</th>\n",
       "      <td>ahuimanu</td>\n",
       "      <td>21.4447</td>\n",
       "      <td>-157.8378</td>\n",
       "      <td>73.40</td>\n",
       "      <td>73</td>\n",
       "      <td>75</td>\n",
       "      <td>10.36</td>\n",
       "      <td>US</td>\n",
       "      <td>2021-04-24 12:39:47</td>\n",
       "    </tr>\n",
       "    <tr>\n",
       "      <th>4</th>\n",
       "      <td>mao</td>\n",
       "      <td>39.8885</td>\n",
       "      <td>4.2658</td>\n",
       "      <td>66.20</td>\n",
       "      <td>59</td>\n",
       "      <td>20</td>\n",
       "      <td>6.91</td>\n",
       "      <td>ES</td>\n",
       "      <td>2021-04-24 12:39:47</td>\n",
       "    </tr>\n",
       "  </tbody>\n",
       "</table>\n",
       "</div>"
      ],
      "text/plain": [
       "              City      Lat       Lng  Max Temp  Humidity  Cloudiness  \\\n",
       "0  haines junction  60.7522 -137.5108     21.20        93          12   \n",
       "1      port alfred -33.5906   26.8910     74.77        57          15   \n",
       "2       port hardy  50.6996 -127.4199     44.60       100          90   \n",
       "3         ahuimanu  21.4447 -157.8378     73.40        73          75   \n",
       "4              mao  39.8885    4.2658     66.20        59          20   \n",
       "\n",
       "   Wind Speed Country                 Date  \n",
       "0        1.14      CA  2021-04-24 12:39:46  \n",
       "1       14.25      ZA  2021-04-24 12:39:46  \n",
       "2        2.30      CA  2021-04-24 12:39:47  \n",
       "3       10.36      US  2021-04-24 12:39:47  \n",
       "4        6.91      ES  2021-04-24 12:39:47  "
      ]
     },
     "execution_count": 3,
     "metadata": {},
     "output_type": "execute_result"
    }
   ],
   "source": [
    "#Store Part I results into DataFrame by loading the csv exported in Part I to a DataFrame\n",
    "vacay_df = pd.read_csv(\"../output_data/cities.csv\")\n",
    "#vacay_df[\"Hotel Name\"]=\"\"\n",
    "vacay_df.head()"
   ]
  },
  {
   "cell_type": "markdown",
   "metadata": {},
   "source": [
    "# Humidity Heatmap"
   ]
  },
  {
   "cell_type": "code",
   "execution_count": 4,
   "metadata": {},
   "outputs": [],
   "source": [
    "locations = vacay_df[[\"Lat\",\"Lng\"]]\n",
    "weights = vacay_df[\"Humidity\"]"
   ]
  },
  {
   "cell_type": "code",
   "execution_count": 5,
   "metadata": {
    "scrolled": true
   },
   "outputs": [
    {
     "data": {
      "application/vnd.jupyter.widget-view+json": {
       "model_id": "1696b3e2594a4983afd61c00e84cba56",
       "version_major": 2,
       "version_minor": 0
      },
      "text/plain": [
       "Figure(layout=FigureLayout(height='420px'))"
      ]
     },
     "metadata": {},
     "output_type": "display_data"
    },
    {
     "data": {
      "text/plain": [
       "<Figure size 432x288 with 0 Axes>"
      ]
     },
     "metadata": {},
     "output_type": "display_data"
    }
   ],
   "source": [
    "#Humidity Heatmap THAT DISPLAYS HUMIDITY FOR EVERY CITY FROM PART 1\n",
    "#Configure gmaps.\n",
    "#Use the Lat and Lng as locations and Humidity as the weight.\n",
    "#Add Heatmap layer to map.\n",
    "fig = gmaps.figure()\n",
    "heat_layer = gmaps.heatmap_layer(locations, weights, dissipating=False, max_intensity=150, point_radius = 4)\n",
    "fig.add_layer(heat_layer)\n",
    "plt.savefig(\"../output_data/Map1\")\n",
    "fig"
   ]
  },
  {
   "cell_type": "markdown",
   "metadata": {},
   "source": [
    "# Create New DF Fitting Weather Criteria"
   ]
  },
  {
   "cell_type": "code",
   "execution_count": 6,
   "metadata": {},
   "outputs": [
    {
     "data": {
      "text/html": [
       "<div>\n",
       "<style scoped>\n",
       "    .dataframe tbody tr th:only-of-type {\n",
       "        vertical-align: middle;\n",
       "    }\n",
       "\n",
       "    .dataframe tbody tr th {\n",
       "        vertical-align: top;\n",
       "    }\n",
       "\n",
       "    .dataframe thead th {\n",
       "        text-align: right;\n",
       "    }\n",
       "</style>\n",
       "<table border=\"1\" class=\"dataframe\">\n",
       "  <thead>\n",
       "    <tr style=\"text-align: right;\">\n",
       "      <th></th>\n",
       "      <th>City</th>\n",
       "      <th>Lat</th>\n",
       "      <th>Lng</th>\n",
       "      <th>Max Temp</th>\n",
       "      <th>Humidity</th>\n",
       "      <th>Cloudiness</th>\n",
       "      <th>Wind Speed</th>\n",
       "      <th>Country</th>\n",
       "      <th>Date</th>\n",
       "    </tr>\n",
       "  </thead>\n",
       "  <tbody>\n",
       "    <tr>\n",
       "      <th>10</th>\n",
       "      <td>arraial do cabo</td>\n",
       "      <td>-22.9661</td>\n",
       "      <td>-42.0278</td>\n",
       "      <td>77.0</td>\n",
       "      <td>78</td>\n",
       "      <td>0</td>\n",
       "      <td>9.22</td>\n",
       "      <td>BR</td>\n",
       "      <td>2021-04-24 12:39:49</td>\n",
       "    </tr>\n",
       "    <tr>\n",
       "      <th>49</th>\n",
       "      <td>vilhena</td>\n",
       "      <td>-12.7406</td>\n",
       "      <td>-60.1458</td>\n",
       "      <td>73.4</td>\n",
       "      <td>94</td>\n",
       "      <td>0</td>\n",
       "      <td>8.05</td>\n",
       "      <td>BR</td>\n",
       "      <td>2021-04-24 12:39:59</td>\n",
       "    </tr>\n",
       "    <tr>\n",
       "      <th>74</th>\n",
       "      <td>east london</td>\n",
       "      <td>-33.0153</td>\n",
       "      <td>27.9116</td>\n",
       "      <td>73.4</td>\n",
       "      <td>56</td>\n",
       "      <td>0</td>\n",
       "      <td>9.22</td>\n",
       "      <td>ZA</td>\n",
       "      <td>2021-04-24 12:40:08</td>\n",
       "    </tr>\n",
       "    <tr>\n",
       "      <th>172</th>\n",
       "      <td>semme</td>\n",
       "      <td>46.1963</td>\n",
       "      <td>1.5007</td>\n",
       "      <td>71.6</td>\n",
       "      <td>26</td>\n",
       "      <td>0</td>\n",
       "      <td>9.22</td>\n",
       "      <td>FR</td>\n",
       "      <td>2021-04-24 12:40:34</td>\n",
       "    </tr>\n",
       "    <tr>\n",
       "      <th>178</th>\n",
       "      <td>carnarvon</td>\n",
       "      <td>-24.8667</td>\n",
       "      <td>113.6333</td>\n",
       "      <td>73.4</td>\n",
       "      <td>78</td>\n",
       "      <td>0</td>\n",
       "      <td>8.05</td>\n",
       "      <td>AU</td>\n",
       "      <td>2021-04-24 12:40:35</td>\n",
       "    </tr>\n",
       "  </tbody>\n",
       "</table>\n",
       "</div>"
      ],
      "text/plain": [
       "                City      Lat       Lng  Max Temp  Humidity  Cloudiness  \\\n",
       "10   arraial do cabo -22.9661  -42.0278      77.0        78           0   \n",
       "49           vilhena -12.7406  -60.1458      73.4        94           0   \n",
       "74       east london -33.0153   27.9116      73.4        56           0   \n",
       "172            semme  46.1963    1.5007      71.6        26           0   \n",
       "178        carnarvon -24.8667  113.6333      73.4        78           0   \n",
       "\n",
       "     Wind Speed Country                 Date  \n",
       "10         9.22      BR  2021-04-24 12:39:49  \n",
       "49         8.05      BR  2021-04-24 12:39:59  \n",
       "74         9.22      ZA  2021-04-24 12:40:08  \n",
       "172        9.22      FR  2021-04-24 12:40:34  \n",
       "178        8.05      AU  2021-04-24 12:40:35  "
      ]
     },
     "execution_count": 6,
     "metadata": {},
     "output_type": "execute_result"
    }
   ],
   "source": [
    "#Create new DataFrame fitting weather criteria\n",
    "#Narrow down the cities to fit weather conditions.\n",
    "#Drop any rows will null values.\n",
    "#MAx temp < 80 but > 70, wind speed < 10 mph, zero cloudiness - DROP ANY ROWS THAT DON'T MEET ALL 3 CONDITIONS \n",
    "ideal_df = vacay_df.loc[(vacay_df[\"Max Temp\"] <80) & (vacay_df[\"Max Temp\"] >70) & (vacay_df[\"Wind Speed\"] <10) & (vacay_df[\"Cloudiness\"] ==0)]\n",
    "#ideal_df.describe()\n",
    "ideal_df.head()"
   ]
  },
  {
   "cell_type": "markdown",
   "metadata": {},
   "source": [
    "# Hotel Map"
   ]
  },
  {
   "cell_type": "code",
   "execution_count": 7,
   "metadata": {},
   "outputs": [],
   "source": [
    "#Set parameters to search for hotels with 5000 meters.\n",
    "#Hit the Google Places API for each city's coordinates.\n",
    "#Store the first Hotel result into the DataFrame.\n",
    "#Store into variable named hotel_df.\n",
    "#\"TEN OR LESS PINS FOR ALL CITIES IN THE DF\"\n",
    "# \"PINS ARE ALL CLICKABLE TO DISPLAY CITY, COUNTRY, AND HOTEL NAME\""
   ]
  },
  {
   "cell_type": "code",
   "execution_count": 26,
   "metadata": {},
   "outputs": [],
   "source": [
    "Hlat = []\n",
    "Hlon = []\n",
    "Hcountry = []\n",
    "Hcity=[]\n",
    "Hname = []\n",
    "Haddress = []"
   ]
  },
  {
   "cell_type": "code",
   "execution_count": 36,
   "metadata": {},
   "outputs": [
    {
     "name": "stdout",
     "output_type": "stream",
     "text": [
      "The hotel Ocean View Hotel was found with the lat of -22.9587565 and lon of -42.0259149, appending stats.\n",
      "The hotel Hotel Mirage was found with the lat of -12.7406969 and lon of -60.1406974, appending stats.\n",
      "The hotel Blue Lagoon Hotel was found with the lat of -32.9834715 and lon of 27.9510976, appending stats.\n",
      "The hotel Inter-Hotel Alexia was found with the lat of 46.2307752 and lon of 1.5064403, appending stats.\n",
      "The hotel Hospitality Carnarvon was found with the lat of -24.8923413 and lon of 113.6550343, appending stats.\n"
     ]
    },
    {
     "ename": "IndexError",
     "evalue": "list index out of range",
     "output_type": "error",
     "traceback": [
      "\u001b[1;31m---------------------------------------------------------------------------\u001b[0m",
      "\u001b[1;31mIndexError\u001b[0m                                Traceback (most recent call last)",
      "\u001b[1;32m<ipython-input-36-076ff59c4695>\u001b[0m in \u001b[0;36m<module>\u001b[1;34m\u001b[0m\n\u001b[0;32m     19\u001b[0m         \u001b[1;31m#names_etc = name_etc.json()\u001b[0m\u001b[1;33m\u001b[0m\u001b[1;33m\u001b[0m\u001b[1;33m\u001b[0m\u001b[0m\n\u001b[0;32m     20\u001b[0m         \u001b[1;31m#pprint(names_etc)\u001b[0m\u001b[1;33m\u001b[0m\u001b[1;33m\u001b[0m\u001b[1;33m\u001b[0m\u001b[0m\n\u001b[1;32m---> 21\u001b[1;33m         \u001b[0mHname\u001b[0m\u001b[1;33m.\u001b[0m\u001b[0mappend\u001b[0m\u001b[1;33m(\u001b[0m\u001b[0mnames_etc\u001b[0m\u001b[1;33m[\u001b[0m\u001b[1;34m\"results\"\u001b[0m\u001b[1;33m]\u001b[0m\u001b[1;33m[\u001b[0m\u001b[1;36m0\u001b[0m\u001b[1;33m]\u001b[0m\u001b[1;33m[\u001b[0m\u001b[1;34m\"name\"\u001b[0m\u001b[1;33m]\u001b[0m\u001b[1;33m)\u001b[0m\u001b[1;33m\u001b[0m\u001b[1;33m\u001b[0m\u001b[0m\n\u001b[0m\u001b[0;32m     22\u001b[0m         \u001b[0mHlat\u001b[0m\u001b[1;33m.\u001b[0m\u001b[0mappend\u001b[0m\u001b[1;33m(\u001b[0m\u001b[0mnames_etc\u001b[0m\u001b[1;33m[\u001b[0m\u001b[1;34m\"results\"\u001b[0m\u001b[1;33m]\u001b[0m\u001b[1;33m[\u001b[0m\u001b[1;36m0\u001b[0m\u001b[1;33m]\u001b[0m\u001b[1;33m[\u001b[0m\u001b[1;34m\"geometry\"\u001b[0m\u001b[1;33m]\u001b[0m\u001b[1;33m[\u001b[0m\u001b[1;34m\"location\"\u001b[0m\u001b[1;33m]\u001b[0m\u001b[1;33m[\u001b[0m\u001b[1;34m\"lat\"\u001b[0m\u001b[1;33m]\u001b[0m\u001b[1;33m)\u001b[0m\u001b[1;33m\u001b[0m\u001b[1;33m\u001b[0m\u001b[0m\n\u001b[0;32m     23\u001b[0m         \u001b[0mHlon\u001b[0m\u001b[1;33m.\u001b[0m\u001b[0mappend\u001b[0m\u001b[1;33m(\u001b[0m\u001b[0mnames_etc\u001b[0m\u001b[1;33m[\u001b[0m\u001b[1;34m\"results\"\u001b[0m\u001b[1;33m]\u001b[0m\u001b[1;33m[\u001b[0m\u001b[1;36m0\u001b[0m\u001b[1;33m]\u001b[0m\u001b[1;33m[\u001b[0m\u001b[1;34m\"geometry\"\u001b[0m\u001b[1;33m]\u001b[0m\u001b[1;33m[\u001b[0m\u001b[1;34m\"location\"\u001b[0m\u001b[1;33m]\u001b[0m\u001b[1;33m[\u001b[0m\u001b[1;34m\"lng\"\u001b[0m\u001b[1;33m]\u001b[0m\u001b[1;33m)\u001b[0m\u001b[1;33m\u001b[0m\u001b[1;33m\u001b[0m\u001b[0m\n",
      "\u001b[1;31mIndexError\u001b[0m: list index out of range"
     ]
    }
   ],
   "source": [
    "for index, row in ideal_df.iterrows():\n",
    "    try:\n",
    "        lat = row[\"Lat\"]\n",
    "        lng = row[\"Lng\"]\n",
    "        target_coordinates =  f\"{lat},{lng}\"\n",
    "        target_search = \"hotel\"\n",
    "        target_radius = 6000\n",
    "        #target_type = \"hotel\"\n",
    "        \n",
    "        params = {\n",
    "            \"location\": target_coordinates,\n",
    "            \"keyword\": target_search,\n",
    "            \"radius\": target_radius,\n",
    "            #\"type\": target_type,\n",
    "            \"key\": g_key\n",
    "            }   \n",
    "        base_url = \"https://maps.googleapis.com/maps/api/place/nearbysearch/json\"\n",
    "        names_etc = requests.get(base_url, params=params).json()\n",
    "        #names_etc = name_etc.json()\n",
    "        #pprint(names_etc)\n",
    "        Hname.append(names_etc[\"results\"][0][\"name\"])\n",
    "        Hlat.append(names_etc[\"results\"][0][\"geometry\"][\"location\"][\"lat\"])\n",
    "        Hlon.append(names_etc[\"results\"][0][\"geometry\"][\"location\"][\"lng\"])\n",
    "        Hcountry.append(row[\"Country\"])\n",
    "        Hcity.append(row[\"City\"])\n",
    "        print(f\"The hotel {names_etc['results'][0]['name']} was found with the lat of {names_etc['results'][0]['geometry']['location']['lat']} and lon of {names_etc['results'][0]['geometry']['location']['lng']}, appending stats.\")\n",
    "    except KeyError:\n",
    "        print(\"Sorry, that hotel was not found.\")\n",
    "        pass"
   ]
  },
  {
   "cell_type": "code",
   "execution_count": null,
   "metadata": {},
   "outputs": [],
   "source": []
  },
  {
   "cell_type": "code",
   "execution_count": null,
   "metadata": {},
   "outputs": [],
   "source": [
    "\n",
    "#     # Since some data may be missing we incorporate a try-except to skip any that are missing a data point.\n",
    "#     try:\n",
    "#         ideal_df.loc[index, \"Hotel Name\"] = name_etc[\"results\"][0][\"name\"]\n",
    "#         ideal_df.loc address = [\"results\"][\"vicinity\"]\n",
    "#         ideal_df.loc[index, \"Hotel Lat\"] = name_etc[\"results\"][0][\"geometry\"][\"location\"][\"lat\"]\n",
    "#         ideal_df.loc[index, \"Hotel Lon\"] = name_etc[\"results\"][0][\"geometry\"][\"location\"][\"lng\"]\n",
    "#     except (KeyError, IndexError):\n",
    "#         print(\"Missing field/result... skipping.\")"
   ]
  },
  {
   "cell_type": "code",
   "execution_count": null,
   "metadata": {},
   "outputs": [],
   "source": [
    "ideal_df.head(20)"
   ]
  },
  {
   "cell_type": "code",
   "execution_count": null,
   "metadata": {},
   "outputs": [],
   "source": [
    "#Plot markers on top of the heatmap."
   ]
  },
  {
   "cell_type": "code",
   "execution_count": null,
   "metadata": {},
   "outputs": [],
   "source": [
    "############ NOTE: Do not change any of the code in this cell###############\n",
    "####### THIS IS HTML TEMPLATE################\n",
    "\n",
    "# Using the template add the hotel marks to the heatmap\n",
    "info_box_template = \"\"\"\n",
    "<dl>\n",
    "<dt>Name</dt><dd>{Hotel Name}</dd>\n",
    "<dt>City</dt><dd>{City}</dd>\n",
    "<dt>Country</dt><dd>{Country}</dd>\n",
    "</dl>\n",
    "\"\"\"\n",
    "# Store the DataFrame Row\n",
    "# NOTE: be sure to update with your DataFrame name\n",
    "hotel_info = [info_box_template.format(**row) for index, row in hotel_df.iterrows()]\n",
    "locations = hotel_df[[\"Lat\", \"Lng\"]]"
   ]
  },
  {
   "cell_type": "code",
   "execution_count": null,
   "metadata": {},
   "outputs": [],
   "source": []
  },
  {
   "cell_type": "code",
   "execution_count": null,
   "metadata": {},
   "outputs": [],
   "source": [
    "# Add marker layer ontop of heat map\n",
    "\n",
    "\n",
    "# Display figure"
   ]
  },
  {
   "cell_type": "code",
   "execution_count": null,
   "metadata": {},
   "outputs": [],
   "source": []
  },
  {
   "cell_type": "code",
   "execution_count": null,
   "metadata": {},
   "outputs": [],
   "source": []
  },
  {
   "cell_type": "code",
   "execution_count": null,
   "metadata": {},
   "outputs": [],
   "source": []
  },
  {
   "cell_type": "code",
   "execution_count": null,
   "metadata": {},
   "outputs": [],
   "source": []
  }
 ],
 "metadata": {
  "kernelspec": {
   "display_name": "Python 3",
   "language": "python",
   "name": "python3"
  },
  "language_info": {
   "codemirror_mode": {
    "name": "ipython",
    "version": 3
   },
   "file_extension": ".py",
   "mimetype": "text/x-python",
   "name": "python",
   "nbconvert_exporter": "python",
   "pygments_lexer": "ipython3",
   "version": "3.8.5"
  }
 },
 "nbformat": 4,
 "nbformat_minor": 4
}
