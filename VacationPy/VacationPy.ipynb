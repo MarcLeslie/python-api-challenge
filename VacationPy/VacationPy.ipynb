{
 "cells": [
  {
   "cell_type": "code",
   "execution_count": 1,
   "metadata": {},
   "outputs": [],
   "source": [
    "# Dependencies and Setup\n",
    "import matplotlib.pyplot as plt\n",
    "import pandas as pd\n",
    "import numpy as np\n",
    "import requests\n",
    "import gmaps\n",
    "import gmaps.datasets\n",
    "import os\n",
    "import ipywidgets as widgets\n",
    "from pprint import pprint\n",
    "import json"
   ]
  },
  {
   "cell_type": "code",
   "execution_count": 2,
   "metadata": {},
   "outputs": [],
   "source": [
    "# Import API key\n",
    "from config import weather_api_key\n",
    "from config import g_key\n",
    "gmaps.configure(api_key=g_key)"
   ]
  },
  {
   "cell_type": "markdown",
   "metadata": {},
   "source": [
    "# Store Part 1 Results into DF"
   ]
  },
  {
   "cell_type": "code",
   "execution_count": 3,
   "metadata": {},
   "outputs": [
    {
     "data": {
      "text/html": [
       "<div>\n",
       "<style scoped>\n",
       "    .dataframe tbody tr th:only-of-type {\n",
       "        vertical-align: middle;\n",
       "    }\n",
       "\n",
       "    .dataframe tbody tr th {\n",
       "        vertical-align: top;\n",
       "    }\n",
       "\n",
       "    .dataframe thead th {\n",
       "        text-align: right;\n",
       "    }\n",
       "</style>\n",
       "<table border=\"1\" class=\"dataframe\">\n",
       "  <thead>\n",
       "    <tr style=\"text-align: right;\">\n",
       "      <th></th>\n",
       "      <th>City</th>\n",
       "      <th>Lat</th>\n",
       "      <th>Lng</th>\n",
       "      <th>Max Temp</th>\n",
       "      <th>Humidity</th>\n",
       "      <th>Cloudiness</th>\n",
       "      <th>Wind Speed</th>\n",
       "      <th>Country</th>\n",
       "      <th>Date</th>\n",
       "    </tr>\n",
       "  </thead>\n",
       "  <tbody>\n",
       "    <tr>\n",
       "      <th>0</th>\n",
       "      <td>qaanaaq</td>\n",
       "      <td>77.4840</td>\n",
       "      <td>-69.3632</td>\n",
       "      <td>28.60</td>\n",
       "      <td>74</td>\n",
       "      <td>61</td>\n",
       "      <td>4.45</td>\n",
       "      <td>GL</td>\n",
       "      <td>2021-04-25 14:15:23</td>\n",
       "    </tr>\n",
       "    <tr>\n",
       "      <th>1</th>\n",
       "      <td>lavrentiya</td>\n",
       "      <td>65.5833</td>\n",
       "      <td>-171.0000</td>\n",
       "      <td>21.07</td>\n",
       "      <td>88</td>\n",
       "      <td>100</td>\n",
       "      <td>3.91</td>\n",
       "      <td>RU</td>\n",
       "      <td>2021-04-25 14:12:15</td>\n",
       "    </tr>\n",
       "    <tr>\n",
       "      <th>2</th>\n",
       "      <td>koumac</td>\n",
       "      <td>-20.5667</td>\n",
       "      <td>164.2833</td>\n",
       "      <td>75.15</td>\n",
       "      <td>85</td>\n",
       "      <td>100</td>\n",
       "      <td>11.52</td>\n",
       "      <td>NC</td>\n",
       "      <td>2021-04-25 14:15:23</td>\n",
       "    </tr>\n",
       "    <tr>\n",
       "      <th>3</th>\n",
       "      <td>buraydah</td>\n",
       "      <td>26.3260</td>\n",
       "      <td>43.9750</td>\n",
       "      <td>98.60</td>\n",
       "      <td>13</td>\n",
       "      <td>75</td>\n",
       "      <td>10.36</td>\n",
       "      <td>SA</td>\n",
       "      <td>2021-04-25 14:15:24</td>\n",
       "    </tr>\n",
       "    <tr>\n",
       "      <th>4</th>\n",
       "      <td>mahebourg</td>\n",
       "      <td>-20.4081</td>\n",
       "      <td>57.7000</td>\n",
       "      <td>78.80</td>\n",
       "      <td>78</td>\n",
       "      <td>75</td>\n",
       "      <td>13.80</td>\n",
       "      <td>MU</td>\n",
       "      <td>2021-04-25 14:15:24</td>\n",
       "    </tr>\n",
       "  </tbody>\n",
       "</table>\n",
       "</div>"
      ],
      "text/plain": [
       "         City      Lat       Lng  Max Temp  Humidity  Cloudiness  Wind Speed  \\\n",
       "0     qaanaaq  77.4840  -69.3632     28.60        74          61        4.45   \n",
       "1  lavrentiya  65.5833 -171.0000     21.07        88         100        3.91   \n",
       "2      koumac -20.5667  164.2833     75.15        85         100       11.52   \n",
       "3    buraydah  26.3260   43.9750     98.60        13          75       10.36   \n",
       "4   mahebourg -20.4081   57.7000     78.80        78          75       13.80   \n",
       "\n",
       "  Country                 Date  \n",
       "0      GL  2021-04-25 14:15:23  \n",
       "1      RU  2021-04-25 14:12:15  \n",
       "2      NC  2021-04-25 14:15:23  \n",
       "3      SA  2021-04-25 14:15:24  \n",
       "4      MU  2021-04-25 14:15:24  "
      ]
     },
     "execution_count": 3,
     "metadata": {},
     "output_type": "execute_result"
    }
   ],
   "source": [
    "#Store Part I results into DataFrame by loading the csv exported in Part I to a DataFrame\n",
    "vacay_df = pd.read_csv(\"../output_data/cities.csv\")\n",
    "#vacay_df[\"Hotel Name\"]=\"\"\n",
    "vacay_df.head()"
   ]
  },
  {
   "cell_type": "markdown",
   "metadata": {},
   "source": [
    "# Humidity Heatmap"
   ]
  },
  {
   "cell_type": "code",
   "execution_count": 4,
   "metadata": {},
   "outputs": [],
   "source": [
    "locations = vacay_df[[\"Lat\",\"Lng\"]]\n",
    "weights = vacay_df[\"Humidity\"]"
   ]
  },
  {
   "cell_type": "code",
   "execution_count": 5,
   "metadata": {
    "scrolled": true
   },
   "outputs": [
    {
     "data": {
      "application/vnd.jupyter.widget-view+json": {
       "model_id": "a2281f6d5c55472ba1b566c18cdecba2",
       "version_major": 2,
       "version_minor": 0
      },
      "text/plain": [
       "Figure(layout=FigureLayout(height='420px'))"
      ]
     },
     "metadata": {},
     "output_type": "display_data"
    },
    {
     "data": {
      "text/plain": [
       "<Figure size 432x288 with 0 Axes>"
      ]
     },
     "metadata": {},
     "output_type": "display_data"
    }
   ],
   "source": [
    "#Humidity Heatmap THAT DISPLAYS HUMIDITY FOR EVERY CITY FROM PART 1\n",
    "#Use the Lat and Lng as locations and Humidity as the weight.\n",
    "fig1 = gmaps.figure()\n",
    "heat_layer = gmaps.heatmap_layer(locations, weights, dissipating=False, max_intensity=150, point_radius = 4)\n",
    "fig1.add_layer(heat_layer)\n",
    "plt.savefig(\"../output_data/Map1\")\n",
    "fig1"
   ]
  },
  {
   "cell_type": "markdown",
   "metadata": {},
   "source": [
    "# Create New DF Fitting Weather Criteria"
   ]
  },
  {
   "cell_type": "code",
   "execution_count": 6,
   "metadata": {},
   "outputs": [
    {
     "data": {
      "text/html": [
       "<div>\n",
       "<style scoped>\n",
       "    .dataframe tbody tr th:only-of-type {\n",
       "        vertical-align: middle;\n",
       "    }\n",
       "\n",
       "    .dataframe tbody tr th {\n",
       "        vertical-align: top;\n",
       "    }\n",
       "\n",
       "    .dataframe thead th {\n",
       "        text-align: right;\n",
       "    }\n",
       "</style>\n",
       "<table border=\"1\" class=\"dataframe\">\n",
       "  <thead>\n",
       "    <tr style=\"text-align: right;\">\n",
       "      <th></th>\n",
       "      <th>City</th>\n",
       "      <th>Lat</th>\n",
       "      <th>Lng</th>\n",
       "      <th>Max Temp</th>\n",
       "      <th>Humidity</th>\n",
       "      <th>Cloudiness</th>\n",
       "      <th>Wind Speed</th>\n",
       "      <th>Country</th>\n",
       "      <th>Date</th>\n",
       "    </tr>\n",
       "  </thead>\n",
       "  <tbody>\n",
       "    <tr>\n",
       "      <th>129</th>\n",
       "      <td>east london</td>\n",
       "      <td>-33.0153</td>\n",
       "      <td>27.9116</td>\n",
       "      <td>71.60</td>\n",
       "      <td>68</td>\n",
       "      <td>0</td>\n",
       "      <td>6.91</td>\n",
       "      <td>ZA</td>\n",
       "      <td>2021-04-25 14:15:54</td>\n",
       "    </tr>\n",
       "    <tr>\n",
       "      <th>217</th>\n",
       "      <td>richards bay</td>\n",
       "      <td>-28.7830</td>\n",
       "      <td>32.0377</td>\n",
       "      <td>74.55</td>\n",
       "      <td>67</td>\n",
       "      <td>0</td>\n",
       "      <td>7.05</td>\n",
       "      <td>ZA</td>\n",
       "      <td>2021-04-25 14:16:16</td>\n",
       "    </tr>\n",
       "    <tr>\n",
       "      <th>311</th>\n",
       "      <td>guaxupe</td>\n",
       "      <td>-21.3053</td>\n",
       "      <td>-46.7128</td>\n",
       "      <td>73.40</td>\n",
       "      <td>49</td>\n",
       "      <td>0</td>\n",
       "      <td>2.75</td>\n",
       "      <td>BR</td>\n",
       "      <td>2021-04-25 14:16:40</td>\n",
       "    </tr>\n",
       "    <tr>\n",
       "      <th>400</th>\n",
       "      <td>machado</td>\n",
       "      <td>-21.6747</td>\n",
       "      <td>-45.9197</td>\n",
       "      <td>73.40</td>\n",
       "      <td>49</td>\n",
       "      <td>0</td>\n",
       "      <td>1.88</td>\n",
       "      <td>BR</td>\n",
       "      <td>2021-04-25 14:17:02</td>\n",
       "    </tr>\n",
       "  </tbody>\n",
       "</table>\n",
       "</div>"
      ],
      "text/plain": [
       "             City      Lat      Lng  Max Temp  Humidity  Cloudiness  \\\n",
       "129   east london -33.0153  27.9116     71.60        68           0   \n",
       "217  richards bay -28.7830  32.0377     74.55        67           0   \n",
       "311       guaxupe -21.3053 -46.7128     73.40        49           0   \n",
       "400       machado -21.6747 -45.9197     73.40        49           0   \n",
       "\n",
       "     Wind Speed Country                 Date  \n",
       "129        6.91      ZA  2021-04-25 14:15:54  \n",
       "217        7.05      ZA  2021-04-25 14:16:16  \n",
       "311        2.75      BR  2021-04-25 14:16:40  \n",
       "400        1.88      BR  2021-04-25 14:17:02  "
      ]
     },
     "execution_count": 6,
     "metadata": {},
     "output_type": "execute_result"
    }
   ],
   "source": [
    "#Create new DataFrame fitting weather criteria\n",
    "#Narrow down the cities to fit weather conditions.\n",
    "#Drop any rows will null values.\n",
    "#MAx temp < 80 but > 70, wind speed < 10 mph, zero cloudiness - DROP ANY ROWS THAT DON'T MEET ALL 3 CONDITIONS \n",
    "ideal_df = vacay_df.loc[(vacay_df[\"Max Temp\"] <77) & (vacay_df[\"Max Temp\"] >70) & (vacay_df[\"Wind Speed\"] <10) & (vacay_df[\"Cloudiness\"] ==0)]\n",
    "#ideal_df.describe()\n",
    "ideal_df.head()"
   ]
  },
  {
   "cell_type": "markdown",
   "metadata": {},
   "source": [
    "# Hotel Map"
   ]
  },
  {
   "cell_type": "code",
   "execution_count": 7,
   "metadata": {},
   "outputs": [],
   "source": [
    "#Set parameters to search for hotels with 5000 meters.\n",
    "#Hit the Google Places API for each city's coordinates.\n",
    "#Store the first Hotel result into the DataFrame.\n",
    "#Store into variable named hotel_df.\n",
    "#\"TEN OR LESS PINS FOR ALL CITIES IN THE DF\"\n",
    "# \"PINS ARE ALL CLICKABLE TO DISPLAY CITY, COUNTRY, AND HOTEL NAME\""
   ]
  },
  {
   "cell_type": "code",
   "execution_count": 8,
   "metadata": {},
   "outputs": [],
   "source": [
    "Hlat = []\n",
    "Hlon = []\n",
    "Hcountry = []\n",
    "Hcity=[]\n",
    "Hname = []\n",
    "Haddress = []"
   ]
  },
  {
   "cell_type": "code",
   "execution_count": 9,
   "metadata": {},
   "outputs": [
    {
     "name": "stdout",
     "output_type": "stream",
     "text": [
      "The hotel Blue Lagoon Hotel was found with the lat of -32.9834715 and lon of 27.9510976, appending stats.\n",
      "The hotel BON Hotel Waterfront Richards Bay was found with the lat of -28.7932974 and lon of 32.0807935, appending stats.\n",
      "The hotel Class Hotel Guaxupé was found with the lat of -21.3102498 and lon of -46.7085795, appending stats.\n",
      "The hotel Marine Inn Hotel was found with the lat of -21.675579 and lon of -45.921833, appending stats.\n"
     ]
    }
   ],
   "source": [
    "for index, row in ideal_df.iterrows():\n",
    "    try:\n",
    "        lat = row[\"Lat\"]\n",
    "        lng = row[\"Lng\"]\n",
    "        target_coordinates =  f\"{lat},{lng}\"\n",
    "        target_search = \"hotel\"\n",
    "        target_radius = 6500\n",
    "        #target_type = \"hotel\"\n",
    "        \n",
    "        params = {\n",
    "            \"location\": target_coordinates,\n",
    "            \"keyword\": target_search,\n",
    "            \"radius\": target_radius,\n",
    "            #\"type\": target_type,\n",
    "            \"key\": g_key\n",
    "            }   \n",
    "        base_url = \"https://maps.googleapis.com/maps/api/place/nearbysearch/json\"\n",
    "        names_etc = requests.get(base_url, params=params).json()\n",
    "        #names_etc = name_etc.json()\n",
    "        #pprint(names_etc)\n",
    "        Hname.append(names_etc[\"results\"][0][\"name\"])\n",
    "        Hlat.append(names_etc[\"results\"][0][\"geometry\"][\"location\"][\"lat\"])\n",
    "        Hlon.append(names_etc[\"results\"][0][\"geometry\"][\"location\"][\"lng\"])\n",
    "        Hcountry.append(row[\"Country\"])\n",
    "        Hcity.append(row[\"City\"])\n",
    "        print(f\"The hotel {names_etc['results'][0]['name']} was found with the lat of {names_etc['results'][0]['geometry']['location']['lat']} and lon of {names_etc['results'][0]['geometry']['location']['lng']}, appending stats.\")\n",
    "    except KeyError:\n",
    "        print(\"Sorry, that hotel was not found.\")\n",
    "        pass"
   ]
  },
  {
   "cell_type": "code",
   "execution_count": 10,
   "metadata": {},
   "outputs": [
    {
     "data": {
      "text/html": [
       "<div>\n",
       "<style scoped>\n",
       "    .dataframe tbody tr th:only-of-type {\n",
       "        vertical-align: middle;\n",
       "    }\n",
       "\n",
       "    .dataframe tbody tr th {\n",
       "        vertical-align: top;\n",
       "    }\n",
       "\n",
       "    .dataframe thead th {\n",
       "        text-align: right;\n",
       "    }\n",
       "</style>\n",
       "<table border=\"1\" class=\"dataframe\">\n",
       "  <thead>\n",
       "    <tr style=\"text-align: right;\">\n",
       "      <th></th>\n",
       "      <th>Hotel Name</th>\n",
       "      <th>Hotel Lat</th>\n",
       "      <th>Hotel Lng</th>\n",
       "      <th>Hotel Country</th>\n",
       "      <th>Hotel City</th>\n",
       "    </tr>\n",
       "  </thead>\n",
       "  <tbody>\n",
       "    <tr>\n",
       "      <th>0</th>\n",
       "      <td>Blue Lagoon Hotel</td>\n",
       "      <td>-32.983472</td>\n",
       "      <td>27.951098</td>\n",
       "      <td>ZA</td>\n",
       "      <td>east london</td>\n",
       "    </tr>\n",
       "    <tr>\n",
       "      <th>1</th>\n",
       "      <td>BON Hotel Waterfront Richards Bay</td>\n",
       "      <td>-28.793297</td>\n",
       "      <td>32.080793</td>\n",
       "      <td>ZA</td>\n",
       "      <td>richards bay</td>\n",
       "    </tr>\n",
       "    <tr>\n",
       "      <th>2</th>\n",
       "      <td>Class Hotel Guaxupé</td>\n",
       "      <td>-21.310250</td>\n",
       "      <td>-46.708579</td>\n",
       "      <td>BR</td>\n",
       "      <td>guaxupe</td>\n",
       "    </tr>\n",
       "    <tr>\n",
       "      <th>3</th>\n",
       "      <td>Marine Inn Hotel</td>\n",
       "      <td>-21.675579</td>\n",
       "      <td>-45.921833</td>\n",
       "      <td>BR</td>\n",
       "      <td>machado</td>\n",
       "    </tr>\n",
       "  </tbody>\n",
       "</table>\n",
       "</div>"
      ],
      "text/plain": [
       "                          Hotel Name  Hotel Lat  Hotel Lng Hotel Country  \\\n",
       "0                  Blue Lagoon Hotel -32.983472  27.951098            ZA   \n",
       "1  BON Hotel Waterfront Richards Bay -28.793297  32.080793            ZA   \n",
       "2                Class Hotel Guaxupé -21.310250 -46.708579            BR   \n",
       "3                   Marine Inn Hotel -21.675579 -45.921833            BR   \n",
       "\n",
       "     Hotel City  \n",
       "0   east london  \n",
       "1  richards bay  \n",
       "2       guaxupe  \n",
       "3       machado  "
      ]
     },
     "execution_count": 10,
     "metadata": {},
     "output_type": "execute_result"
    }
   ],
   "source": [
    "hotel_df = pd.DataFrame({\"Hotel Name\": Hname, \n",
    "                       \"Hotel Lat\" : Hlat,\n",
    "                       \"Hotel Lng\" : Hlon,\n",
    "                       \"Hotel Country\": Hcountry,\n",
    "                       \"Hotel City\" : Hcity\n",
    "                        })\n",
    "#all_df[\"Date\"] = pd.to_datetime(all_df[\"Date\"], unit ='s')\n",
    "hotel_df.head(20)"
   ]
  },
  {
   "cell_type": "code",
   "execution_count": 11,
   "metadata": {},
   "outputs": [],
   "source": [
    "############ NOTE: Do not change any of the code in this cell###############\n",
    "####### THIS IS HTML TEMPLATE################\n",
    "\n",
    "# Using the template add the hotel marks to the heatmap\n",
    "info_box_template = \"\"\"\n",
    "<dl>\n",
    "<dt>Name</dt><dd>{Hotel Name}</dd>\n",
    "<dt>City</dt><dd>{Hotel City}</dd>\n",
    "<dt>Country</dt><dd>{Hotel Country}</dd>\n",
    "</dl>\n",
    "\"\"\"\n",
    "# Store the DataFrame Row\n",
    "# NOTE: be sure to update with your DataFrame name\n",
    "hotel_info = [info_box_template.format(**row) for index, row in hotel_df.iterrows()]\n",
    "locations = hotel_df[['Hotel Lat', 'Hotel Lng']]\n",
    "#hotel_info"
   ]
  },
  {
   "cell_type": "code",
   "execution_count": 12,
   "metadata": {},
   "outputs": [
    {
     "data": {
      "application/vnd.jupyter.widget-view+json": {
       "model_id": "a2281f6d5c55472ba1b566c18cdecba2",
       "version_major": 2,
       "version_minor": 0
      },
      "text/plain": [
       "Figure(layout=FigureLayout(height='420px'))"
      ]
     },
     "metadata": {},
     "output_type": "display_data"
    }
   ],
   "source": [
    "# \"PINS ARE ALL CLICKABLE TO DISPLAY CITY, COUNTRY, AND HOTEL NAME\"\n",
    "fig1\n",
    "\n",
    "#fig1 = gmaps.figure()\n",
    "markers = gmaps.marker_layer(locations,info_box_content=hotel_info)\n",
    "fig1.add_layer(markers)\n",
    "fig1"
   ]
  },
  {
   "cell_type": "code",
   "execution_count": null,
   "metadata": {},
   "outputs": [],
   "source": []
  }
 ],
 "metadata": {
  "kernelspec": {
   "display_name": "Python 3",
   "language": "python",
   "name": "python3"
  },
  "language_info": {
   "codemirror_mode": {
    "name": "ipython",
    "version": 3
   },
   "file_extension": ".py",
   "mimetype": "text/x-python",
   "name": "python",
   "nbconvert_exporter": "python",
   "pygments_lexer": "ipython3",
   "version": "3.8.5"
  }
 },
 "nbformat": 4,
 "nbformat_minor": 4
}
