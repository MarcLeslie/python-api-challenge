{
 "cells": [
  {
   "cell_type": "code",
   "execution_count": 1,
   "metadata": {},
   "outputs": [],
   "source": [
    "# Dependencies and Setup\n",
    "import matplotlib.pyplot as plt\n",
    "import pandas as pd\n",
    "import numpy as np\n",
    "import requests\n",
    "import gmaps\n",
    "import gmaps.datasets\n",
    "import os\n",
    "import ipywidgets as widgets"
   ]
  },
  {
   "cell_type": "code",
   "execution_count": 2,
   "metadata": {},
   "outputs": [],
   "source": [
    "# Import API key\n",
    "from config import weather_api_key\n",
    "from config import g_key\n",
    "gmaps.configure(api_key=g_key)"
   ]
  },
  {
   "cell_type": "markdown",
   "metadata": {},
   "source": [
    "# Store Part 1 Results into DF"
   ]
  },
  {
   "cell_type": "code",
   "execution_count": 3,
   "metadata": {},
   "outputs": [
    {
     "data": {
      "text/html": [
       "<div>\n",
       "<style scoped>\n",
       "    .dataframe tbody tr th:only-of-type {\n",
       "        vertical-align: middle;\n",
       "    }\n",
       "\n",
       "    .dataframe tbody tr th {\n",
       "        vertical-align: top;\n",
       "    }\n",
       "\n",
       "    .dataframe thead th {\n",
       "        text-align: right;\n",
       "    }\n",
       "</style>\n",
       "<table border=\"1\" class=\"dataframe\">\n",
       "  <thead>\n",
       "    <tr style=\"text-align: right;\">\n",
       "      <th></th>\n",
       "      <th>City</th>\n",
       "      <th>Lat</th>\n",
       "      <th>Lng</th>\n",
       "      <th>Max Temp</th>\n",
       "      <th>Humidity</th>\n",
       "      <th>Cloudiness</th>\n",
       "      <th>Wind Speed</th>\n",
       "      <th>Country</th>\n",
       "      <th>Date</th>\n",
       "    </tr>\n",
       "  </thead>\n",
       "  <tbody>\n",
       "    <tr>\n",
       "      <th>0</th>\n",
       "      <td>cape town</td>\n",
       "      <td>-33.9258</td>\n",
       "      <td>18.4232</td>\n",
       "      <td>75.00</td>\n",
       "      <td>56</td>\n",
       "      <td>0</td>\n",
       "      <td>12.66</td>\n",
       "      <td>ZA</td>\n",
       "      <td>2021-04-23 12:16:20</td>\n",
       "    </tr>\n",
       "    <tr>\n",
       "      <th>1</th>\n",
       "      <td>lavrentiya</td>\n",
       "      <td>65.5833</td>\n",
       "      <td>-171.0000</td>\n",
       "      <td>24.53</td>\n",
       "      <td>70</td>\n",
       "      <td>100</td>\n",
       "      <td>3.58</td>\n",
       "      <td>RU</td>\n",
       "      <td>2021-04-23 12:12:15</td>\n",
       "    </tr>\n",
       "    <tr>\n",
       "      <th>2</th>\n",
       "      <td>zonguldak</td>\n",
       "      <td>41.2500</td>\n",
       "      <td>31.8333</td>\n",
       "      <td>69.80</td>\n",
       "      <td>32</td>\n",
       "      <td>75</td>\n",
       "      <td>11.50</td>\n",
       "      <td>TR</td>\n",
       "      <td>2021-04-23 12:16:20</td>\n",
       "    </tr>\n",
       "    <tr>\n",
       "      <th>3</th>\n",
       "      <td>jamestown</td>\n",
       "      <td>42.0970</td>\n",
       "      <td>-79.2353</td>\n",
       "      <td>36.00</td>\n",
       "      <td>80</td>\n",
       "      <td>1</td>\n",
       "      <td>10.36</td>\n",
       "      <td>US</td>\n",
       "      <td>2021-04-23 12:13:35</td>\n",
       "    </tr>\n",
       "    <tr>\n",
       "      <th>4</th>\n",
       "      <td>south venice</td>\n",
       "      <td>27.0531</td>\n",
       "      <td>-82.4243</td>\n",
       "      <td>64.99</td>\n",
       "      <td>94</td>\n",
       "      <td>1</td>\n",
       "      <td>10.36</td>\n",
       "      <td>US</td>\n",
       "      <td>2021-04-23 12:16:21</td>\n",
       "    </tr>\n",
       "  </tbody>\n",
       "</table>\n",
       "</div>"
      ],
      "text/plain": [
       "           City      Lat       Lng  Max Temp  Humidity  Cloudiness  \\\n",
       "0     cape town -33.9258   18.4232     75.00        56           0   \n",
       "1    lavrentiya  65.5833 -171.0000     24.53        70         100   \n",
       "2     zonguldak  41.2500   31.8333     69.80        32          75   \n",
       "3     jamestown  42.0970  -79.2353     36.00        80           1   \n",
       "4  south venice  27.0531  -82.4243     64.99        94           1   \n",
       "\n",
       "   Wind Speed Country                 Date  \n",
       "0       12.66      ZA  2021-04-23 12:16:20  \n",
       "1        3.58      RU  2021-04-23 12:12:15  \n",
       "2       11.50      TR  2021-04-23 12:16:20  \n",
       "3       10.36      US  2021-04-23 12:13:35  \n",
       "4       10.36      US  2021-04-23 12:16:21  "
      ]
     },
     "execution_count": 3,
     "metadata": {},
     "output_type": "execute_result"
    }
   ],
   "source": [
    "#Store Part I results into DataFrame by loading the csv exported in Part I to a DataFrame\n",
    "vacay_df = pd.read_csv(\"../output_data/cities.csv\")\n",
    "vacay_df.head()"
   ]
  },
  {
   "cell_type": "markdown",
   "metadata": {},
   "source": [
    "# Humidity Heatmap"
   ]
  },
  {
   "cell_type": "code",
   "execution_count": 4,
   "metadata": {},
   "outputs": [],
   "source": [
    "locations = vacay_df[[\"Lat\",\"Lng\"]]\n",
    "weights = vacay_df[\"Humidity\"]"
   ]
  },
  {
   "cell_type": "code",
   "execution_count": 33,
   "metadata": {},
   "outputs": [
    {
     "data": {
      "application/vnd.jupyter.widget-view+json": {
       "model_id": "2b61e98ef2444d7b8d1513579cd27ac5",
       "version_major": 2,
       "version_minor": 0
      },
      "text/plain": [
       "Figure(layout=FigureLayout(height='420px'))"
      ]
     },
     "metadata": {},
     "output_type": "display_data"
    }
   ],
   "source": [
    "#Humidity Heatmap THAT DISPLAYS HUMIDITY FOR EVERY CITY FROM PART 1\n",
    "#Configure gmaps.\n",
    "#Use the Lat and Lng as locations and Humidity as the weight.\n",
    "#Add Heatmap layer to map.\n",
    "fig = gmaps.figure()\n",
    "heat_layer = gmaps.heatmap_layer(locations, weights, dissipating=False, max_intensity=300, point_radius = 5)\n",
    "fig.add_layer(heat_layer)\n",
    "#plt.savefig(\"../output_data/Map1\")\n",
    "fig\n",
    "####I HAVE NO CLUE IF THIS IS RIGHT OR NOT########"
   ]
  },
  {
   "cell_type": "markdown",
   "metadata": {},
   "source": [
    "# Create New DF Fitting Weather Criteria"
   ]
  },
  {
   "cell_type": "code",
   "execution_count": 39,
   "metadata": {},
   "outputs": [
    {
     "data": {
      "text/html": [
       "<div>\n",
       "<style scoped>\n",
       "    .dataframe tbody tr th:only-of-type {\n",
       "        vertical-align: middle;\n",
       "    }\n",
       "\n",
       "    .dataframe tbody tr th {\n",
       "        vertical-align: top;\n",
       "    }\n",
       "\n",
       "    .dataframe thead th {\n",
       "        text-align: right;\n",
       "    }\n",
       "</style>\n",
       "<table border=\"1\" class=\"dataframe\">\n",
       "  <thead>\n",
       "    <tr style=\"text-align: right;\">\n",
       "      <th></th>\n",
       "      <th>Lat</th>\n",
       "      <th>Lng</th>\n",
       "      <th>Max Temp</th>\n",
       "      <th>Humidity</th>\n",
       "      <th>Cloudiness</th>\n",
       "      <th>Wind Speed</th>\n",
       "    </tr>\n",
       "  </thead>\n",
       "  <tbody>\n",
       "    <tr>\n",
       "      <th>count</th>\n",
       "      <td>6.00000</td>\n",
       "      <td>6.000000</td>\n",
       "      <td>6.000000</td>\n",
       "      <td>6.000000</td>\n",
       "      <td>6.0</td>\n",
       "      <td>6.000000</td>\n",
       "    </tr>\n",
       "    <tr>\n",
       "      <th>mean</th>\n",
       "      <td>6.23175</td>\n",
       "      <td>-22.998867</td>\n",
       "      <td>73.568333</td>\n",
       "      <td>68.500000</td>\n",
       "      <td>0.0</td>\n",
       "      <td>5.433333</td>\n",
       "    </tr>\n",
       "    <tr>\n",
       "      <th>std</th>\n",
       "      <td>28.02708</td>\n",
       "      <td>57.544864</td>\n",
       "      <td>2.347854</td>\n",
       "      <td>18.501351</td>\n",
       "      <td>0.0</td>\n",
       "      <td>3.182035</td>\n",
       "    </tr>\n",
       "    <tr>\n",
       "      <th>min</th>\n",
       "      <td>-33.01170</td>\n",
       "      <td>-91.916700</td>\n",
       "      <td>71.600000</td>\n",
       "      <td>46.000000</td>\n",
       "      <td>0.0</td>\n",
       "      <td>1.990000</td>\n",
       "    </tr>\n",
       "    <tr>\n",
       "      <th>25%</th>\n",
       "      <td>-13.69315</td>\n",
       "      <td>-74.351775</td>\n",
       "      <td>72.050000</td>\n",
       "      <td>54.500000</td>\n",
       "      <td>0.0</td>\n",
       "      <td>3.095000</td>\n",
       "    </tr>\n",
       "    <tr>\n",
       "      <th>50%</th>\n",
       "      <td>12.22415</td>\n",
       "      <td>-11.553450</td>\n",
       "      <td>73.400000</td>\n",
       "      <td>69.000000</td>\n",
       "      <td>0.0</td>\n",
       "      <td>4.595000</td>\n",
       "    </tr>\n",
       "    <tr>\n",
       "      <th>75%</th>\n",
       "      <td>27.20000</td>\n",
       "      <td>25.497825</td>\n",
       "      <td>73.400000</td>\n",
       "      <td>79.750000</td>\n",
       "      <td>0.0</td>\n",
       "      <td>8.352500</td>\n",
       "    </tr>\n",
       "    <tr>\n",
       "      <th>max</th>\n",
       "      <td>36.09420</td>\n",
       "      <td>34.466700</td>\n",
       "      <td>78.010000</td>\n",
       "      <td>94.000000</td>\n",
       "      <td>0.0</td>\n",
       "      <td>9.220000</td>\n",
       "    </tr>\n",
       "  </tbody>\n",
       "</table>\n",
       "</div>"
      ],
      "text/plain": [
       "            Lat        Lng   Max Temp   Humidity  Cloudiness  Wind Speed\n",
       "count   6.00000   6.000000   6.000000   6.000000         6.0    6.000000\n",
       "mean    6.23175 -22.998867  73.568333  68.500000         0.0    5.433333\n",
       "std    28.02708  57.544864   2.347854  18.501351         0.0    3.182035\n",
       "min   -33.01170 -91.916700  71.600000  46.000000         0.0    1.990000\n",
       "25%   -13.69315 -74.351775  72.050000  54.500000         0.0    3.095000\n",
       "50%    12.22415 -11.553450  73.400000  69.000000         0.0    4.595000\n",
       "75%    27.20000  25.497825  73.400000  79.750000         0.0    8.352500\n",
       "max    36.09420  34.466700  78.010000  94.000000         0.0    9.220000"
      ]
     },
     "execution_count": 39,
     "metadata": {},
     "output_type": "execute_result"
    }
   ],
   "source": [
    "#Create new DataFrame fitting weather criteria\n",
    "#Narrow down the cities to fit weather conditions.\n",
    "#Drop any rows will null values.\n",
    "#MAx temp < 80 but > 70, wind speed < 10 mph, zero cloudiness - DROP ANY ROWS THAT DON'T MEET ALL 3 CONDITIONS \n",
    "ideal_df = vacay_df.loc[(vacay_df[\"Max Temp\"] <80) & (vacay_df[\"Max Temp\"] >70) & (vacay_df[\"Wind Speed\"] <10) & (vacay_df[\"Cloudiness\"] ==0)]\n",
    "ideal_df.describe()"
   ]
  },
  {
   "cell_type": "markdown",
   "metadata": {},
   "source": [
    "# Hotel Map"
   ]
  },
  {
   "cell_type": "code",
   "execution_count": null,
   "metadata": {},
   "outputs": [],
   "source": [
    "#Hotel Map\n",
    "#Store into variable named hotel_df.\n",
    "#\"TEN OR LESS PINS FOR ALL CITIES IN THE DF\"\n",
    "#Add a \"Hotel Name\" column to the DataFrame.\n",
    "#Set parameters to search for hotels with 5000 meters.\n",
    "#Hit the Google Places API for each city's coordinates.\n",
    "#Store the first Hotel result into the DataFrame.\n",
    "#Plot markers on top of the heatmap."
   ]
  },
  {
   "cell_type": "code",
   "execution_count": null,
   "metadata": {},
   "outputs": [],
   "source": [
    "############ NOTE: Do not change any of the code in this cell###############\n",
    "\n",
    "# Using the template add the hotel marks to the heatmap\n",
    "info_box_template = \"\"\"\n",
    "<dl>\n",
    "<dt>Name</dt><dd>{Hotel Name}</dd>\n",
    "<dt>City</dt><dd>{City}</dd>\n",
    "<dt>Country</dt><dd>{Country}</dd>\n",
    "</dl>\n",
    "\"\"\"\n",
    "# Store the DataFrame Row\n",
    "# NOTE: be sure to update with your DataFrame name\n",
    "hotel_info = [info_box_template.format(**row) for index, row in hotel_df.iterrows()]\n",
    "locations = hotel_df[[\"Lat\", \"Lng\"]]"
   ]
  },
  {
   "cell_type": "code",
   "execution_count": null,
   "metadata": {},
   "outputs": [],
   "source": [
    "# Add marker layer ontop of heat map\n",
    "\n",
    "\n",
    "# Display figure"
   ]
  },
  {
   "cell_type": "code",
   "execution_count": null,
   "metadata": {},
   "outputs": [],
   "source": []
  },
  {
   "cell_type": "code",
   "execution_count": null,
   "metadata": {},
   "outputs": [],
   "source": []
  },
  {
   "cell_type": "code",
   "execution_count": null,
   "metadata": {},
   "outputs": [],
   "source": []
  }
 ],
 "metadata": {
  "kernelspec": {
   "display_name": "Python 3",
   "language": "python",
   "name": "python3"
  },
  "language_info": {
   "codemirror_mode": {
    "name": "ipython",
    "version": 3
   },
   "file_extension": ".py",
   "mimetype": "text/x-python",
   "name": "python",
   "nbconvert_exporter": "python",
   "pygments_lexer": "ipython3",
   "version": "3.8.5"
  }
 },
 "nbformat": 4,
 "nbformat_minor": 4
}
