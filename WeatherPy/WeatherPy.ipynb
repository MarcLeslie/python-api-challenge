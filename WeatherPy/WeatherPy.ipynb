{
 "cells": [
  {
   "cell_type": "code",
   "execution_count": 1,
   "metadata": {},
   "outputs": [],
   "source": [
    "# Dependencies and Setup\n",
    "import matplotlib.pyplot as plt\n",
    "import pandas as pd\n",
    "import numpy as np\n",
    "import requests\n",
    "import time\n",
    "from scipy.stats import linregress\n",
    "from pprint import pprint"
   ]
  },
  {
   "cell_type": "code",
   "execution_count": 2,
   "metadata": {},
   "outputs": [],
   "source": [
    "# Import API key\n",
    "from config import weather_api_key"
   ]
  },
  {
   "cell_type": "code",
   "execution_count": 3,
   "metadata": {},
   "outputs": [],
   "source": [
    "# Incorporated citipy to determine city based on latitude and longitude\n",
    "from citipy import citipy"
   ]
  },
  {
   "cell_type": "code",
   "execution_count": 4,
   "metadata": {},
   "outputs": [],
   "source": [
    "# Output File (CSV)\n",
    "output_data_file = \"output_data/cities.csv\""
   ]
  },
  {
   "cell_type": "code",
   "execution_count": 5,
   "metadata": {},
   "outputs": [],
   "source": [
    "# Range of latitudes and longitudes\n",
    "lat_range = (-90, 90)\n",
    "lng_range = (-180, 180)"
   ]
  },
  {
   "cell_type": "markdown",
   "metadata": {},
   "source": [
    "# Generate Cities List"
   ]
  },
  {
   "cell_type": "code",
   "execution_count": 14,
   "metadata": {},
   "outputs": [
    {
     "data": {
      "text/plain": [
       "624"
      ]
     },
     "execution_count": 14,
     "metadata": {},
     "output_type": "execute_result"
    }
   ],
   "source": [
    " # List for holding lat_lngs and cities\n",
    "lat_lngs = []\n",
    "cities = []\n",
    "\n",
    "# Create a set of random lat and lng combinations\n",
    "############### CHANGE SIZE TO 1500 WHEN DONE#######################\n",
    "lats = np.random.uniform(lat_range[0], lat_range[1], size=1500)\n",
    "lngs = np.random.uniform(lng_range[0], lng_range[1], size=1500)\n",
    "lat_lngs = zip(lats, lngs)\n",
    "\n",
    "# Identify nearest city for each lat, lng combination\n",
    "for lat_lng in lat_lngs:\n",
    "    city = citipy.nearest_city(lat_lng[0], lat_lng[1]).city_name\n",
    "    \n",
    "    # If the city is unique, then add it to a our cities list\n",
    "    if city not in cities:\n",
    "        cities.append(city)\n",
    "\n",
    "# Print the city count to confirm sufficient count\n",
    "len(cities)\n",
    "#pprint(cities)"
   ]
  },
  {
   "cell_type": "markdown",
   "metadata": {},
   "source": [
    "# Perform API Calls"
   ]
  },
  {
   "cell_type": "code",
   "execution_count": 15,
   "metadata": {},
   "outputs": [],
   "source": [
    "lat = []\n",
    "lon = []\n",
    "temp = []\n",
    "wind_speed = []\n",
    "max_temp = []\n",
    "humidity = []\n",
    "clouds = []\n",
    "country = []\n",
    "city_dt = []\n",
    "name = []\n",
    "id =[]\n",
    "actual_city=[]"
   ]
  },
  {
   "cell_type": "code",
   "execution_count": 16,
   "metadata": {},
   "outputs": [],
   "source": [
    "url = \"http://api.openweathermap.org/data/2.5/weather?\"\n",
    "units = \"imperial\"\n",
    "city = cities\n",
    "query_url = f\"{url}appid={weather_api_key}&units={units}&q=\""
   ]
  },
  {
   "cell_type": "code",
   "execution_count": 19,
   "metadata": {},
   "outputs": [
    {
     "name": "stdout",
     "output_type": "stream",
     "text": [
      "The city Gambēla was found with the ID of 337405, appending stats.\n",
      "The city Lamesa was found with the ID of 5524849, appending stats.\n",
      "The city Nikolskoye was found with the ID of 546105, appending stats.\n",
      "The city Butaritari was found with the ID of 2110227, appending stats.\n",
      "The city Port Hedland was found with the ID of 2063042, appending stats.\n",
      "The city Altos del Rosario was found with the ID of 3792378, appending stats.\n",
      "The city Busselton was found with the ID of 2075265, appending stats.\n",
      "The city Sehithwa was found with the ID of 933109, appending stats.\n",
      "The city Taksimo was found with the ID of 2015701, appending stats.\n",
      "The city Hobart was found with the ID of 2163355, appending stats.\n",
      "The city Pisco was found with the ID of 3932145, appending stats.\n",
      "The city Port Alfred was found with the ID of 964432, appending stats.\n",
      "The city Panzhihua was found with the ID of 6929460, appending stats.\n",
      "The city Avarua was found with the ID of 4035715, appending stats.\n",
      "The city Wahiawā was found with the ID of 5853992, appending stats.\n",
      "The city Shalinskoye was found with the ID of 1492466, appending stats.\n",
      "Sorrry, that city was not found.\n",
      "The city Beloha was found with the ID of 1067565, appending stats.\n",
      "The city Bollnäs was found with the ID of 2720679, appending stats.\n",
      "The city São João da Barra was found with the ID of 3448903, appending stats.\n",
      "The city Vaini was found with the ID of 4032243, appending stats.\n",
      "The city West Bay was found with the ID of 3580477, appending stats.\n",
      "The city Oddur was found with the ID of 49747, appending stats.\n",
      "The city Taoudenni was found with the ID of 2450173, appending stats.\n",
      "The city Talnakh was found with the ID of 1490256, appending stats.\n",
      "Sorrry, that city was not found.\n",
      "The city Rikitea was found with the ID of 4030556, appending stats.\n",
      "Sorrry, that city was not found.\n",
      "The city Fairbanks was found with the ID of 5861897, appending stats.\n",
      "The city Hong Kong was found with the ID of 1819729, appending stats.\n",
      "The city Bluff was found with the ID of 2206939, appending stats.\n",
      "The city Punta Arenas was found with the ID of 3874787, appending stats.\n",
      "The city Faya was found with the ID of 110690, appending stats.\n",
      "Sorrry, that city was not found.\n",
      "The city Atuona was found with the ID of 4020109, appending stats.\n",
      "The city Wajir was found with the ID of 178443, appending stats.\n",
      "The city Asău was found with the ID of 686090, appending stats.\n",
      "The city Dikson was found with the ID of 1507390, appending stats.\n",
      "The city Chui was found with the ID of 3443061, appending stats.\n",
      "The city Tuktoyaktuk was found with the ID of 6170031, appending stats.\n",
      "The city Isil'kul' was found with the ID of 1505438, appending stats.\n",
      "The city Jamestown was found with the ID of 5122534, appending stats.\n",
      "The city Upernavik was found with the ID of 3418910, appending stats.\n",
      "The city Severo-Kuril'sk was found with the ID of 2121385, appending stats.\n",
      "The city Arlit was found with the ID of 2447513, appending stats.\n",
      "The city Benguela was found with the ID of 3351663, appending stats.\n",
      "The city Anadyr was found with the ID of 2127202, appending stats.\n",
      "The city Cap Malheureux was found with the ID of 934649, appending stats.\n",
      "The city Longkou was found with the ID of 1802550, appending stats.\n",
      "Sorrry, that city was not found.\n",
      "The city Zhangaözen was found with the ID of 607610, appending stats.\n",
      "The city Bay Roberts was found with the ID of 5895424, appending stats.\n",
      "Sorrry, that city was not found.\n",
      "The city Tiksi was found with the ID of 2015306, appending stats.\n",
      "The city Torbay was found with the ID of 6167817, appending stats.\n",
      "The city Baruun-Urt was found with the ID of 2032614, appending stats.\n",
      "The city Muzhi was found with the ID of 1498161, appending stats.\n",
      "Sorrry, that city was not found.\n",
      "The city Payo was found with the ID of 1638775, appending stats.\n",
      "Sorrry, that city was not found.\n",
      "The city Port Lincoln was found with the ID of 2063036, appending stats.\n",
      "The city Port Hardy was found with the ID of 6111862, appending stats.\n",
      "The city Eyl was found with the ID of 60019, appending stats.\n",
      "The city Quatre Cocos was found with the ID of 1106643, appending stats.\n",
      "The city Roebourne was found with the ID of 2062276, appending stats.\n",
      "The city Kruisfontein was found with the ID of 986717, appending stats.\n",
      "The city Khatanga was found with the ID of 2022572, appending stats.\n",
      "The city Vao was found with the ID of 2137773, appending stats.\n",
      "The city Nālūt was found with the ID of 2214432, appending stats.\n",
      "The city Lake Wales was found with the ID of 4161400, appending stats.\n",
      "The city New Norfolk was found with the ID of 2155415, appending stats.\n",
      "The city Port Hawkesbury was found with the ID of 6111867, appending stats.\n",
      "The city Vila Real de Santo António was found with the ID of 2261598, appending stats.\n",
      "The city Carballo was found with the ID of 3126369, appending stats.\n",
      "The city Ushuaia was found with the ID of 3833367, appending stats.\n",
      "The city Oistins was found with the ID of 3373652, appending stats.\n",
      "The city Puerto Ayora was found with the ID of 3652764, appending stats.\n",
      "The city Pangody was found with the ID of 1495626, appending stats.\n",
      "The city Cape Town was found with the ID of 3369157, appending stats.\n",
      "The city Mataura was found with the ID of 6201424, appending stats.\n",
      "Sorrry, that city was not found.\n",
      "Sorrry, that city was not found.\n",
      "The city Katsuura was found with the ID of 2112309, appending stats.\n",
      "The city Puerto Madryn was found with the ID of 3840092, appending stats.\n",
      "The city Kapaa was found with the ID of 5848280, appending stats.\n",
      "The city Cabildo was found with the ID of 3863596, appending stats.\n",
      "The city Kurisove was found with the ID of 697450, appending stats.\n",
      "The city Hilo was found with the ID of 5855927, appending stats.\n",
      "The city Natal was found with the ID of 3394023, appending stats.\n",
      "The city Puri was found with the ID of 1259184, appending stats.\n",
      "The city Mahébourg was found with the ID of 934322, appending stats.\n",
      "The city Fort Nelson was found with the ID of 5955902, appending stats.\n",
      "Sorrry, that city was not found.\n",
      "The city Atambua was found with the ID of 1651103, appending stats.\n",
      "The city Velsk was found with the ID of 475938, appending stats.\n",
      "The city Bonoua was found with the ID of 2291087, appending stats.\n",
      "The city Huron was found with the ID of 5158275, appending stats.\n",
      "The city Saint-Joseph was found with the ID of 6690296, appending stats.\n",
      "The city Ayna was found with the ID of 3946962, appending stats.\n",
      "The city Abu Samrah was found with the ID of 172515, appending stats.\n",
      "The city Geraldton was found with the ID of 2070998, appending stats.\n",
      "The city Mackay was found with the ID of 2159220, appending stats.\n",
      "Sorrry, that city was not found.\n",
      "Sorrry, that city was not found.\n",
      "The city Vila Velha was found with the ID of 3445026, appending stats.\n",
      "The city Hasaki was found with the ID of 2112802, appending stats.\n",
      "The city Pingzhuang was found with the ID of 2035453, appending stats.\n",
      "The city Oranjemund was found with the ID of 3354071, appending stats.\n",
      "The city Nome was found with the ID of 5870133, appending stats.\n",
      "The city Leningradskiy was found with the ID of 2123814, appending stats.\n",
      "The city Porkhov was found with the ID of 506278, appending stats.\n",
      "The city Yulara was found with the ID of 6355222, appending stats.\n",
      "The city Thinadhoo was found with the ID of 1337610, appending stats.\n",
      "The city Ribeira Grande was found with the ID of 3372707, appending stats.\n",
      "The city Virginia Beach was found with the ID of 4791259, appending stats.\n",
      "The city Hermanus was found with the ID of 3366880, appending stats.\n",
      "The city Cap-aux-Meules was found with the ID of 5915327, appending stats.\n",
      "The city Quang Ngai was found with the ID of 1568770, appending stats.\n",
      "The city Saint-Philippe was found with the ID of 935215, appending stats.\n",
      "The city Manono was found with the ID of 209598, appending stats.\n",
      "The city Maryville was found with the ID of 4639848, appending stats.\n",
      "The city Lebu was found with the ID of 3883457, appending stats.\n",
      "The city Alofi was found with the ID of 4036284, appending stats.\n",
      "The city Barrow was found with the ID of 5880054, appending stats.\n",
      "The city Santa Maria was found with the ID of 3450083, appending stats.\n",
      "The city Plettenberg Bay was found with the ID of 964712, appending stats.\n",
      "The city Te Anau was found with the ID of 2181625, appending stats.\n",
      "The city Pevek was found with the ID of 2122090, appending stats.\n",
      "The city Hithadhoo was found with the ID of 1282256, appending stats.\n",
      "The city Saskylakh was found with the ID of 2017155, appending stats.\n",
      "The city Bathsheba was found with the ID of 3374083, appending stats.\n",
      "The city Prieska was found with the ID of 964090, appending stats.\n",
      "The city Magaria was found with the ID of 2441482, appending stats.\n",
      "The city Mâncio Lima was found with the ID of 3663516, appending stats.\n",
      "The city Karasburg was found with the ID of 3356343, appending stats.\n",
      "The city Khasan was found with the ID of 2039557, appending stats.\n",
      "The city Santa Cruz de la Sierra was found with the ID of 3904906, appending stats.\n",
      "The city Kushmurun was found with the ID of 1519924, appending stats.\n",
      "The city Yar-Sale was found with the ID of 1486321, appending stats.\n",
      "The city East London was found with the ID of 1006984, appending stats.\n",
      "The city Chumikan was found with the ID of 2025256, appending stats.\n",
      "The city Buala was found with the ID of 2109528, appending stats.\n",
      "The city Tasiilaq was found with the ID of 3424607, appending stats.\n",
      "The city Tahe was found with the ID of 2034615, appending stats.\n",
      "The city Constitución was found with the ID of 3893726, appending stats.\n",
      "The city Port Elizabeth was found with the ID of 964420, appending stats.\n",
      "The city Bambous Virieux was found with the ID of 1106677, appending stats.\n",
      "The city Koboko was found with the ID of 230725, appending stats.\n",
      "The city Listowel was found with the ID of 2962864, appending stats.\n",
      "The city Sisimiut was found with the ID of 3419842, appending stats.\n",
      "The city Bredasdorp was found with the ID of 1015776, appending stats.\n",
      "The city Sungai Penuh was found with the ID of 1625929, appending stats.\n",
      "The city Saldanha was found with the ID of 3361934, appending stats.\n",
      "The city Yellowknife was found with the ID of 6185377, appending stats.\n",
      "The city Krasnyy Chikoy was found with the ID of 2012349, appending stats.\n",
      "The city Lagos was found with the ID of 2332453, appending stats.\n",
      "Sorrry, that city was not found.\n",
      "The city Ulladulla was found with the ID of 2145554, appending stats.\n",
      "The city Yatou was found with the ID of 1786855, appending stats.\n",
      "The city Pocinhos was found with the ID of 3391762, appending stats.\n",
      "Sorrry, that city was not found.\n",
      "The city Yerbogachën was found with the ID of 2012956, appending stats.\n",
      "The city Albany was found with the ID of 5106841, appending stats.\n",
      "The city Oktyabr'skiy was found with the ID of 515879, appending stats.\n",
      "The city Miragoâne was found with the ID of 3720824, appending stats.\n",
      "The city Carnarvon was found with the ID of 2074865, appending stats.\n",
      "The city Harper was found with the ID of 2276492, appending stats.\n",
      "The city Gladstone was found with the ID of 2165478, appending stats.\n",
      "The city Tiruchchendur was found with the ID of 1254390, appending stats.\n",
      "The city Veshenskaya was found with the ID of 473998, appending stats.\n",
      "The city Pangnirtung was found with the ID of 6096551, appending stats.\n",
      "The city Qaanaaq was found with the ID of 3831208, appending stats.\n",
      "The city Sucúa was found with the ID of 3650956, appending stats.\n",
      "The city Porto-Novo was found with the ID of 2392087, appending stats.\n",
      "The city Labytnangi was found with the ID of 1500933, appending stats.\n",
      "The city Korla was found with the ID of 1529376, appending stats.\n",
      "The city Aswān was found with the ID of 359792, appending stats.\n",
      "The city Vasil'yevskiy Mokh was found with the ID of 476548, appending stats.\n",
      "Sorrry, that city was not found.\n",
      "The city Arrondissement du Havre was found with the ID of 3013633, appending stats.\n",
      "The city Kibondo was found with the ID of 157960, appending stats.\n",
      "The city Adelaide was found with the ID of 2078025, appending stats.\n",
      "Sorrry, that city was not found.\n",
      "The city Yumen was found with the ID of 1528998, appending stats.\n",
      "The city Longyearbyen was found with the ID of 2729907, appending stats.\n",
      "The city Galveston was found with the ID of 4692856, appending stats.\n",
      "Sorrry, that city was not found.\n",
      "The city Tuatapere was found with the ID of 2180815, appending stats.\n",
      "The city Kutum was found with the ID of 371745, appending stats.\n",
      "The city Berlevåg was found with the ID of 780687, appending stats.\n",
      "The city Clyde River was found with the ID of 5924351, appending stats.\n",
      "The city Kapoeta was found with the ID of 372884, appending stats.\n",
      "The city Kitimat was found with the ID of 5993072, appending stats.\n",
      "The city Taganak was found with the ID of 1684606, appending stats.\n",
      "Sorrry, that city was not found.\n",
      "The city Philadelphia was found with the ID of 4560349, appending stats.\n",
      "The city Hammerfest was found with the ID of 779683, appending stats.\n",
      "The city Suntar was found with the ID of 2015913, appending stats.\n",
      "The city La Asuncion was found with the ID of 3480908, appending stats.\n",
      "The city Viedma was found with the ID of 3832899, appending stats.\n",
      "The city College was found with the ID of 5859699, appending stats.\n",
      "The city Matara was found with the ID of 1235846, appending stats.\n",
      "The city Yei was found with the ID of 363619, appending stats.\n",
      "The city Lujiang was found with the ID of 1802068, appending stats.\n",
      "The city Lira was found with the ID of 230166, appending stats.\n",
      "The city Hammond was found with the ID of 4921100, appending stats.\n",
      "Sorrry, that city was not found.\n",
      "The city Bantry was found with the ID of 2966356, appending stats.\n",
      "The city Nanga Eboko was found with the ID of 2225457, appending stats.\n",
      "The city Castro was found with the ID of 3466704, appending stats.\n",
      "The city Sharjah city was found with the ID of 292672, appending stats.\n",
      "The city Concepción del Oro was found with the ID of 4013039, appending stats.\n",
      "The city Avera was found with the ID of 4231997, appending stats.\n",
      "The city Provideniya was found with the ID of 4031574, appending stats.\n",
      "Sorrry, that city was not found.\n",
      "The city Itaituba was found with the ID of 3397967, appending stats.\n",
      "The city São Filipe was found with the ID of 3374210, appending stats.\n",
      "The city Baykit was found with the ID of 1510689, appending stats.\n",
      "The city Arraial do Cabo was found with the ID of 3471451, appending stats.\n",
      "The city Saint Paul Harbor was found with the ID of 5866583, appending stats.\n",
      "The city Itoman was found with the ID of 1861280, appending stats.\n",
      "The city Souillac was found with the ID of 933995, appending stats.\n",
      "The city Multan was found with the ID of 1169825, appending stats.\n",
      "The city Oskarshamn was found with the ID of 2686162, appending stats.\n",
      "The city Lerwick was found with the ID of 2644605, appending stats.\n",
      "The city Niterói was found with the ID of 3456283, appending stats.\n",
      "The city Lydenburg was found with the ID of 981158, appending stats.\n",
      "The city Kristiansund was found with the ID of 6453331, appending stats.\n",
      "Sorrry, that city was not found.\n",
      "The city Klaksvík was found with the ID of 2618795, appending stats.\n",
      "The city Ylöjärvi was found with the ID of 630752, appending stats.\n",
      "The city Mutsu was found with the ID of 2127878, appending stats.\n",
      "The city Cabo San Lucas was found with the ID of 3985710, appending stats.\n",
      "The city Aklavik was found with the ID of 5882953, appending stats.\n",
      "The city Inhambane was found with the ID of 1045114, appending stats.\n",
      "The city Rocha was found with the ID of 3440777, appending stats.\n",
      "The city Hilton Head was found with the ID of 4581833, appending stats.\n",
      "The city Guiglo was found with the ID of 2287958, appending stats.\n",
      "The city Orlik was found with the ID of 1496073, appending stats.\n",
      "The city Fortuna was found with the ID of 5563839, appending stats.\n",
      "The city Amuntai was found with the ID of 1651461, appending stats.\n",
      "The city Villarrica was found with the ID of 3436714, appending stats.\n",
      "The city Houma was found with the ID of 4328010, appending stats.\n",
      "The city Mossamedes was found with the ID of 3347019, appending stats.\n",
      "The city Turukhansk was found with the ID of 1488903, appending stats.\n",
      "The city Örebro was found with the ID of 2686657, appending stats.\n",
      "The city El Jícaro was found with the ID of 3596940, appending stats.\n",
      "The city Grindavik was found with the ID of 3416888, appending stats.\n",
      "The city Chapais was found with the ID of 5919850, appending stats.\n",
      "The city Saint-Pierre was found with the ID of 935214, appending stats.\n",
      "The city Slobodskoy was found with the ID of 491882, appending stats.\n",
      "Sorrry, that city was not found.\n",
      "The city Portland was found with the ID of 5746545, appending stats.\n",
      "The city Shellbrook was found with the ID of 6145951, appending stats.\n",
      "The city Westport was found with the ID of 4845585, appending stats.\n",
      "The city Kangaba was found with the ID of 2455735, appending stats.\n",
      "The city Ubari was found with the ID of 2219235, appending stats.\n",
      "The city Dabola was found with the ID of 2422442, appending stats.\n",
      "The city Ponta Porã was found with the ID of 3453150, appending stats.\n",
      "Sorrry, that city was not found.\n",
      "The city Iqaluit was found with the ID of 5983720, appending stats.\n",
      "Sorrry, that city was not found.\n",
      "The city Kirakira was found with the ID of 2178753, appending stats.\n",
      "The city Smithers was found with the ID of 6149996, appending stats.\n",
      "The city Santiago was found with the ID of 3871336, appending stats.\n",
      "The city Bengkulu was found with the ID of 1649150, appending stats.\n",
      "The city Romny was found with the ID of 695464, appending stats.\n",
      "The city Antofagasta was found with the ID of 3899539, appending stats.\n",
      "The city Bethel was found with the ID of 5282297, appending stats.\n",
      "The city Kupino was found with the ID of 1501365, appending stats.\n",
      "The city Ossora was found with the ID of 2122389, appending stats.\n",
      "The city Cherskiy was found with the ID of 2126199, appending stats.\n",
      "The city Sulangan was found with the ID of 1685422, appending stats.\n",
      "The city Jumla was found with the ID of 1283285, appending stats.\n",
      "The city Cockburn Town was found with the ID of 3576994, appending stats.\n",
      "The city Galesong was found with the ID of 1644605, appending stats.\n",
      "The city Razdolinsk was found with the ID of 1493756, appending stats.\n",
      "The city High Level was found with the ID of 5975004, appending stats.\n",
      "The city Nanortalik was found with the ID of 3421765, appending stats.\n",
      "The city Puerto Cabezas was found with the ID of 3617154, appending stats.\n",
      "Sorrry, that city was not found.\n",
      "The city Mar del Plata was found with the ID of 3430863, appending stats.\n",
      "The city Grand Gaube was found with the ID of 934479, appending stats.\n",
      "The city Sitka was found with the ID of 5557293, appending stats.\n",
      "The city Ixtapa was found with the ID of 4004293, appending stats.\n",
      "The city Ransang was found with the ID of 1691872, appending stats.\n",
      "The city Jutaí was found with the ID of 3663693, appending stats.\n",
      "The city Northam was found with the ID of 2641434, appending stats.\n",
      "The city Vardø was found with the ID of 777019, appending stats.\n",
      "The city Kamaishi was found with the ID of 2112444, appending stats.\n",
      "The city Ilulissat was found with the ID of 3423146, appending stats.\n",
      "The city Narsaq was found with the ID of 3421719, appending stats.\n",
      "The city Praia was found with the ID of 3374333, appending stats.\n",
      "The city Gurupá was found with the ID of 3398480, appending stats.\n",
      "Sorrry, that city was not found.\n",
      "The city Chokurdakh was found with the ID of 2126123, appending stats.\n",
      "The city Thompson was found with the ID of 6165406, appending stats.\n",
      "The city Cidreira was found with the ID of 3466165, appending stats.\n",
      "The city Kavieng was found with the ID of 2094342, appending stats.\n",
      "The city Hay River was found with the ID of 5972762, appending stats.\n",
      "The city Narkanda was found with the ID of 1254608, appending stats.\n",
      "The city Umluj was found with the ID of 100926, appending stats.\n",
      "The city Ponta do Sol was found with the ID of 2264557, appending stats.\n",
      "The city Ust-Nera was found with the ID of 2120048, appending stats.\n",
      "The city Nhulunbuy was found with the ID of 2064735, appending stats.\n",
      "The city Codrington was found with the ID of 2171099, appending stats.\n",
      "The city Show Low was found with the ID of 5314245, appending stats.\n",
      "The city Fuling was found with the ID of 1810979, appending stats.\n",
      "The city São João do Piauí was found with the ID of 3388618, appending stats.\n",
      "The city Bereda was found with the ID of 3105522, appending stats.\n",
      "The city Mbanza-Ngungu was found with the ID of 2312888, appending stats.\n",
      "The city Pacific Grove was found with the ID of 5380437, appending stats.\n",
      "The city Rodnikovo was found with the ID of 695574, appending stats.\n",
      "The city Manapparai was found with the ID of 1263952, appending stats.\n",
      "The city Bilibino was found with the ID of 2126682, appending stats.\n",
      "Sorrry, that city was not found.\n",
      "The city Agdangan was found with the ID of 1732091, appending stats.\n",
      "The city Camacha was found with the ID of 2270385, appending stats.\n",
      "The city Maceió was found with the ID of 3395981, appending stats.\n",
      "The city Riyadh was found with the ID of 108410, appending stats.\n",
      "The city Nueva Guinea was found with the ID of 3617459, appending stats.\n",
      "The city Prunişor was found with the ID of 669528, appending stats.\n",
      "The city São José da Coroa Grande was found with the ID of 3388456, appending stats.\n",
      "The city Namatanai was found with the ID of 2090021, appending stats.\n",
      "The city Ketchikan was found with the ID of 5554428, appending stats.\n",
      "The city Saint-Augustin was found with the ID of 6137462, appending stats.\n",
      "The city Matagami was found with the ID of 6067747, appending stats.\n",
      "The city Bol was found with the ID of 2434979, appending stats.\n",
      "The city Obihiro was found with the ID of 2128815, appending stats.\n",
      "The city Kupang was found with the ID of 2057087, appending stats.\n",
      "The city Labuan was found with the ID of 1733782, appending stats.\n",
      "The city Green River was found with the ID of 5826559, appending stats.\n",
      "The city Río Gallegos was found with the ID of 3838859, appending stats.\n",
      "The city Isla Mujeres was found with the ID of 3526756, appending stats.\n",
      "The city Airai was found with the ID of 1651810, appending stats.\n",
      "The city Tazovsky was found with the ID of 1489853, appending stats.\n",
      "The city Vila was found with the ID of 7117100, appending stats.\n",
      "The city Puerto Escondido was found with the ID of 3520994, appending stats.\n",
      "The city Aripuanã was found with the ID of 3665202, appending stats.\n",
      "The city Sukumo was found with the ID of 1851462, appending stats.\n",
      "The city Salalah was found with the ID of 286621, appending stats.\n",
      "The city Thap Than was found with the ID of 1150210, appending stats.\n",
      "The city Kununurra was found with the ID of 2068110, appending stats.\n",
      "The city Pringsewu was found with the ID of 1630639, appending stats.\n",
      "The city Zheleznodorozhnyy was found with the ID of 463355, appending stats.\n",
      "The city Deputatsky was found with the ID of 2028164, appending stats.\n",
      "The city Vestmannaeyjar was found with the ID of 3412093, appending stats.\n",
      "The city Mocuba was found with the ID of 1024312, appending stats.\n",
      "The city Hualmay was found with the ID of 3939761, appending stats.\n",
      "The city Hohhot was found with the ID of 2036892, appending stats.\n",
      "The city Bandarbeyla was found with the ID of 64814, appending stats.\n",
      "The city Ancud was found with the ID of 3899695, appending stats.\n",
      "The city Honningsvåg was found with the ID of 779554, appending stats.\n",
      "Sorrry, that city was not found.\n",
      "The city Diré was found with the ID of 2458624, appending stats.\n",
      "The city Belmopan was found with the ID of 3582672, appending stats.\n",
      "The city Yaan was found with the ID of 2338660, appending stats.\n",
      "The city Ghanzi was found with the ID of 933759, appending stats.\n",
      "The city Cam Ranh was found with the ID of 1586350, appending stats.\n",
      "The city Atascadero was found with the ID of 5325111, appending stats.\n",
      "The city Reconquista was found with the ID of 3429594, appending stats.\n",
      "The city Nuuk was found with the ID of 3421319, appending stats.\n",
      "The city Garoowe was found with the ID of 58933, appending stats.\n",
      "The city Tawang Town was found with the ID of 1254832, appending stats.\n",
      "The city Broken Hill was found with the ID of 2173911, appending stats.\n",
      "The city Faanui was found with the ID of 4034551, appending stats.\n",
      "The city Baixa Grande was found with the ID of 3471094, appending stats.\n",
      "The city Strezhevoy was found with the ID of 1490796, appending stats.\n",
      "The city Port-Gentil was found with the ID of 2396518, appending stats.\n",
      "The city Menongue was found with the ID of 3347353, appending stats.\n",
      "The city Mahon was found with the ID of 2514301, appending stats.\n",
      "The city Steinbach am Taunus was found with the ID of 2828737, appending stats.\n",
      "The city Kieta was found with the ID of 2094027, appending stats.\n",
      "The city Safi was found with the ID of 2537881, appending stats.\n",
      "The city Banjar was found with the ID of 1650232, appending stats.\n",
      "The city Biak was found with the ID of 1637001, appending stats.\n",
      "Sorrry, that city was not found.\n",
      "The city Norman Wells was found with the ID of 6089245, appending stats.\n",
      "The city Mount Gambier was found with the ID of 2156643, appending stats.\n",
      "The city Karratha was found with the ID of 6620339, appending stats.\n",
      "The city Santa Isabel Rio Negro was found with the ID of 3662489, appending stats.\n",
      "The city Toccoa was found with the ID of 4226722, appending stats.\n",
      "Sorrry, that city was not found.\n",
      "The city Mayor Pablo Lagerenza was found with the ID of 3867427, appending stats.\n",
      "The city Isangel was found with the ID of 2136825, appending stats.\n",
      "The city Mountain Home was found with the ID of 5601615, appending stats.\n",
      "The city Fiumicino was found with the ID of 3176923, appending stats.\n",
      "The city Najrān was found with the ID of 103630, appending stats.\n",
      "The city Eureka was found with the ID of 5563397, appending stats.\n",
      "The city Hervey Bay was found with the ID of 2146219, appending stats.\n",
      "The city Coos Bay was found with the ID of 5720495, appending stats.\n",
      "The city Sakata was found with the ID of 1853140, appending stats.\n",
      "The city Sigli was found with the ID of 1213821, appending stats.\n",
      "The city Ankazoabo was found with the ID of 1072879, appending stats.\n",
      "The city Norsup was found with the ID of 2135517, appending stats.\n",
      "Sorrry, that city was not found.\n",
      "The city Motygino was found with the ID of 1498314, appending stats.\n",
      "The city Aloleng was found with the ID of 1731298, appending stats.\n",
      "The city Zhigansk was found with the ID of 2012530, appending stats.\n",
      "The city Muros was found with the ID of 3115824, appending stats.\n",
      "The city Necochea was found with the ID of 3430443, appending stats.\n",
      "The city Esperance was found with the ID of 2071860, appending stats.\n",
      "Sorrry, that city was not found.\n",
      "The city Sept-Îles was found with the ID of 6144312, appending stats.\n",
      "The city Tornio was found with the ID of 634093, appending stats.\n",
      "The city Vostok was found with the ID of 2013279, appending stats.\n",
      "The city San Jerónimo was found with the ID of 3929611, appending stats.\n",
      "Sorrry, that city was not found.\n",
      "The city Gornopravdinsk was found with the ID of 1506268, appending stats.\n",
      "The city Nicolás Bravo was found with the ID of 3522742, appending stats.\n",
      "The city Barranca was found with the ID of 3946820, appending stats.\n",
      "Sorrry, that city was not found.\n",
      "The city Springdale was found with the ID of 4132093, appending stats.\n",
      "The city Caucayá was found with the ID of 3671437, appending stats.\n",
      "The city Pīpri was found with the ID of 1259552, appending stats.\n",
      "The city Nizhnyaya Poyma was found with the ID of 1497397, appending stats.\n",
      "The city Yantzaza was found with the ID of 3650053, appending stats.\n",
      "The city Gallup was found with the ID of 5468773, appending stats.\n",
      "The city Colombia was found with the ID of 3563856, appending stats.\n",
      "The city Jinka was found with the ID of 333750, appending stats.\n",
      "The city Lagoa was found with the ID of 3372964, appending stats.\n",
      "The city Ust'-Barguzin was found with the ID of 2013986, appending stats.\n",
      "The city Alugan was found with the ID of 1731248, appending stats.\n",
      "The city Rāmpura was found with the ID of 1258584, appending stats.\n",
      "The city Gouré was found with the ID of 2444219, appending stats.\n",
      "The city Lengshuitan was found with the ID of 1804162, appending stats.\n",
      "The city Beya was found with the ID of 1510131, appending stats.\n",
      "The city Hambantota was found with the ID of 1244926, appending stats.\n",
      "The city Severomuysk was found with the ID of 2016907, appending stats.\n",
      "The city Karpogory was found with the ID of 552256, appending stats.\n",
      "The city Burē was found with the ID of 341397, appending stats.\n",
      "The city Malko Tarnovo was found with the ID of 729322, appending stats.\n",
      "The city Walvis Bay was found with the ID of 3359638, appending stats.\n",
      "The city Mackenzie was found with the ID of 6063191, appending stats.\n",
      "The city Cairns was found with the ID of 2172797, appending stats.\n",
      "The city Keighley was found with the ID of 2645889, appending stats.\n",
      "The city Dingle was found with the ID of 1714733, appending stats.\n",
      "Sorrry, that city was not found.\n",
      "The city Whitley Bay was found with the ID of 2634032, appending stats.\n",
      "The city Hokitika was found with the ID of 2206894, appending stats.\n",
      "The city Chester was found with the ID of 5184079, appending stats.\n",
      "Sorrry, that city was not found.\n",
      "The city Marrakesh was found with the ID of 2542997, appending stats.\n",
      "The city Hamilton was found with the ID of 4513583, appending stats.\n",
      "The city Cascais was found with the ID of 2269594, appending stats.\n",
      "The city Newport was found with the ID of 2641598, appending stats.\n",
      "The city Port-Cartier was found with the ID of 6111696, appending stats.\n",
      "The city Umm Kaddadah was found with the ID of 364933, appending stats.\n",
      "The city Adrar was found with the ID of 2381972, appending stats.\n",
      "The city Jalu was found with the ID of 86049, appending stats.\n",
      "The city Inuvik was found with the ID of 5983607, appending stats.\n",
      "The city Solnechnyy was found with the ID of 2016307, appending stats.\n",
      "The city Judaberg was found with the ID of 3150699, appending stats.\n",
      "The city Tura was found with the ID of 1254046, appending stats.\n",
      "The city Zelenoborskiy was found with the ID of 463838, appending stats.\n",
      "The city Wodonga was found with the ID of 2143285, appending stats.\n",
      "The city Severo-Yeniseyskiy was found with the ID of 1492566, appending stats.\n",
      "The city Kindu was found with the ID of 212902, appending stats.\n",
      "The city Bhadrāchalam was found with the ID of 1276328, appending stats.\n",
      "The city Palmer was found with the ID of 4946620, appending stats.\n",
      "The city George Town was found with the ID of 1735106, appending stats.\n",
      "The city Alice Springs was found with the ID of 2077895, appending stats.\n",
      "The city Sobolevo was found with the ID of 525426, appending stats.\n",
      "The city Makat was found with the ID of 608872, appending stats.\n",
      "The city Lavrentiya was found with the ID of 4031637, appending stats.\n",
      "The city Middelburg was found with the ID of 976361, appending stats.\n",
      "The city Yeppoon was found with the ID of 2142316, appending stats.\n",
      "The city Bogo was found with the ID of 1724435, appending stats.\n",
      "The city Cayenne was found with the ID of 3382160, appending stats.\n",
      "The city Erenhot was found with the ID of 2037485, appending stats.\n",
      "Sorrry, that city was not found.\n",
      "The city Katobu was found with the ID of 1640972, appending stats.\n",
      "The city Maniitsoq was found with the ID of 3421982, appending stats.\n",
      "The city Hisar was found with the ID of 1270022, appending stats.\n",
      "The city Fort Frances was found with the ID of 5955826, appending stats.\n",
      "The city Téra was found with the ID of 2438855, appending stats.\n",
      "The city Yenagoa was found with the ID of 2318123, appending stats.\n",
      "The city Rio Grande was found with the ID of 3451138, appending stats.\n",
      "The city Fredericksburg was found with the ID of 4760059, appending stats.\n",
      "Sorrry, that city was not found.\n",
      "The city Akdağmadeni was found with the ID of 324768, appending stats.\n",
      "The city Mawlaik was found with the ID of 1310120, appending stats.\n",
      "The city Paphos was found with the ID of 146214, appending stats.\n",
      "The city Bodden Town was found with the ID of 3580733, appending stats.\n",
      "The city Atar was found with the ID of 2381334, appending stats.\n",
      "The city Gijang was found with the ID of 1842966, appending stats.\n",
      "The city Hofn was found with the ID of 2630299, appending stats.\n",
      "The city Nowy Targ was found with the ID of 763523, appending stats.\n",
      "The city Chernyshevskiy was found with the ID of 2025456, appending stats.\n",
      "The city Dicabisagan was found with the ID of 1715015, appending stats.\n",
      "The city Msanga was found with the ID of 153046, appending stats.\n",
      "The city Mīnāb was found with the ID of 123941, appending stats.\n",
      "The city Bara was found with the ID of 2347758, appending stats.\n",
      "The city Eenhana was found with the ID of 3357804, appending stats.\n",
      "The city Mount Isa was found with the ID of 2065594, appending stats.\n",
      "The city Kabare was found with the ID of 215605, appending stats.\n",
      "The city Russkiy Aktash was found with the ID of 583573, appending stats.\n",
      "The city Genhe was found with the ID of 2037252, appending stats.\n",
      "The city Shirokiy was found with the ID of 2016680, appending stats.\n",
      "The city Touros was found with the ID of 3386213, appending stats.\n",
      "The city Ekibastuz was found with the ID of 1524325, appending stats.\n",
      "The city Kamenka was found with the ID of 553766, appending stats.\n",
      "The city Lianyuan was found with the ID of 1804451, appending stats.\n",
      "The city Ngorongoro was found with the ID of 151610, appending stats.\n",
      "The city Dunhua was found with the ID of 2037534, appending stats.\n",
      "The city Oriximiná was found with the ID of 3393471, appending stats.\n",
      "The city Yangi Marg`ilon was found with the ID of 1513491, appending stats.\n",
      "The city County Wicklow was found with the ID of 2960935, appending stats.\n",
      "The city Panguna was found with the ID of 2088659, appending stats.\n",
      "The city Dzaoudzi was found with the ID of 921900, appending stats.\n",
      "The city Alappuzha was found with the ID of 1278985, appending stats.\n",
      "The city Ostrovnoy was found with the ID of 556268, appending stats.\n",
      "The city Kidal was found with the ID of 2455290, appending stats.\n",
      "The city Paranaíba was found with the ID of 3455065, appending stats.\n",
      "The city Nkhotakota was found with the ID of 924705, appending stats.\n",
      "The city Lata was found with the ID of 2738381, appending stats.\n",
      "The city Biryusinsk was found with the ID of 1510041, appending stats.\n",
      "The city Tolaga Bay was found with the ID of 2180991, appending stats.\n",
      "The city Nanyang was found with the ID of 1799629, appending stats.\n",
      "The city Salinópolis was found with the ID of 3389822, appending stats.\n",
      "The city Xingtai was found with the ID of 1788927, appending stats.\n",
      "The city Prince Rupert was found with the ID of 6113406, appending stats.\n",
      "The city Uyskoye was found with the ID of 1544583, appending stats.\n",
      "The city Jashpurnagar was found with the ID of 1269177, appending stats.\n",
      "The city Tucupita was found with the ID of 3625929, appending stats.\n",
      "The city Havre-St-Pierre was found with the ID of 5972291, appending stats.\n",
      "The city Flinders was found with the ID of 6255012, appending stats.\n",
      "The city Nchelenge was found with the ID of 175499, appending stats.\n",
      "The city Port Macquarie was found with the ID of 2152659, appending stats.\n",
      "The city Paraná was found with the ID of 3841956, appending stats.\n",
      "The city Saýat was found with the ID of 1218436, appending stats.\n",
      "The city Freeport was found with the ID of 5117949, appending stats.\n",
      "The city Morón was found with the ID of 3430545, appending stats.\n",
      "Sorrry, that city was not found.\n",
      "The city Olafsvik was found with the ID of 3414079, appending stats.\n",
      "The city Lompoc was found with the ID of 5367788, appending stats.\n",
      "The city Timrå was found with the ID of 2669047, appending stats.\n",
      "The city Kirovsk was found with the ID of 705809, appending stats.\n",
      "The city Savanūr was found with the ID of 1256967, appending stats.\n",
      "The city Araouane was found with the ID of 2460954, appending stats.\n",
      "The city Tigre was found with the ID of 3427761, appending stats.\n",
      "Sorrry, that city was not found.\n",
      "The city Caravelas was found with the ID of 3466980, appending stats.\n",
      "The city Suamico was found with the ID of 5274887, appending stats.\n",
      "The city Andenes was found with the ID of 3163146, appending stats.\n",
      "The city Saint George was found with the ID of 5546220, appending stats.\n",
      "The city San Fernando del Valle de Catamarca was found with the ID of 3837702, appending stats.\n",
      "The city Lorengau was found with the ID of 2092164, appending stats.\n",
      "Sorrry, that city was not found.\n",
      "The city Tucuruí was found with the ID of 3385935, appending stats.\n",
      "The city Itarema was found with the ID of 3393692, appending stats.\n",
      "The city Conde was found with the ID of 3385077, appending stats.\n",
      "The city Beringovskiy was found with the ID of 2126710, appending stats.\n",
      "The city Killybegs was found with the ID of 2963295, appending stats.\n",
      "The city Atkarsk was found with the ID of 580420, appending stats.\n",
      "The city Leeton was found with the ID of 2160413, appending stats.\n",
      "The city Māngrol was found with the ID of 1263752, appending stats.\n",
      "The city Makakilo City was found with the ID of 5850554, appending stats.\n",
      "The city Ayan was found with the ID of 2027316, appending stats.\n",
      "The city Haines Junction was found with the ID of 5969025, appending stats.\n",
      "The city Tremedal was found with the ID of 3446198, appending stats.\n",
      "The city Samarai was found with the ID of 2132606, appending stats.\n",
      "The city Borogontsy was found with the ID of 2026160, appending stats.\n",
      "The city Tessalit was found with the ID of 2449893, appending stats.\n",
      "The city Chifeng was found with the ID of 2038067, appending stats.\n",
      "The city Kumul was found with the ID of 1529484, appending stats.\n",
      "The city Ust-Kuyga was found with the ID of 2013921, appending stats.\n",
      "The city Pierre was found with the ID of 5767918, appending stats.\n",
      "The city Devaprayāg was found with the ID of 1273119, appending stats.\n",
      "Sorrry, that city was not found.\n",
      "The city Pitimbu was found with the ID of 3391889, appending stats.\n",
      "The city Alekseyevsk was found with the ID of 2022083, appending stats.\n",
      "The city San Patricio was found with the ID of 4726521, appending stats.\n",
      "Sorrry, that city was not found.\n",
      "The city Salta was found with the ID of 3838233, appending stats.\n",
      "The city Isiro was found with the ID of 215771, appending stats.\n",
      "The city Tarauacá was found with the ID of 3661980, appending stats.\n",
      "The city Brae was found with the ID of 2654970, appending stats.\n",
      "The city Nampula was found with the ID of 1033356, appending stats.\n",
      "The city Przasnysz was found with the ID of 761218, appending stats.\n",
      "The city Varkala was found with the ID of 1253392, appending stats.\n",
      "The city Tataouine was found with the ID of 2464701, appending stats.\n",
      "The city Villa Bruzual was found with the ID of 3625346, appending stats.\n",
      "The city Jasper was found with the ID of 4392354, appending stats.\n",
      "The city Kalmunai was found with the ID of 1242110, appending stats.\n",
      "The city Launceston was found with the ID of 2160517, appending stats.\n",
      "The city Marapanim was found with the ID of 3395440, appending stats.\n",
      "The city Lokosovo was found with the ID of 1500399, appending stats.\n",
      "The city Amapá was found with the ID of 3407762, appending stats.\n",
      "The city Aksarka was found with the ID of 1512019, appending stats.\n",
      "The city Lucapa was found with the ID of 145724, appending stats.\n",
      "The city Mnogovershinnyy was found with the ID of 2019935, appending stats.\n",
      "The city Pārsābād was found with the ID of 121380, appending stats.\n",
      "The city Kedrovyy was found with the ID of 1538641, appending stats.\n",
      "The city Camocim was found with the ID of 3403687, appending stats.\n",
      "The city Moundou was found with the ID of 2427455, appending stats.\n",
      "The city Gweru was found with the ID of 890422, appending stats.\n",
      "The city Phan Thiet was found with the ID of 1571058, appending stats.\n",
      "The city Cosalá was found with the ID of 4012707, appending stats.\n",
      "The city Vaitape was found with the ID of 4033077, appending stats.\n",
      "The city Colac was found with the ID of 2171069, appending stats.\n",
      "The city Srednekolymsk was found with the ID of 2121025, appending stats.\n",
      "The city Kenai was found with the ID of 5866063, appending stats.\n",
      "The city Lonevåg was found with the ID of 3146978, appending stats.\n",
      "The city Saint Anthony was found with the ID of 5044290, appending stats.\n",
      "The city Srandakan was found with the ID of 1626493, appending stats.\n",
      "The city Nabire was found with the ID of 1634614, appending stats.\n",
      "The city Tarakan was found with the ID of 1624725, appending stats.\n",
      "The city Bulgan was found with the ID of 2032201, appending stats.\n",
      "The city Oshnavīyeh was found with the ID of 121795, appending stats.\n",
      "The city Kiama was found with the ID of 2161515, appending stats.\n",
      "The city Bandar-e Anzali was found with the ID of 141679, appending stats.\n",
      "The city Fraserburgh was found with the ID of 2649089, appending stats.\n",
      "The city Tegul'det was found with the ID of 1489822, appending stats.\n",
      "The city Arman' was found with the ID of 2127060, appending stats.\n",
      "The city Alyangula was found with the ID of 2079582, appending stats.\n",
      "The city Burlington was found with the ID of 4500994, appending stats.\n",
      "The city Moroto was found with the ID of 229112, appending stats.\n",
      "The city Ocampo was found with the ID of 3994535, appending stats.\n",
      "The city Jiayuguan City was found with the ID of 1280957, appending stats.\n",
      "The city Makkah al Mukarramah was found with the ID of 104515, appending stats.\n",
      "The city Mahibadhoo was found with the ID of 1337605, appending stats.\n",
      "The city Kaitangata was found with the ID of 2208248, appending stats.\n",
      "The city Kushima was found with the ID of 1895695, appending stats.\n"
     ]
    }
   ],
   "source": [
    "#Perform a weather check on each city using a series of successive API calls.\n",
    "#Include a print log of each city as it's being processed (with the city number and city name).\n",
    "# IT IS GETTING INTERUPTED AT CITY 6: \n",
    "# {'cod': '404' , 'message' : 'city not found'}\n",
    "####PRINT OUT LOG OF CURRENT CITY AND ID AS YOU GO##############\n",
    "for each_city in city:\n",
    "    response = requests.get(query_url + each_city).json()\n",
    "    #pprint(response)\n",
    "    try:\n",
    "        city_dt.append(response[\"dt\"])\n",
    "        id.append(response[\"id\"])\n",
    "        name.append(response[\"name\"])\n",
    "        temp.append(response['main']['temp'])\n",
    "        lat.append(response[\"coord\"][\"lat\"])\n",
    "        lon.append(response['coord']['lon'])\n",
    "        wind_speed.append(response[\"wind\"][\"speed\"])\n",
    "        max_temp.append(response[\"main\"][\"temp_max\"])\n",
    "        humidity.append(response[\"main\"][\"humidity\"])\n",
    "        clouds.append(response[\"clouds\"][\"all\"])\n",
    "        country.append(response[\"sys\"][\"country\"])\n",
    "        actual_city.append(each_city)\n",
    "        print(f\"The city {response['name']} was found with the ID of {response['id']}, appending stats.\")\n",
    "    except KeyError: \n",
    "        print(\"Sorry, that city was not found.\")\n",
    "        pass"
   ]
  },
  {
   "cell_type": "markdown",
   "metadata": {},
   "source": [
    "# Convert Raw Data to DF"
   ]
  },
  {
   "cell_type": "code",
   "execution_count": null,
   "metadata": {},
   "outputs": [],
   "source": [
    "#Create a DF and Export the city data into a .csv.\n",
    "#LAT, LONG, MAX TEMP, HUMIDITY, CLOUD COVERAGE, WIND SPEED, CITY COUNTRY, CITY DATETIME\n",
    "#Display the DataFrame"
   ]
  },
  {
   "cell_type": "markdown",
   "metadata": {},
   "source": [
    "# Inspect Data and Remove Cities Where Humnidity is > 100%"
   ]
  },
  {
   "cell_type": "code",
   "execution_count": null,
   "metadata": {},
   "outputs": [],
   "source": [
    "#Skip this step if no cities are > 100% humidity "
   ]
  },
  {
   "cell_type": "code",
   "execution_count": null,
   "metadata": {},
   "outputs": [],
   "source": [
    "#  Get the indices of cities that have humidity over 100%.\n",
    "Int64Index([], dtype='int64')"
   ]
  },
  {
   "cell_type": "code",
   "execution_count": null,
   "metadata": {},
   "outputs": [],
   "source": [
    "# Make a new DataFrame equal to the city data to drop all humidity outliers by index.\n",
    "# Passing \"inplace=False\" will make a copy of the city_data DataFrame, which we call \"clean_city_data\"."
   ]
  },
  {
   "cell_type": "markdown",
   "metadata": {},
   "source": [
    "# Plot The Data"
   ]
  },
  {
   "cell_type": "code",
   "execution_count": null,
   "metadata": {},
   "outputs": [],
   "source": [
    "#Use proper labeling of the plots using plot titles (including date of analysis) and axes labels.\n",
    "#Save the plotted figures as .pngs."
   ]
  },
  {
   "cell_type": "markdown",
   "metadata": {},
   "source": [
    "# Latitude vs. Temperature Plot"
   ]
  },
  {
   "cell_type": "code",
   "execution_count": null,
   "metadata": {},
   "outputs": [],
   "source": [
    "# PLOT THEN ADD A FEW SENTENCES \"EXPLAINING WHAT THE CODE IS ANALYZING\""
   ]
  },
  {
   "cell_type": "markdown",
   "metadata": {},
   "source": [
    "# Latitude vs. Humidity Plot"
   ]
  },
  {
   "cell_type": "code",
   "execution_count": null,
   "metadata": {},
   "outputs": [],
   "source": [
    "# PLOT THEN ADD A FEW SENTENCES \"EXPLAINING WHAT THE CODE IS ANALYZING\""
   ]
  },
  {
   "cell_type": "markdown",
   "metadata": {},
   "source": [
    "# Latitude vs. Cloudiness Plot"
   ]
  },
  {
   "cell_type": "code",
   "execution_count": null,
   "metadata": {},
   "outputs": [],
   "source": [
    "# PLOT THEN ADD A FEW SENTENCES \"EXPLAINING WHAT THE CODE IS ANALYZING\""
   ]
  },
  {
   "cell_type": "markdown",
   "metadata": {},
   "source": [
    "# Latitude vs. Wind Speed Plot"
   ]
  },
  {
   "cell_type": "code",
   "execution_count": null,
   "metadata": {},
   "outputs": [],
   "source": [
    "# PLOT THEN ADD A FEW SENTENCES \"EXPLAINING WHAT THE CODE IS ANALYZING\""
   ]
  },
  {
   "cell_type": "markdown",
   "metadata": {},
   "source": [
    "# Linear Regression"
   ]
  },
  {
   "cell_type": "markdown",
   "metadata": {},
   "source": [
    "# Northern Hemisphere - Max Temp vs. Latitude Linear Regression"
   ]
  },
  {
   "cell_type": "code",
   "execution_count": null,
   "metadata": {},
   "outputs": [],
   "source": [
    "# The r-value is: 0.46937863826630627"
   ]
  },
  {
   "cell_type": "code",
   "execution_count": null,
   "metadata": {},
   "outputs": [],
   "source": [
    "#PUT PLOT HERE AND ADD A FEW SENTENCES TO DESCRIBE RELATIONSHIPS OR OTHER OBSERVATIONS"
   ]
  },
  {
   "cell_type": "markdown",
   "metadata": {},
   "source": [
    "# Southern Hemisphere - Max Temp vs. Latitude Linear Regression"
   ]
  },
  {
   "cell_type": "code",
   "execution_count": null,
   "metadata": {},
   "outputs": [],
   "source": [
    "# The r-value is: 0.6082708688906918"
   ]
  },
  {
   "cell_type": "code",
   "execution_count": null,
   "metadata": {},
   "outputs": [],
   "source": [
    "#PUT PLOT HERE AND ADD A FEW SENTENCES TO DESCRIBE RELATIONSHIPS OR OTHER OBSERVATIONS"
   ]
  },
  {
   "cell_type": "markdown",
   "metadata": {},
   "source": [
    "# Northern Hemisphere - Humidity (%) vs. Latitude Linear Regression"
   ]
  },
  {
   "cell_type": "code",
   "execution_count": null,
   "metadata": {},
   "outputs": [],
   "source": [
    "#The r-value is: 0.000543987878808455"
   ]
  },
  {
   "cell_type": "code",
   "execution_count": null,
   "metadata": {},
   "outputs": [],
   "source": [
    "#PUT PLOT HERE AND ADD A FEW SENTENCES TO DESCRIBE RELATIONSHIPS OR OTHER OBSERVATIONS"
   ]
  },
  {
   "cell_type": "markdown",
   "metadata": {},
   "source": [
    "# Southern Hemisphere - Humidity (%) vs. Latitude Linear Regression"
   ]
  },
  {
   "cell_type": "code",
   "execution_count": null,
   "metadata": {},
   "outputs": [],
   "source": [
    "# The r-value is: 0.014985174297345524"
   ]
  },
  {
   "cell_type": "code",
   "execution_count": null,
   "metadata": {},
   "outputs": [],
   "source": [
    "#PUT PLOT HERE AND ADD A FEW SENTENCES TO DESCRIBE RELATIONSHIPS OR OTHER OBSERVATIONS"
   ]
  },
  {
   "cell_type": "markdown",
   "metadata": {},
   "source": [
    "# Northern Hemisphere - Cloudiness (%) vs. Latitude Linear Regression"
   ]
  },
  {
   "cell_type": "code",
   "execution_count": null,
   "metadata": {},
   "outputs": [],
   "source": [
    "# The r-value is: 0.0020898727664228514"
   ]
  },
  {
   "cell_type": "code",
   "execution_count": null,
   "metadata": {},
   "outputs": [],
   "source": [
    "#PUT PLOT HERE AND ADD A FEW SENTENCES TO DESCRIBE RELATIONSHIPS OR OTHER OBSERVATIONS"
   ]
  },
  {
   "cell_type": "markdown",
   "metadata": {},
   "source": [
    "# Southern Hemisphere - Cloudiness (%) vs. Latitude Linear Regression"
   ]
  },
  {
   "cell_type": "code",
   "execution_count": null,
   "metadata": {},
   "outputs": [],
   "source": [
    "# The r-value is: 0.0035263772085582894"
   ]
  },
  {
   "cell_type": "code",
   "execution_count": null,
   "metadata": {},
   "outputs": [],
   "source": [
    "#PUT PLOT HERE AND ADD A FEW SENTENCES TO DESCRIBE RELATIONSHIPS OR OTHER OBSERVATIONS"
   ]
  },
  {
   "cell_type": "markdown",
   "metadata": {},
   "source": [
    "# Northern Hemisphere - Wind Speed (mph) vs. Latitude Linear Regression"
   ]
  },
  {
   "cell_type": "code",
   "execution_count": null,
   "metadata": {},
   "outputs": [],
   "source": [
    "# The r-value is: 0.04019723576144484"
   ]
  },
  {
   "cell_type": "code",
   "execution_count": null,
   "metadata": {},
   "outputs": [],
   "source": [
    "#PUT PLOT HERE AND ADD A FEW SENTENCES TO DESCRIBE RELATIONSHIPS OR OTHER OBSERVATIONS"
   ]
  },
  {
   "cell_type": "markdown",
   "metadata": {},
   "source": [
    "# Southern Hemisphere - Wind Speed (mph) vs. Latitude Linear Regression"
   ]
  },
  {
   "cell_type": "code",
   "execution_count": null,
   "metadata": {},
   "outputs": [],
   "source": [
    "#  The r-value is: 0.017128274759839232"
   ]
  },
  {
   "cell_type": "code",
   "execution_count": null,
   "metadata": {},
   "outputs": [],
   "source": [
    "#PUT PLOT HERE AND ADD A FEW SENTENCES TO DESCRIBE RELATIONSHIPS OR OTHER OBSERVATIONS"
   ]
  },
  {
   "cell_type": "code",
   "execution_count": null,
   "metadata": {},
   "outputs": [],
   "source": []
  },
  {
   "cell_type": "code",
   "execution_count": null,
   "metadata": {},
   "outputs": [],
   "source": []
  },
  {
   "cell_type": "code",
   "execution_count": null,
   "metadata": {},
   "outputs": [],
   "source": []
  },
  {
   "cell_type": "code",
   "execution_count": null,
   "metadata": {},
   "outputs": [],
   "source": []
  },
  {
   "cell_type": "code",
   "execution_count": null,
   "metadata": {},
   "outputs": [],
   "source": []
  },
  {
   "cell_type": "code",
   "execution_count": null,
   "metadata": {},
   "outputs": [],
   "source": []
  }
 ],
 "metadata": {
  "kernelspec": {
   "display_name": "Python 3",
   "language": "python",
   "name": "python3"
  },
  "language_info": {
   "codemirror_mode": {
    "name": "ipython",
    "version": 3
   },
   "file_extension": ".py",
   "mimetype": "text/x-python",
   "name": "python",
   "nbconvert_exporter": "python",
   "pygments_lexer": "ipython3",
   "version": "3.8.5"
  }
 },
 "nbformat": 4,
 "nbformat_minor": 4
}
