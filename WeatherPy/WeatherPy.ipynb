{
 "cells": [
  {
   "cell_type": "code",
   "execution_count": 1,
   "metadata": {},
   "outputs": [],
   "source": [
    "# Dependencies and Setup\n",
    "import matplotlib.pyplot as plt\n",
    "import pandas as pd\n",
    "import numpy as np\n",
    "import requests\n",
    "import time\n",
    "from scipy.stats import linregress\n",
    "from pprint import pprint"
   ]
  },
  {
   "cell_type": "code",
   "execution_count": 2,
   "metadata": {},
   "outputs": [],
   "source": [
    "# Import API key\n",
    "from config import weather_api_key"
   ]
  },
  {
   "cell_type": "code",
   "execution_count": 3,
   "metadata": {},
   "outputs": [],
   "source": [
    "# Incorporated citipy to determine city based on latitude and longitude\n",
    "from citipy import citipy"
   ]
  },
  {
   "cell_type": "code",
   "execution_count": 4,
   "metadata": {},
   "outputs": [],
   "source": [
    "# Output File (CSV)\n",
    "output_data_file = \"output_data/cities.csv\""
   ]
  },
  {
   "cell_type": "code",
   "execution_count": 5,
   "metadata": {},
   "outputs": [],
   "source": [
    "# Range of latitudes and longitudes\n",
    "lat_range = (-90, 90)\n",
    "lng_range = (-180, 180)"
   ]
  },
  {
   "cell_type": "markdown",
   "metadata": {},
   "source": [
    "# Generate Cities List"
   ]
  },
  {
   "cell_type": "code",
   "execution_count": 14,
   "metadata": {},
   "outputs": [
    {
     "data": {
      "text/plain": [
       "624"
      ]
     },
     "execution_count": 14,
     "metadata": {},
     "output_type": "execute_result"
    }
   ],
   "source": [
    " # List for holding lat_lngs and cities\n",
    "lat_lngs = []\n",
    "cities = []\n",
    "\n",
    "# Create a set of random lat and lng combinations\n",
    "############### CHANGE SIZE TO 1500 WHEN DONE#######################\n",
    "lats = np.random.uniform(lat_range[0], lat_range[1], size=1500)\n",
    "lngs = np.random.uniform(lng_range[0], lng_range[1], size=1500)\n",
    "lat_lngs = zip(lats, lngs)\n",
    "\n",
    "# Identify nearest city for each lat, lng combination\n",
    "for lat_lng in lat_lngs:\n",
    "    city = citipy.nearest_city(lat_lng[0], lat_lng[1]).city_name\n",
    "    \n",
    "    # If the city is unique, then add it to a our cities list\n",
    "    if city not in cities:\n",
    "        cities.append(city)\n",
    "\n",
    "# Print the city count to confirm sufficient count\n",
    "len(cities)\n",
    "#pprint(cities)"
   ]
  },
  {
   "cell_type": "markdown",
   "metadata": {},
   "source": [
    "# Perform API Calls"
   ]
  },
  {
   "cell_type": "code",
   "execution_count": 15,
   "metadata": {},
   "outputs": [],
   "source": [
    "lat = []\n",
    "lon = []\n",
    "temp = []\n",
    "wind_speed = []\n",
    "max_temp = []\n",
    "humidity = []\n",
    "clouds = []\n",
    "country = []\n",
    "city_dt = []\n",
    "name = []\n",
    "id =[]\n",
    "actual_city=[]"
   ]
  },
  {
   "cell_type": "code",
   "execution_count": 16,
   "metadata": {},
   "outputs": [],
   "source": [
    "url = \"http://api.openweathermap.org/data/2.5/weather?\"\n",
    "units = \"imperial\"\n",
    "city = cities\n",
    "query_url = f\"{url}appid={weather_api_key}&units={units}&q=\""
   ]
  },
  {
   "cell_type": "code",
   "execution_count": 17,
   "metadata": {},
   "outputs": [
    {
     "name": "stdout",
     "output_type": "stream",
     "text": [
      "Gambēla found, appending stats.\n",
      "Lamesa found, appending stats.\n",
      "Nikolskoye found, appending stats.\n",
      "Butaritari found, appending stats.\n",
      "Port Hedland found, appending stats.\n",
      "Altos del Rosario found, appending stats.\n",
      "Busselton found, appending stats.\n",
      "Sehithwa found, appending stats.\n",
      "Taksimo found, appending stats.\n",
      "Hobart found, appending stats.\n",
      "Pisco found, appending stats.\n",
      "Port Alfred found, appending stats.\n",
      "Panzhihua found, appending stats.\n",
      "Avarua found, appending stats.\n",
      "Wahiawā found, appending stats.\n",
      "Shalinskoye found, appending stats.\n",
      "Not found.\n",
      "Beloha found, appending stats.\n",
      "Bollnäs found, appending stats.\n",
      "São João da Barra found, appending stats.\n",
      "Vaini found, appending stats.\n",
      "West Bay found, appending stats.\n",
      "Oddur found, appending stats.\n",
      "Taoudenni found, appending stats.\n",
      "Talnakh found, appending stats.\n",
      "Not found.\n",
      "Rikitea found, appending stats.\n",
      "Not found.\n",
      "Fairbanks found, appending stats.\n",
      "Hong Kong found, appending stats.\n",
      "Bluff found, appending stats.\n",
      "Punta Arenas found, appending stats.\n",
      "Faya found, appending stats.\n",
      "Not found.\n",
      "Atuona found, appending stats.\n",
      "Wajir found, appending stats.\n",
      "Asău found, appending stats.\n",
      "Dikson found, appending stats.\n",
      "Chui found, appending stats.\n",
      "Tuktoyaktuk found, appending stats.\n",
      "Isil'kul' found, appending stats.\n",
      "Jamestown found, appending stats.\n",
      "Upernavik found, appending stats.\n",
      "Severo-Kuril'sk found, appending stats.\n",
      "Arlit found, appending stats.\n",
      "Benguela found, appending stats.\n",
      "Anadyr found, appending stats.\n",
      "Cap Malheureux found, appending stats.\n",
      "Longkou found, appending stats.\n",
      "Not found.\n",
      "Zhangaözen found, appending stats.\n",
      "Bay Roberts found, appending stats.\n",
      "Not found.\n",
      "Tiksi found, appending stats.\n",
      "Torbay found, appending stats.\n",
      "Baruun-Urt found, appending stats.\n",
      "Muzhi found, appending stats.\n",
      "Not found.\n",
      "Payo found, appending stats.\n",
      "Not found.\n",
      "Port Lincoln found, appending stats.\n",
      "Port Hardy found, appending stats.\n",
      "Eyl found, appending stats.\n",
      "Quatre Cocos found, appending stats.\n",
      "Roebourne found, appending stats.\n",
      "Kruisfontein found, appending stats.\n",
      "Khatanga found, appending stats.\n",
      "Vao found, appending stats.\n",
      "Nālūt found, appending stats.\n",
      "Lake Wales found, appending stats.\n",
      "New Norfolk found, appending stats.\n",
      "Port Hawkesbury found, appending stats.\n",
      "Vila Real de Santo António found, appending stats.\n",
      "Carballo found, appending stats.\n",
      "Ushuaia found, appending stats.\n",
      "Oistins found, appending stats.\n",
      "Puerto Ayora found, appending stats.\n",
      "Pangody found, appending stats.\n",
      "Cape Town found, appending stats.\n",
      "Mataura found, appending stats.\n",
      "Not found.\n",
      "Not found.\n",
      "Katsuura found, appending stats.\n",
      "Puerto Madryn found, appending stats.\n",
      "Kapaa found, appending stats.\n",
      "Cabildo found, appending stats.\n",
      "Kurisove found, appending stats.\n",
      "Hilo found, appending stats.\n",
      "Natal found, appending stats.\n",
      "Puri found, appending stats.\n",
      "Mahébourg found, appending stats.\n",
      "Fort Nelson found, appending stats.\n",
      "Not found.\n",
      "Atambua found, appending stats.\n",
      "Velsk found, appending stats.\n",
      "Bonoua found, appending stats.\n",
      "Huron found, appending stats.\n",
      "Saint-Joseph found, appending stats.\n",
      "Ayna found, appending stats.\n",
      "Abu Samrah found, appending stats.\n",
      "Geraldton found, appending stats.\n",
      "Mackay found, appending stats.\n",
      "Not found.\n",
      "Not found.\n",
      "Vila Velha found, appending stats.\n",
      "Hasaki found, appending stats.\n",
      "Pingzhuang found, appending stats.\n",
      "Oranjemund found, appending stats.\n",
      "Nome found, appending stats.\n",
      "Leningradskiy found, appending stats.\n",
      "Porkhov found, appending stats.\n",
      "Yulara found, appending stats.\n",
      "Thinadhoo found, appending stats.\n",
      "Ribeira Grande found, appending stats.\n",
      "Virginia Beach found, appending stats.\n",
      "Hermanus found, appending stats.\n",
      "Cap-aux-Meules found, appending stats.\n",
      "Quang Ngai found, appending stats.\n",
      "Saint-Philippe found, appending stats.\n",
      "Manono found, appending stats.\n",
      "Maryville found, appending stats.\n",
      "Lebu found, appending stats.\n",
      "Alofi found, appending stats.\n",
      "Barrow found, appending stats.\n",
      "Santa Maria found, appending stats.\n",
      "Plettenberg Bay found, appending stats.\n",
      "Te Anau found, appending stats.\n",
      "Pevek found, appending stats.\n",
      "Hithadhoo found, appending stats.\n",
      "Saskylakh found, appending stats.\n",
      "Bathsheba found, appending stats.\n",
      "Prieska found, appending stats.\n",
      "Magaria found, appending stats.\n",
      "Mâncio Lima found, appending stats.\n",
      "Karasburg found, appending stats.\n",
      "Khasan found, appending stats.\n",
      "Santa Cruz de la Sierra found, appending stats.\n",
      "Kushmurun found, appending stats.\n",
      "Yar-Sale found, appending stats.\n",
      "East London found, appending stats.\n",
      "Chumikan found, appending stats.\n",
      "Buala found, appending stats.\n",
      "Tasiilaq found, appending stats.\n",
      "Tahe found, appending stats.\n",
      "Constitución found, appending stats.\n",
      "Port Elizabeth found, appending stats.\n",
      "Bambous Virieux found, appending stats.\n",
      "Koboko found, appending stats.\n",
      "Listowel found, appending stats.\n",
      "Sisimiut found, appending stats.\n",
      "Bredasdorp found, appending stats.\n",
      "Sungai Penuh found, appending stats.\n",
      "Saldanha found, appending stats.\n",
      "Yellowknife found, appending stats.\n",
      "Krasnyy Chikoy found, appending stats.\n",
      "Lagos found, appending stats.\n",
      "Not found.\n",
      "Ulladulla found, appending stats.\n",
      "Yatou found, appending stats.\n",
      "Pocinhos found, appending stats.\n",
      "Not found.\n",
      "Yerbogachën found, appending stats.\n",
      "Albany found, appending stats.\n",
      "Oktyabr'skiy found, appending stats.\n",
      "Miragoâne found, appending stats.\n",
      "Carnarvon found, appending stats.\n",
      "Harper found, appending stats.\n",
      "Gladstone found, appending stats.\n",
      "Tiruchchendur found, appending stats.\n",
      "Veshenskaya found, appending stats.\n",
      "Pangnirtung found, appending stats.\n",
      "Qaanaaq found, appending stats.\n",
      "Sucúa found, appending stats.\n",
      "Porto-Novo found, appending stats.\n",
      "Labytnangi found, appending stats.\n",
      "Korla found, appending stats.\n",
      "Aswān found, appending stats.\n",
      "Vasil'yevskiy Mokh found, appending stats.\n",
      "Not found.\n",
      "Arrondissement du Havre found, appending stats.\n",
      "Kibondo found, appending stats.\n",
      "Adelaide found, appending stats.\n",
      "Not found.\n",
      "Yumen found, appending stats.\n",
      "Longyearbyen found, appending stats.\n",
      "Galveston found, appending stats.\n",
      "Not found.\n",
      "Tuatapere found, appending stats.\n",
      "Kutum found, appending stats.\n",
      "Berlevåg found, appending stats.\n",
      "Clyde River found, appending stats.\n",
      "Kapoeta found, appending stats.\n",
      "Kitimat found, appending stats.\n",
      "Taganak found, appending stats.\n",
      "Not found.\n",
      "Philadelphia found, appending stats.\n",
      "Hammerfest found, appending stats.\n",
      "Suntar found, appending stats.\n",
      "La Asuncion found, appending stats.\n",
      "Viedma found, appending stats.\n",
      "College found, appending stats.\n",
      "Matara found, appending stats.\n",
      "Yei found, appending stats.\n",
      "Lujiang found, appending stats.\n",
      "Lira found, appending stats.\n",
      "Hammond found, appending stats.\n",
      "Not found.\n",
      "Bantry found, appending stats.\n",
      "Nanga Eboko found, appending stats.\n",
      "Castro found, appending stats.\n",
      "Sharjah city found, appending stats.\n",
      "Concepción del Oro found, appending stats.\n",
      "Avera found, appending stats.\n",
      "Provideniya found, appending stats.\n",
      "Not found.\n",
      "Itaituba found, appending stats.\n",
      "São Filipe found, appending stats.\n",
      "Baykit found, appending stats.\n",
      "Arraial do Cabo found, appending stats.\n",
      "Saint Paul Harbor found, appending stats.\n",
      "Itoman found, appending stats.\n",
      "Souillac found, appending stats.\n",
      "Multan found, appending stats.\n",
      "Oskarshamn found, appending stats.\n",
      "Lerwick found, appending stats.\n",
      "Niterói found, appending stats.\n",
      "Lydenburg found, appending stats.\n",
      "Kristiansund found, appending stats.\n",
      "Not found.\n",
      "Klaksvík found, appending stats.\n",
      "Ylöjärvi found, appending stats.\n",
      "Mutsu found, appending stats.\n",
      "Cabo San Lucas found, appending stats.\n",
      "Aklavik found, appending stats.\n",
      "Inhambane found, appending stats.\n",
      "Rocha found, appending stats.\n",
      "Hilton Head found, appending stats.\n",
      "Guiglo found, appending stats.\n",
      "Orlik found, appending stats.\n",
      "Fortuna found, appending stats.\n",
      "Amuntai found, appending stats.\n",
      "Villarrica found, appending stats.\n",
      "Houma found, appending stats.\n",
      "Mossamedes found, appending stats.\n",
      "Turukhansk found, appending stats.\n",
      "Örebro found, appending stats.\n",
      "El Jícaro found, appending stats.\n",
      "Grindavik found, appending stats.\n",
      "Chapais found, appending stats.\n",
      "Saint-Pierre found, appending stats.\n",
      "Slobodskoy found, appending stats.\n",
      "Not found.\n",
      "Portland found, appending stats.\n",
      "Shellbrook found, appending stats.\n",
      "Westport found, appending stats.\n",
      "Kangaba found, appending stats.\n",
      "Ubari found, appending stats.\n",
      "Dabola found, appending stats.\n",
      "Ponta Porã found, appending stats.\n",
      "Not found.\n",
      "Iqaluit found, appending stats.\n",
      "Not found.\n",
      "Kirakira found, appending stats.\n",
      "Smithers found, appending stats.\n",
      "Santiago found, appending stats.\n",
      "Bengkulu found, appending stats.\n",
      "Romny found, appending stats.\n",
      "Antofagasta found, appending stats.\n",
      "Bethel found, appending stats.\n",
      "Kupino found, appending stats.\n",
      "Ossora found, appending stats.\n",
      "Cherskiy found, appending stats.\n",
      "Sulangan found, appending stats.\n",
      "Jumla found, appending stats.\n",
      "Cockburn Town found, appending stats.\n",
      "Galesong found, appending stats.\n",
      "Razdolinsk found, appending stats.\n",
      "High Level found, appending stats.\n",
      "Nanortalik found, appending stats.\n",
      "Puerto Cabezas found, appending stats.\n",
      "Not found.\n",
      "Mar del Plata found, appending stats.\n",
      "Grand Gaube found, appending stats.\n",
      "Sitka found, appending stats.\n",
      "Ixtapa found, appending stats.\n",
      "Ransang found, appending stats.\n",
      "Jutaí found, appending stats.\n",
      "Northam found, appending stats.\n",
      "Vardø found, appending stats.\n",
      "Kamaishi found, appending stats.\n",
      "Ilulissat found, appending stats.\n",
      "Narsaq found, appending stats.\n",
      "Praia found, appending stats.\n",
      "Gurupá found, appending stats.\n",
      "Not found.\n",
      "Chokurdakh found, appending stats.\n",
      "Thompson found, appending stats.\n",
      "Cidreira found, appending stats.\n",
      "Kavieng found, appending stats.\n",
      "Hay River found, appending stats.\n",
      "Narkanda found, appending stats.\n",
      "Umluj found, appending stats.\n",
      "Ponta do Sol found, appending stats.\n",
      "Ust-Nera found, appending stats.\n",
      "Nhulunbuy found, appending stats.\n",
      "Codrington found, appending stats.\n",
      "Show Low found, appending stats.\n",
      "Fuling found, appending stats.\n",
      "São João do Piauí found, appending stats.\n",
      "Bereda found, appending stats.\n",
      "Mbanza-Ngungu found, appending stats.\n",
      "Pacific Grove found, appending stats.\n",
      "Rodnikovo found, appending stats.\n",
      "Manapparai found, appending stats.\n",
      "Bilibino found, appending stats.\n",
      "Not found.\n",
      "Agdangan found, appending stats.\n",
      "Camacha found, appending stats.\n",
      "Maceió found, appending stats.\n",
      "Riyadh found, appending stats.\n",
      "Nueva Guinea found, appending stats.\n",
      "Prunişor found, appending stats.\n",
      "São José da Coroa Grande found, appending stats.\n",
      "Namatanai found, appending stats.\n",
      "Ketchikan found, appending stats.\n",
      "Saint-Augustin found, appending stats.\n",
      "Matagami found, appending stats.\n",
      "Bol found, appending stats.\n",
      "Obihiro found, appending stats.\n",
      "Kupang found, appending stats.\n",
      "Labuan found, appending stats.\n",
      "Green River found, appending stats.\n",
      "Río Gallegos found, appending stats.\n",
      "Isla Mujeres found, appending stats.\n",
      "Airai found, appending stats.\n",
      "Tazovsky found, appending stats.\n",
      "Vila found, appending stats.\n",
      "Puerto Escondido found, appending stats.\n",
      "Aripuanã found, appending stats.\n",
      "Sukumo found, appending stats.\n",
      "Salalah found, appending stats.\n",
      "Thap Than found, appending stats.\n",
      "Kununurra found, appending stats.\n",
      "Pringsewu found, appending stats.\n",
      "Zheleznodorozhnyy found, appending stats.\n",
      "Deputatsky found, appending stats.\n",
      "Vestmannaeyjar found, appending stats.\n",
      "Mocuba found, appending stats.\n",
      "Hualmay found, appending stats.\n",
      "Hohhot found, appending stats.\n",
      "Bandarbeyla found, appending stats.\n",
      "Ancud found, appending stats.\n",
      "Honningsvåg found, appending stats.\n",
      "Not found.\n",
      "Diré found, appending stats.\n",
      "Belmopan found, appending stats.\n",
      "Yaan found, appending stats.\n",
      "Ghanzi found, appending stats.\n",
      "Cam Ranh found, appending stats.\n",
      "Atascadero found, appending stats.\n",
      "Reconquista found, appending stats.\n",
      "Nuuk found, appending stats.\n",
      "Garoowe found, appending stats.\n",
      "Tawang Town found, appending stats.\n",
      "Broken Hill found, appending stats.\n",
      "Faanui found, appending stats.\n",
      "Baixa Grande found, appending stats.\n",
      "Strezhevoy found, appending stats.\n",
      "Port-Gentil found, appending stats.\n",
      "Menongue found, appending stats.\n",
      "Mahon found, appending stats.\n",
      "Steinbach am Taunus found, appending stats.\n",
      "Kieta found, appending stats.\n",
      "Safi found, appending stats.\n",
      "Banjar found, appending stats.\n",
      "Biak found, appending stats.\n",
      "Not found.\n",
      "Norman Wells found, appending stats.\n",
      "Mount Gambier found, appending stats.\n",
      "Karratha found, appending stats.\n",
      "Santa Isabel Rio Negro found, appending stats.\n",
      "Toccoa found, appending stats.\n",
      "Not found.\n",
      "Mayor Pablo Lagerenza found, appending stats.\n",
      "Isangel found, appending stats.\n",
      "Mountain Home found, appending stats.\n",
      "Fiumicino found, appending stats.\n",
      "Najrān found, appending stats.\n",
      "Eureka found, appending stats.\n",
      "Hervey Bay found, appending stats.\n",
      "Coos Bay found, appending stats.\n",
      "Sakata found, appending stats.\n",
      "Sigli found, appending stats.\n",
      "Ankazoabo found, appending stats.\n",
      "Norsup found, appending stats.\n",
      "Not found.\n",
      "Motygino found, appending stats.\n",
      "Aloleng found, appending stats.\n",
      "Zhigansk found, appending stats.\n",
      "Muros found, appending stats.\n",
      "Necochea found, appending stats.\n",
      "Esperance found, appending stats.\n",
      "Not found.\n",
      "Sept-Îles found, appending stats.\n",
      "Tornio found, appending stats.\n",
      "Vostok found, appending stats.\n",
      "San Jerónimo found, appending stats.\n",
      "Not found.\n",
      "Gornopravdinsk found, appending stats.\n",
      "Nicolás Bravo found, appending stats.\n",
      "Barranca found, appending stats.\n",
      "Not found.\n",
      "Springdale found, appending stats.\n",
      "Caucayá found, appending stats.\n",
      "Pīpri found, appending stats.\n",
      "Nizhnyaya Poyma found, appending stats.\n",
      "Yantzaza found, appending stats.\n",
      "Gallup found, appending stats.\n",
      "Colombia found, appending stats.\n",
      "Jinka found, appending stats.\n",
      "Lagoa found, appending stats.\n",
      "Ust'-Barguzin found, appending stats.\n",
      "Alugan found, appending stats.\n",
      "Rāmpura found, appending stats.\n",
      "Gouré found, appending stats.\n",
      "Lengshuitan found, appending stats.\n",
      "Beya found, appending stats.\n",
      "Hambantota found, appending stats.\n",
      "Severomuysk found, appending stats.\n",
      "Karpogory found, appending stats.\n",
      "Burē found, appending stats.\n",
      "Malko Tarnovo found, appending stats.\n",
      "Walvis Bay found, appending stats.\n",
      "Mackenzie found, appending stats.\n",
      "Cairns found, appending stats.\n",
      "Keighley found, appending stats.\n",
      "Dingle found, appending stats.\n",
      "Not found.\n",
      "Whitley Bay found, appending stats.\n",
      "Hokitika found, appending stats.\n",
      "Chester found, appending stats.\n",
      "Not found.\n",
      "Marrakesh found, appending stats.\n",
      "Hamilton found, appending stats.\n",
      "Cascais found, appending stats.\n",
      "Newport found, appending stats.\n",
      "Port-Cartier found, appending stats.\n",
      "Umm Kaddadah found, appending stats.\n",
      "Adrar found, appending stats.\n",
      "Jalu found, appending stats.\n",
      "Inuvik found, appending stats.\n",
      "Solnechnyy found, appending stats.\n",
      "Judaberg found, appending stats.\n",
      "Tura found, appending stats.\n",
      "Zelenoborskiy found, appending stats.\n",
      "Wodonga found, appending stats.\n",
      "Severo-Yeniseyskiy found, appending stats.\n",
      "Kindu found, appending stats.\n",
      "Bhadrāchalam found, appending stats.\n",
      "Palmer found, appending stats.\n",
      "George Town found, appending stats.\n",
      "Alice Springs found, appending stats.\n",
      "Sobolevo found, appending stats.\n",
      "Makat found, appending stats.\n",
      "Lavrentiya found, appending stats.\n",
      "Middelburg found, appending stats.\n",
      "Yeppoon found, appending stats.\n",
      "Bogo found, appending stats.\n",
      "Cayenne found, appending stats.\n",
      "Erenhot found, appending stats.\n",
      "Not found.\n",
      "Katobu found, appending stats.\n",
      "Maniitsoq found, appending stats.\n",
      "Hisar found, appending stats.\n",
      "Fort Frances found, appending stats.\n",
      "Téra found, appending stats.\n",
      "Yenagoa found, appending stats.\n",
      "Rio Grande found, appending stats.\n",
      "Fredericksburg found, appending stats.\n",
      "Not found.\n",
      "Akdağmadeni found, appending stats.\n",
      "Mawlaik found, appending stats.\n",
      "Paphos found, appending stats.\n",
      "Bodden Town found, appending stats.\n",
      "Atar found, appending stats.\n",
      "Gijang found, appending stats.\n",
      "Hofn found, appending stats.\n",
      "Nowy Targ found, appending stats.\n",
      "Chernyshevskiy found, appending stats.\n",
      "Dicabisagan found, appending stats.\n",
      "Msanga found, appending stats.\n",
      "Mīnāb found, appending stats.\n",
      "Bara found, appending stats.\n",
      "Eenhana found, appending stats.\n",
      "Mount Isa found, appending stats.\n",
      "Kabare found, appending stats.\n",
      "Russkiy Aktash found, appending stats.\n",
      "Genhe found, appending stats.\n",
      "Shirokiy found, appending stats.\n",
      "Touros found, appending stats.\n",
      "Ekibastuz found, appending stats.\n",
      "Kamenka found, appending stats.\n",
      "Lianyuan found, appending stats.\n",
      "Ngorongoro found, appending stats.\n",
      "Dunhua found, appending stats.\n",
      "Oriximiná found, appending stats.\n",
      "Yangi Marg`ilon found, appending stats.\n",
      "County Wicklow found, appending stats.\n",
      "Panguna found, appending stats.\n",
      "Dzaoudzi found, appending stats.\n",
      "Alappuzha found, appending stats.\n",
      "Ostrovnoy found, appending stats.\n",
      "Kidal found, appending stats.\n",
      "Paranaíba found, appending stats.\n",
      "Nkhotakota found, appending stats.\n",
      "Lata found, appending stats.\n",
      "Biryusinsk found, appending stats.\n",
      "Tolaga Bay found, appending stats.\n",
      "Nanyang found, appending stats.\n",
      "Salinópolis found, appending stats.\n",
      "Xingtai found, appending stats.\n",
      "Prince Rupert found, appending stats.\n",
      "Uyskoye found, appending stats.\n",
      "Jashpurnagar found, appending stats.\n",
      "Tucupita found, appending stats.\n",
      "Havre-St-Pierre found, appending stats.\n",
      "Flinders found, appending stats.\n",
      "Nchelenge found, appending stats.\n",
      "Port Macquarie found, appending stats.\n",
      "Paraná found, appending stats.\n",
      "Saýat found, appending stats.\n",
      "Freeport found, appending stats.\n",
      "Morón found, appending stats.\n",
      "Not found.\n",
      "Olafsvik found, appending stats.\n",
      "Lompoc found, appending stats.\n",
      "Timrå found, appending stats.\n",
      "Kirovsk found, appending stats.\n",
      "Savanūr found, appending stats.\n",
      "Araouane found, appending stats.\n",
      "Tigre found, appending stats.\n",
      "Not found.\n",
      "Caravelas found, appending stats.\n",
      "Suamico found, appending stats.\n",
      "Andenes found, appending stats.\n",
      "Saint George found, appending stats.\n",
      "San Fernando del Valle de Catamarca found, appending stats.\n",
      "Lorengau found, appending stats.\n",
      "Not found.\n",
      "Tucuruí found, appending stats.\n",
      "Itarema found, appending stats.\n",
      "Conde found, appending stats.\n",
      "Beringovskiy found, appending stats.\n",
      "Killybegs found, appending stats.\n",
      "Atkarsk found, appending stats.\n",
      "Leeton found, appending stats.\n",
      "Māngrol found, appending stats.\n",
      "Makakilo City found, appending stats.\n",
      "Ayan found, appending stats.\n",
      "Haines Junction found, appending stats.\n",
      "Tremedal found, appending stats.\n",
      "Samarai found, appending stats.\n",
      "Borogontsy found, appending stats.\n",
      "Tessalit found, appending stats.\n",
      "Chifeng found, appending stats.\n",
      "Kumul found, appending stats.\n",
      "Ust-Kuyga found, appending stats.\n",
      "Pierre found, appending stats.\n",
      "Devaprayāg found, appending stats.\n",
      "Not found.\n",
      "Pitimbu found, appending stats.\n",
      "Alekseyevsk found, appending stats.\n",
      "San Patricio found, appending stats.\n",
      "Not found.\n",
      "Salta found, appending stats.\n",
      "Isiro found, appending stats.\n",
      "Tarauacá found, appending stats.\n",
      "Brae found, appending stats.\n",
      "Nampula found, appending stats.\n",
      "Przasnysz found, appending stats.\n",
      "Varkala found, appending stats.\n",
      "Tataouine found, appending stats.\n",
      "Villa Bruzual found, appending stats.\n",
      "Jasper found, appending stats.\n",
      "Kalmunai found, appending stats.\n",
      "Launceston found, appending stats.\n",
      "Marapanim found, appending stats.\n",
      "Lokosovo found, appending stats.\n",
      "Amapá found, appending stats.\n",
      "Aksarka found, appending stats.\n",
      "Lucapa found, appending stats.\n",
      "Mnogovershinnyy found, appending stats.\n",
      "Pārsābād found, appending stats.\n",
      "Kedrovyy found, appending stats.\n",
      "Camocim found, appending stats.\n",
      "Moundou found, appending stats.\n",
      "Gweru found, appending stats.\n",
      "Phan Thiet found, appending stats.\n",
      "Cosalá found, appending stats.\n",
      "Vaitape found, appending stats.\n",
      "Colac found, appending stats.\n",
      "Srednekolymsk found, appending stats.\n",
      "Kenai found, appending stats.\n",
      "Lonevåg found, appending stats.\n",
      "Saint Anthony found, appending stats.\n",
      "Srandakan found, appending stats.\n",
      "Nabire found, appending stats.\n",
      "Tarakan found, appending stats.\n",
      "Bulgan found, appending stats.\n",
      "Oshnavīyeh found, appending stats.\n",
      "Kiama found, appending stats.\n",
      "Bandar-e Anzali found, appending stats.\n",
      "Fraserburgh found, appending stats.\n",
      "Tegul'det found, appending stats.\n",
      "Arman' found, appending stats.\n",
      "Alyangula found, appending stats.\n",
      "Burlington found, appending stats.\n",
      "Moroto found, appending stats.\n",
      "Ocampo found, appending stats.\n",
      "Jiayuguan City found, appending stats.\n",
      "Makkah al Mukarramah found, appending stats.\n",
      "Mahibadhoo found, appending stats.\n",
      "Kaitangata found, appending stats.\n",
      "Kushima found, appending stats.\n"
     ]
    }
   ],
   "source": [
    "#Perform a weather check on each city using a series of successive API calls.\n",
    "#Include a print log of each city as it's being processed (with the city number and city name).\n",
    "# IT IS GETTING INTERUPTED AT CITY 6: \n",
    "# {'cod': '404' , 'message' : 'city not found'}\n",
    "####PRINT OUT LOG OF CURRENT CITY AND ID AS YOU GO##############\n",
    "for each_city in city:\n",
    "    response = requests.get(query_url + each_city).json()\n",
    "    #pprint(response)\n",
    "    try:\n",
    "        city_dt.append(response[\"dt\"])\n",
    "        id.append(response[\"id\"])\n",
    "        name.append(response[\"name\"])\n",
    "        temp.append(response['main']['temp'])\n",
    "        lat.append(response[\"coord\"][\"lat\"])\n",
    "        lon.append(response['coord']['lon'])\n",
    "        wind_speed.append(response[\"wind\"][\"speed\"])\n",
    "        max_temp.append(response[\"main\"][\"temp_max\"])\n",
    "        humidity.append(response[\"main\"][\"humidity\"])\n",
    "        clouds.append(response[\"clouds\"][\"all\"])\n",
    "        country.append(response[\"sys\"][\"country\"])\n",
    "        actual_city.append(each_city)\n",
    "        print(f\"{response['name']} found, appending stats.\")\n",
    "    except KeyError: \n",
    "        print(\"Sorrry, that city was not found.\")\n",
    "        pass"
   ]
  },
  {
   "cell_type": "code",
   "execution_count": null,
   "metadata": {},
   "outputs": [],
   "source": [
    "\n"
   ]
  },
  {
   "cell_type": "markdown",
   "metadata": {},
   "source": [
    "# Convert Raw Data to DF"
   ]
  },
  {
   "cell_type": "code",
   "execution_count": null,
   "metadata": {},
   "outputs": [],
   "source": [
    "#Export the city data into a .csv.\n",
    "#LAT, LONG, MAX TEMP, HUMIDITY, CLOUD COVERAGE, WIND SPEED, CITY COUNTRY, CITY DATETIME\n",
    "#Display the DataFrame"
   ]
  },
  {
   "cell_type": "markdown",
   "metadata": {},
   "source": [
    "# Inspect Data and Remove Cities Where Humnidity is > 100%"
   ]
  },
  {
   "cell_type": "code",
   "execution_count": null,
   "metadata": {},
   "outputs": [],
   "source": [
    "#Skip this step if no cities are > 100% humidity "
   ]
  },
  {
   "cell_type": "code",
   "execution_count": null,
   "metadata": {},
   "outputs": [],
   "source": [
    "#  Get the indices of cities that have humidity over 100%.\n",
    "Int64Index([], dtype='int64')"
   ]
  },
  {
   "cell_type": "code",
   "execution_count": null,
   "metadata": {},
   "outputs": [],
   "source": [
    "# Make a new DataFrame equal to the city data to drop all humidity outliers by index.\n",
    "# Passing \"inplace=False\" will make a copy of the city_data DataFrame, which we call \"clean_city_data\"."
   ]
  },
  {
   "cell_type": "markdown",
   "metadata": {},
   "source": [
    "# Plot The Data"
   ]
  },
  {
   "cell_type": "code",
   "execution_count": null,
   "metadata": {},
   "outputs": [],
   "source": [
    "#Use proper labeling of the plots using plot titles (including date of analysis) and axes labels.\n",
    "#Save the plotted figures as .pngs."
   ]
  },
  {
   "cell_type": "markdown",
   "metadata": {},
   "source": [
    "# Latitude vs. Temperature Plot"
   ]
  },
  {
   "cell_type": "code",
   "execution_count": null,
   "metadata": {},
   "outputs": [],
   "source": [
    "# PLOT THEN ADD A FEW SENTENCES \"EXPLAINING WHAT THE CODE IS ANALYZING\""
   ]
  },
  {
   "cell_type": "markdown",
   "metadata": {},
   "source": [
    "# Latitude vs. Humidity Plot"
   ]
  },
  {
   "cell_type": "code",
   "execution_count": null,
   "metadata": {},
   "outputs": [],
   "source": [
    "# PLOT THEN ADD A FEW SENTENCES \"EXPLAINING WHAT THE CODE IS ANALYZING\""
   ]
  },
  {
   "cell_type": "markdown",
   "metadata": {},
   "source": [
    "# Latitude vs. Cloudiness Plot"
   ]
  },
  {
   "cell_type": "code",
   "execution_count": null,
   "metadata": {},
   "outputs": [],
   "source": [
    "# PLOT THEN ADD A FEW SENTENCES \"EXPLAINING WHAT THE CODE IS ANALYZING\""
   ]
  },
  {
   "cell_type": "markdown",
   "metadata": {},
   "source": [
    "# Latitude vs. Wind Speed Plot"
   ]
  },
  {
   "cell_type": "code",
   "execution_count": null,
   "metadata": {},
   "outputs": [],
   "source": [
    "# PLOT THEN ADD A FEW SENTENCES \"EXPLAINING WHAT THE CODE IS ANALYZING\""
   ]
  },
  {
   "cell_type": "markdown",
   "metadata": {},
   "source": [
    "# Linear Regression"
   ]
  },
  {
   "cell_type": "markdown",
   "metadata": {},
   "source": [
    "# Northern Hemisphere - Max Temp vs. Latitude Linear Regression"
   ]
  },
  {
   "cell_type": "code",
   "execution_count": null,
   "metadata": {},
   "outputs": [],
   "source": [
    "# The r-value is: 0.46937863826630627"
   ]
  },
  {
   "cell_type": "code",
   "execution_count": null,
   "metadata": {},
   "outputs": [],
   "source": [
    "#PUT PLOT HERE AND ADD A FEW SENTENCES TO DESCRIBE RELATIONSHIPS OR OTHER OBSERVATIONS"
   ]
  },
  {
   "cell_type": "markdown",
   "metadata": {},
   "source": [
    "# Southern Hemisphere - Max Temp vs. Latitude Linear Regression"
   ]
  },
  {
   "cell_type": "code",
   "execution_count": null,
   "metadata": {},
   "outputs": [],
   "source": [
    "# The r-value is: 0.6082708688906918"
   ]
  },
  {
   "cell_type": "code",
   "execution_count": null,
   "metadata": {},
   "outputs": [],
   "source": [
    "#PUT PLOT HERE AND ADD A FEW SENTENCES TO DESCRIBE RELATIONSHIPS OR OTHER OBSERVATIONS"
   ]
  },
  {
   "cell_type": "markdown",
   "metadata": {},
   "source": [
    "# Northern Hemisphere - Humidity (%) vs. Latitude Linear Regression"
   ]
  },
  {
   "cell_type": "code",
   "execution_count": null,
   "metadata": {},
   "outputs": [],
   "source": [
    "#The r-value is: 0.000543987878808455"
   ]
  },
  {
   "cell_type": "code",
   "execution_count": null,
   "metadata": {},
   "outputs": [],
   "source": [
    "#PUT PLOT HERE AND ADD A FEW SENTENCES TO DESCRIBE RELATIONSHIPS OR OTHER OBSERVATIONS"
   ]
  },
  {
   "cell_type": "markdown",
   "metadata": {},
   "source": [
    "# Southern Hemisphere - Humidity (%) vs. Latitude Linear Regression"
   ]
  },
  {
   "cell_type": "code",
   "execution_count": null,
   "metadata": {},
   "outputs": [],
   "source": [
    "# The r-value is: 0.014985174297345524"
   ]
  },
  {
   "cell_type": "code",
   "execution_count": null,
   "metadata": {},
   "outputs": [],
   "source": [
    "#PUT PLOT HERE AND ADD A FEW SENTENCES TO DESCRIBE RELATIONSHIPS OR OTHER OBSERVATIONS"
   ]
  },
  {
   "cell_type": "markdown",
   "metadata": {},
   "source": [
    "# Northern Hemisphere - Cloudiness (%) vs. Latitude Linear Regression"
   ]
  },
  {
   "cell_type": "code",
   "execution_count": null,
   "metadata": {},
   "outputs": [],
   "source": [
    "# The r-value is: 0.0020898727664228514"
   ]
  },
  {
   "cell_type": "code",
   "execution_count": null,
   "metadata": {},
   "outputs": [],
   "source": [
    "#PUT PLOT HERE AND ADD A FEW SENTENCES TO DESCRIBE RELATIONSHIPS OR OTHER OBSERVATIONS"
   ]
  },
  {
   "cell_type": "markdown",
   "metadata": {},
   "source": [
    "# Southern Hemisphere - Cloudiness (%) vs. Latitude Linear Regression"
   ]
  },
  {
   "cell_type": "code",
   "execution_count": null,
   "metadata": {},
   "outputs": [],
   "source": [
    "# The r-value is: 0.0035263772085582894"
   ]
  },
  {
   "cell_type": "code",
   "execution_count": null,
   "metadata": {},
   "outputs": [],
   "source": [
    "#PUT PLOT HERE AND ADD A FEW SENTENCES TO DESCRIBE RELATIONSHIPS OR OTHER OBSERVATIONS"
   ]
  },
  {
   "cell_type": "markdown",
   "metadata": {},
   "source": [
    "# Northern Hemisphere - Wind Speed (mph) vs. Latitude Linear Regression"
   ]
  },
  {
   "cell_type": "code",
   "execution_count": null,
   "metadata": {},
   "outputs": [],
   "source": [
    "# The r-value is: 0.04019723576144484"
   ]
  },
  {
   "cell_type": "code",
   "execution_count": null,
   "metadata": {},
   "outputs": [],
   "source": [
    "#PUT PLOT HERE AND ADD A FEW SENTENCES TO DESCRIBE RELATIONSHIPS OR OTHER OBSERVATIONS"
   ]
  },
  {
   "cell_type": "markdown",
   "metadata": {},
   "source": [
    "# Southern Hemisphere - Wind Speed (mph) vs. Latitude Linear Regression"
   ]
  },
  {
   "cell_type": "code",
   "execution_count": null,
   "metadata": {},
   "outputs": [],
   "source": [
    "#  The r-value is: 0.017128274759839232"
   ]
  },
  {
   "cell_type": "code",
   "execution_count": null,
   "metadata": {},
   "outputs": [],
   "source": [
    "#PUT PLOT HERE AND ADD A FEW SENTENCES TO DESCRIBE RELATIONSHIPS OR OTHER OBSERVATIONS"
   ]
  },
  {
   "cell_type": "code",
   "execution_count": null,
   "metadata": {},
   "outputs": [],
   "source": []
  },
  {
   "cell_type": "code",
   "execution_count": null,
   "metadata": {},
   "outputs": [],
   "source": []
  },
  {
   "cell_type": "code",
   "execution_count": null,
   "metadata": {},
   "outputs": [],
   "source": []
  },
  {
   "cell_type": "code",
   "execution_count": null,
   "metadata": {},
   "outputs": [],
   "source": []
  },
  {
   "cell_type": "code",
   "execution_count": null,
   "metadata": {},
   "outputs": [],
   "source": []
  },
  {
   "cell_type": "code",
   "execution_count": null,
   "metadata": {},
   "outputs": [],
   "source": []
  }
 ],
 "metadata": {
  "kernelspec": {
   "display_name": "Python 3",
   "language": "python",
   "name": "python3"
  },
  "language_info": {
   "codemirror_mode": {
    "name": "ipython",
    "version": 3
   },
   "file_extension": ".py",
   "mimetype": "text/x-python",
   "name": "python",
   "nbconvert_exporter": "python",
   "pygments_lexer": "ipython3",
   "version": "3.8.5"
  }
 },
 "nbformat": 4,
 "nbformat_minor": 4
}
