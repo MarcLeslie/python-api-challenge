{
 "cells": [
  {
   "cell_type": "code",
   "execution_count": 100,
   "metadata": {},
   "outputs": [],
   "source": [
    "# Dependencies and Setup\n",
    "import matplotlib.pyplot as plt\n",
    "import pandas as pd\n",
    "import numpy as np\n",
    "import requests\n",
    "import time\n",
    "from scipy.stats import linregress\n",
    "import scipy.stats as st\n",
    "from pprint import pprint\n",
    "import seaborn as sns\n",
    "from datetime import date"
   ]
  },
  {
   "cell_type": "code",
   "execution_count": 2,
   "metadata": {},
   "outputs": [],
   "source": [
    "# Import API key\n",
    "from config import weather_api_key"
   ]
  },
  {
   "cell_type": "code",
   "execution_count": 3,
   "metadata": {},
   "outputs": [],
   "source": [
    "# Incorporated citipy to determine city based on latitude and longitude\n",
    "from citipy import citipy"
   ]
  },
  {
   "cell_type": "code",
   "execution_count": 4,
   "metadata": {},
   "outputs": [],
   "source": [
    "# Output File (CSV)\n",
    "output_data_file = \"output_data/cities.csv\""
   ]
  },
  {
   "cell_type": "code",
   "execution_count": 5,
   "metadata": {},
   "outputs": [],
   "source": [
    "# Range of latitudes and longitudes\n",
    "lat_range = (-90, 90)\n",
    "lng_range = (-180, 180)"
   ]
  },
  {
   "cell_type": "markdown",
   "metadata": {},
   "source": [
    "# Generate Cities List"
   ]
  },
  {
   "cell_type": "code",
   "execution_count": 6,
   "metadata": {},
   "outputs": [
    {
     "data": {
      "text/plain": [
       "600"
      ]
     },
     "execution_count": 6,
     "metadata": {},
     "output_type": "execute_result"
    }
   ],
   "source": [
    " # List for holding lat_lngs and cities\n",
    "lat_lngs = []\n",
    "cities = []\n",
    "\n",
    "# Create a set of random lat and lng combinations\n",
    "############### CHANGE SIZE TO 1500 WHEN DONE#######################\n",
    "lats = np.random.uniform(lat_range[0], lat_range[1], size=1500)\n",
    "lngs = np.random.uniform(lng_range[0], lng_range[1], size=1500)\n",
    "lat_lngs = zip(lats, lngs)\n",
    "\n",
    "# Identify nearest city for each lat, lng combination\n",
    "for lat_lng in lat_lngs:\n",
    "    city = citipy.nearest_city(lat_lng[0], lat_lng[1]).city_name\n",
    "    \n",
    "    # If the city is unique, then add it to a our cities list\n",
    "    if city not in cities:\n",
    "        cities.append(city)\n",
    "\n",
    "# Print the city count to confirm sufficient count\n",
    "len(cities)\n",
    "#pprint(cities)"
   ]
  },
  {
   "cell_type": "markdown",
   "metadata": {},
   "source": [
    "# Perform API Calls"
   ]
  },
  {
   "cell_type": "code",
   "execution_count": 117,
   "metadata": {},
   "outputs": [],
   "source": [
    "lat = []\n",
    "lon = []\n",
    "temp = []\n",
    "wind_speed = []\n",
    "max_temp = []\n",
    "humidity = []\n",
    "clouds = []\n",
    "country = []\n",
    "city_dt = []\n",
    "name = []\n",
    "id =[]\n",
    "actual_city=[]\n",
    "#date = today.strftime(\"%b-%d-%Y\") #####YOU DON'T WANT THIS AS YOU WANT THE DATE YOU DID THE PLOT, NOT THE DATE TODAY IS#####"
   ]
  },
  {
   "cell_type": "code",
   "execution_count": 8,
   "metadata": {},
   "outputs": [],
   "source": [
    "url = \"http://api.openweathermap.org/data/2.5/weather?\"\n",
    "units = \"imperial\"\n",
    "city = cities\n",
    "query_url = f\"{url}appid={weather_api_key}&units={units}&q=\""
   ]
  },
  {
   "cell_type": "code",
   "execution_count": 9,
   "metadata": {},
   "outputs": [
    {
     "name": "stdout",
     "output_type": "stream",
     "text": [
      "The city Cape Town was found with the ID of 3369157, appending stats.\n",
      "The city Lavrentiya was found with the ID of 4031637, appending stats.\n",
      "The city Zonguldak was found with the ID of 737021, appending stats.\n",
      "The city Jamestown was found with the ID of 5122534, appending stats.\n",
      "The city South Venice was found with the ID of 4173593, appending stats.\n",
      "The city Vaini was found with the ID of 4032243, appending stats.\n",
      "The city Luwuk was found with the ID of 1637001, appending stats.\n",
      "The city Ushuaia was found with the ID of 3833367, appending stats.\n",
      "The city Bluff was found with the ID of 2206939, appending stats.\n",
      "The city Williamsport was found with the ID of 5219585, appending stats.\n",
      "Sorry, that city was not found.\n",
      "The city Arraial do Cabo was found with the ID of 3471451, appending stats.\n",
      "The city Haines Junction was found with the ID of 5969025, appending stats.\n",
      "The city Puerto Ayora was found with the ID of 3652764, appending stats.\n",
      "The city Olafsvik was found with the ID of 3414079, appending stats.\n",
      "The city Mataura was found with the ID of 6201424, appending stats.\n",
      "Sorry, that city was not found.\n",
      "The city Tasiilaq was found with the ID of 3424607, appending stats.\n",
      "The city Vardø was found with the ID of 777019, appending stats.\n",
      "The city Mackenzie was found with the ID of 6063191, appending stats.\n",
      "The city Bethel was found with the ID of 5282297, appending stats.\n",
      "The city Miles City was found with the ID of 5666176, appending stats.\n",
      "The city Mt. Pleasant was found with the ID of 4588165, appending stats.\n",
      "The city Torbay was found with the ID of 6167817, appending stats.\n",
      "The city Mar del Plata was found with the ID of 3430863, appending stats.\n",
      "Sorry, that city was not found.\n",
      "The city Hilo was found with the ID of 5855927, appending stats.\n",
      "Sorry, that city was not found.\n",
      "The city Butaritari was found with the ID of 2110227, appending stats.\n",
      "The city Hong Kong was found with the ID of 1819729, appending stats.\n",
      "The city Edremit was found with the ID of 315985, appending stats.\n",
      "The city Piteå was found with the ID of 603570, appending stats.\n",
      "The city Avarua was found with the ID of 4035715, appending stats.\n",
      "The city East London was found with the ID of 1006984, appending stats.\n",
      "The city Deputatsky was found with the ID of 2028164, appending stats.\n",
      "The city Punta Arenas was found with the ID of 3874787, appending stats.\n",
      "The city Alihe was found with the ID of 2038665, appending stats.\n",
      "The city Beringovskiy was found with the ID of 2126710, appending stats.\n",
      "The city Albany was found with the ID of 5106841, appending stats.\n",
      "The city Khasan was found with the ID of 2039557, appending stats.\n",
      "The city Rikitea was found with the ID of 4030556, appending stats.\n",
      "The city Cabo San Lucas was found with the ID of 3985710, appending stats.\n",
      "The city Lebu was found with the ID of 3883457, appending stats.\n",
      "Sorry, that city was not found.\n",
      "The city Rio Pomba was found with the ID of 3451094, appending stats.\n",
      "The city São João da Barra was found with the ID of 3448903, appending stats.\n",
      "The city Yellowknife was found with the ID of 6185377, appending stats.\n",
      "The city Port-Gentil was found with the ID of 2396518, appending stats.\n",
      "Sorry, that city was not found.\n",
      "The city Karasuk was found with the ID of 1504489, appending stats.\n",
      "The city Atuona was found with the ID of 4020109, appending stats.\n",
      "The city Airai was found with the ID of 1651810, appending stats.\n",
      "The city Paramonga was found with the ID of 3933024, appending stats.\n",
      "Sorry, that city was not found.\n",
      "The city Aklavik was found with the ID of 5882953, appending stats.\n",
      "The city Geraldton was found with the ID of 2070998, appending stats.\n",
      "The city Busselton was found with the ID of 2075265, appending stats.\n",
      "The city Paraná was found with the ID of 3841956, appending stats.\n",
      "The city Hobart was found with the ID of 2163355, appending stats.\n",
      "The city Loreto was found with the ID of 3998291, appending stats.\n",
      "The city Bengkulu was found with the ID of 1649150, appending stats.\n",
      "Sorry, that city was not found.\n",
      "The city Myaundzha was found with the ID of 2123100, appending stats.\n",
      "The city Broome was found with the ID of 5110365, appending stats.\n",
      "The city Kapaa was found with the ID of 5848280, appending stats.\n",
      "The city Bredasdorp was found with the ID of 1015776, appending stats.\n",
      "The city Kirakira was found with the ID of 2178753, appending stats.\n",
      "The city Saint Simons was found with the ID of 4220862, appending stats.\n",
      "The city Kaitangata was found with the ID of 2208248, appending stats.\n",
      "The city Cidreira was found with the ID of 3466165, appending stats.\n",
      "The city Henties Bay was found with the ID of 3356832, appending stats.\n",
      "The city Longyearbyen was found with the ID of 2729907, appending stats.\n",
      "The city Barra de Tecoanapa was found with the ID of 3516171, appending stats.\n",
      "The city Brae was found with the ID of 2654970, appending stats.\n",
      "The city Port Shepstone was found with the ID of 964406, appending stats.\n",
      "The city Maputo was found with the ID of 1040652, appending stats.\n",
      "The city Vao was found with the ID of 2137773, appending stats.\n",
      "The city Tiksi was found with the ID of 2015306, appending stats.\n",
      "The city Rawson was found with the ID of 3839307, appending stats.\n",
      "The city Fortuna was found with the ID of 5563839, appending stats.\n",
      "The city Benguela was found with the ID of 3351663, appending stats.\n",
      "The city Kulhudhuffushi was found with the ID of 1337613, appending stats.\n",
      "The city Vila Velha was found with the ID of 3445026, appending stats.\n",
      "The city Hongjiang was found with the ID of 1808106, appending stats.\n",
      "The city Provideniya was found with the ID of 4031574, appending stats.\n",
      "Sorry, that city was not found.\n",
      "The city Loandjili was found with the ID of 2258378, appending stats.\n",
      "The city Tura was found with the ID of 1254046, appending stats.\n",
      "Sorry, that city was not found.\n",
      "The city Alofi was found with the ID of 4036284, appending stats.\n",
      "The city Nanortalik was found with the ID of 3421765, appending stats.\n",
      "The city Thompson was found with the ID of 6165406, appending stats.\n",
      "Sorry, that city was not found.\n",
      "The city Huarmey was found with the ID of 3939168, appending stats.\n",
      "The city Makat was found with the ID of 608872, appending stats.\n",
      "The city Sayyan was found with the ID of 70979, appending stats.\n",
      "The city Padang was found with the ID of 1633419, appending stats.\n",
      "Sorry, that city was not found.\n",
      "Sorry, that city was not found.\n",
      "The city Cardston was found with the ID of 5916821, appending stats.\n",
      "The city Saskylakh was found with the ID of 2017155, appending stats.\n",
      "The city Angoche was found with the ID of 1052944, appending stats.\n",
      "The city Lircay was found with the ID of 3928317, appending stats.\n",
      "The city Hermanus was found with the ID of 3366880, appending stats.\n",
      "The city Upernavik was found with the ID of 3418910, appending stats.\n",
      "The city Te Anau was found with the ID of 2181625, appending stats.\n",
      "The city Hambantota was found with the ID of 1244926, appending stats.\n",
      "The city Ancud was found with the ID of 3899695, appending stats.\n",
      "The city Marawi was found with the ID of 1701054, appending stats.\n",
      "The city Santa Maria was found with the ID of 3450083, appending stats.\n",
      "Sorry, that city was not found.\n",
      "The city Ikom was found with the ID of 2338242, appending stats.\n",
      "The city Hithadhoo was found with the ID of 1282256, appending stats.\n",
      "The city Port Alfred was found with the ID of 964432, appending stats.\n",
      "The city Fort Nelson was found with the ID of 5955902, appending stats.\n",
      "The city Samarai was found with the ID of 2132606, appending stats.\n",
      "The city Bonavista was found with the ID of 5905393, appending stats.\n",
      "The city Byron Bay was found with the ID of 2172880, appending stats.\n",
      "The city Ilulissat was found with the ID of 3423146, appending stats.\n",
      "The city Chui was found with the ID of 3443061, appending stats.\n",
      "The city New Norfolk was found with the ID of 2155415, appending stats.\n",
      "The city Severo-Kuril'sk was found with the ID of 2121385, appending stats.\n",
      "The city Bathsheba was found with the ID of 3374083, appending stats.\n",
      "The city Saint-Philippe was found with the ID of 935215, appending stats.\n",
      "The city Pochutla was found with the ID of 3517970, appending stats.\n",
      "The city Kloulklubed was found with the ID of 7671223, appending stats.\n",
      "Sorry, that city was not found.\n",
      "The city Nabire was found with the ID of 1634614, appending stats.\n",
      "The city Bashtanka was found with the ID of 712775, appending stats.\n",
      "The city Palmer was found with the ID of 4946620, appending stats.\n",
      "The city Saint Paul Harbor was found with the ID of 5866583, appending stats.\n",
      "The city Lorengau was found with the ID of 2092164, appending stats.\n",
      "The city Flinders was found with the ID of 6255012, appending stats.\n",
      "The city Dikson was found with the ID of 1507390, appending stats.\n",
      "The city Autazes was found with the ID of 3406948, appending stats.\n",
      "The city Ribeira Grande was found with the ID of 3372707, appending stats.\n",
      "The city Magaria was found with the ID of 2441482, appending stats.\n",
      "The city São Filipe was found with the ID of 3374210, appending stats.\n",
      "The city Kavieng was found with the ID of 2094342, appending stats.\n",
      "The city Chokurdakh was found with the ID of 2126123, appending stats.\n",
      "The city Ponta Porã was found with the ID of 3453150, appending stats.\n",
      "The city Sungai Raya was found with the ID of 1625908, appending stats.\n",
      "Sorry, that city was not found.\n",
      "The city Minatitlán was found with the ID of 3523183, appending stats.\n",
      "Sorry, that city was not found.\n",
      "The city Port Keats was found with the ID of 2063039, appending stats.\n",
      "The city Pekalongan was found with the ID of 1631766, appending stats.\n",
      "The city Isangel was found with the ID of 2136825, appending stats.\n",
      "The city Shubarshi was found with the ID of 608270, appending stats.\n",
      "The city Khalimbekaul was found with the ID of 570479, appending stats.\n",
      "The city Ponta do Sol was found with the ID of 2264557, appending stats.\n",
      "The city Zhuanghe was found with the ID of 1784055, appending stats.\n",
      "The city Husavik was found with the ID of 2629833, appending stats.\n",
      "The city Khatanga was found with the ID of 2022572, appending stats.\n",
      "The city Sambava was found with the ID of 1056899, appending stats.\n",
      "The city Kruisfontein was found with the ID of 986717, appending stats.\n",
      "The city Altus was found with the ID of 4529292, appending stats.\n",
      "The city Clyde River was found with the ID of 5924351, appending stats.\n",
      "The city Willmar was found with the ID of 5052916, appending stats.\n",
      "The city Kano was found with the ID of 2335204, appending stats.\n",
      "The city Hofn was found with the ID of 2630299, appending stats.\n",
      "The city Bowen was found with the ID of 2174444, appending stats.\n",
      "The city Fallon was found with the ID of 5503914, appending stats.\n",
      "The city Tāndā was found with the ID of 1255024, appending stats.\n",
      "The city Nālūt was found with the ID of 2214432, appending stats.\n",
      "Sorry, that city was not found.\n",
      "The city Cotonou was found with the ID of 2394819, appending stats.\n",
      "The city Nuevo Progreso was found with the ID of 3522526, appending stats.\n",
      "The city Naze was found with the ID of 1855540, appending stats.\n",
      "The city Chapais was found with the ID of 5919850, appending stats.\n",
      "The city Mackay was found with the ID of 2159220, appending stats.\n",
      "The city Kem' was found with the ID of 551145, appending stats.\n",
      "The city Iqaluit was found with the ID of 5983720, appending stats.\n",
      "The city Davila was found with the ID of 1715335, appending stats.\n",
      "Sorry, that city was not found.\n",
      "Sorry, that city was not found.\n",
      "The city San Patricio was found with the ID of 4726521, appending stats.\n",
      "The city Matara was found with the ID of 1235846, appending stats.\n",
      "The city Juegang was found with the ID of 1804979, appending stats.\n",
      "The city Nerja was found with the ID of 2513240, appending stats.\n",
      "The city Faanui was found with the ID of 4034551, appending stats.\n",
      "Sorry, that city was not found.\n",
      "The city Copiapó was found with the ID of 3893656, appending stats.\n",
      "The city Pevek was found with the ID of 2122090, appending stats.\n",
      "The city Kendari was found with the ID of 1640344, appending stats.\n",
      "The city Wanning was found with the ID of 1791779, appending stats.\n",
      "The city Coyhaique was found with the ID of 3894426, appending stats.\n",
      "The city Gambiran was found with the ID of 8070858, appending stats.\n",
      "The city Yuci was found with the ID of 1785974, appending stats.\n",
      "The city Colesberg was found with the ID of 1013076, appending stats.\n",
      "The city Goderich was found with the ID of 5962442, appending stats.\n",
      "The city Korla was found with the ID of 1529376, appending stats.\n",
      "The city Kermanshah was found with the ID of 128226, appending stats.\n",
      "The city Turukhansk was found with the ID of 1488903, appending stats.\n",
      "The city Lagoa was found with the ID of 3372964, appending stats.\n",
      "The city Akdağmadeni was found with the ID of 324768, appending stats.\n",
      "The city Viedma was found with the ID of 3832899, appending stats.\n",
      "The city Hochstadt was found with the ID of 3272957, appending stats.\n",
      "The city Margate was found with the ID of 2643044, appending stats.\n",
      "The city Rochegda was found with the ID of 501847, appending stats.\n",
      "The city Invermere was found with the ID of 5983626, appending stats.\n",
      "The city Fort Frances was found with the ID of 5955826, appending stats.\n",
      "The city Saint George was found with the ID of 5546220, appending stats.\n",
      "The city Barrow was found with the ID of 5880054, appending stats.\n",
      "The city Bambous Virieux was found with the ID of 1106677, appending stats.\n",
      "Sorry, that city was not found.\n",
      "The city Rudnichnyy was found with the ID of 500695, appending stats.\n",
      "Sorry, that city was not found.\n",
      "Sorry, that city was not found.\n",
      "The city Xingcheng was found with the ID of 2033766, appending stats.\n",
      "The city Lompoc was found with the ID of 5367788, appending stats.\n",
      "The city Manicoré was found with the ID of 3663503, appending stats.\n",
      "The city Novopavlovka was found with the ID of 2018896, appending stats.\n",
      "The city Lomovka was found with the ID of 534313, appending stats.\n",
      "The city Solnechnyy was found with the ID of 2016307, appending stats.\n",
      "The city Ikalamavony was found with the ID of 1064258, appending stats.\n",
      "The city Shingū was found with the ID of 1847947, appending stats.\n",
      "Sorry, that city was not found.\n",
      "The city Narsaq was found with the ID of 3421719, appending stats.\n",
      "The city Mahébourg was found with the ID of 934322, appending stats.\n",
      "The city Jiaojiang was found with the ID of 1809061, appending stats.\n",
      "The city Castro was found with the ID of 3466704, appending stats.\n",
      "The city Laguna was found with the ID of 5364271, appending stats.\n",
      "The city Heze was found with the ID of 1808198, appending stats.\n",
      "The city Madimba was found with the ID of 878141, appending stats.\n",
      "Sorry, that city was not found.\n",
      "Sorry, that city was not found.\n",
      "The city Aksu was found with the ID of 1529660, appending stats.\n",
      "The city Chennai was found with the ID of 1264527, appending stats.\n",
      "The city Togur was found with the ID of 1489499, appending stats.\n",
      "The city Lata was found with the ID of 2738381, appending stats.\n",
      "The city Emirdağ was found with the ID of 315621, appending stats.\n",
      "The city Great Falls was found with the ID of 5655240, appending stats.\n",
      "The city Auki was found with the ID of 2109701, appending stats.\n",
      "The city Porto Torres was found with the ID of 3170069, appending stats.\n",
      "The city Severnyy was found with the ID of 496358, appending stats.\n",
      "The city Ucluelet was found with the ID of 6171633, appending stats.\n",
      "The city Hay River was found with the ID of 5972762, appending stats.\n",
      "The city Haifa was found with the ID of 294801, appending stats.\n",
      "The city Muros was found with the ID of 3115824, appending stats.\n",
      "The city George Town was found with the ID of 1735106, appending stats.\n",
      "The city Qaanaaq was found with the ID of 3831208, appending stats.\n",
      "The city Poum was found with the ID of 2138555, appending stats.\n",
      "Sorry, that city was not found.\n",
      "The city Nishihara was found with the ID of 1855342, appending stats.\n",
      "The city Kalmunai was found with the ID of 1242110, appending stats.\n",
      "The city Abu Samrah was found with the ID of 172515, appending stats.\n",
      "The city Constitución was found with the ID of 3893726, appending stats.\n",
      "The city Ozernovskiy was found with the ID of 2122293, appending stats.\n",
      "Sorry, that city was not found.\n",
      "The city Carnarvon was found with the ID of 2074865, appending stats.\n",
      "The city Patos was found with the ID of 3392887, appending stats.\n",
      "The city Nikolskoye was found with the ID of 546105, appending stats.\n",
      "The city Katsuura was found with the ID of 2112309, appending stats.\n",
      "The city Landeck was found with the ID of 7872581, appending stats.\n",
      "Sorry, that city was not found.\n",
      "The city Punta Gorda was found with the ID of 4169452, appending stats.\n",
      "The city Araouane was found with the ID of 2460954, appending stats.\n",
      "The city Ulaanbaatar was found with the ID of 2028462, appending stats.\n",
      "Sorry, that city was not found.\n",
      "The city Constantine was found with the ID of 2501152, appending stats.\n",
      "The city Srikakulam was found with the ID of 1255647, appending stats.\n",
      "The city Coquimbo was found with the ID of 3893629, appending stats.\n",
      "The city Bismarck was found with the ID of 5688025, appending stats.\n",
      "The city Khovu-Aksy was found with the ID of 1503527, appending stats.\n",
      "The city Iralaya was found with the ID of 3608828, appending stats.\n",
      "The city Praia da Vitória was found with the ID of 3372760, appending stats.\n",
      "The city Portland was found with the ID of 5746545, appending stats.\n",
      "The city Vanavara was found with the ID of 2013727, appending stats.\n",
      "Sorry, that city was not found.\n",
      "The city Eydhafushi was found with the ID of 1337606, appending stats.\n",
      "The city Meulaboh was found with the ID of 1214488, appending stats.\n",
      "The city Pingliang was found with the ID of 1798760, appending stats.\n",
      "The city Tuktoyaktuk was found with the ID of 6170031, appending stats.\n",
      "The city Kasongo was found with the ID of 213940, appending stats.\n",
      "The city Batagay-Alyta was found with the ID of 2027042, appending stats.\n",
      "The city Gao was found with the ID of 2457161, appending stats.\n",
      "The city Sibolga was found with the ID of 1213855, appending stats.\n",
      "The city San Quintín was found with the ID of 3984997, appending stats.\n",
      "The city Haimen was found with the ID of 1809062, appending stats.\n",
      "The city Esperance was found with the ID of 2071860, appending stats.\n",
      "The city Champerico was found with the ID of 3598787, appending stats.\n",
      "The city Alta Floresta was found with the ID of 6316343, appending stats.\n",
      "The city Atambua was found with the ID of 1651103, appending stats.\n",
      "The city Mayo was found with the ID of 4362001, appending stats.\n",
      "The city Ust-Nera was found with the ID of 2120048, appending stats.\n",
      "Sorry, that city was not found.\n",
      "The city Kathmandu was found with the ID of 1283240, appending stats.\n",
      "The city Alekseyevskoye was found with the ID of 582775, appending stats.\n",
      "The city Hasaki was found with the ID of 2112802, appending stats.\n",
      "The city Soledade was found with the ID of 3447423, appending stats.\n",
      "Sorry, that city was not found.\n",
      "The city Samfya was found with the ID of 899274, appending stats.\n",
      "The city Manga was found with the ID of 2358100, appending stats.\n",
      "The city Grindavik was found with the ID of 3416888, appending stats.\n",
      "The city Rosetta was found with the ID of 350203, appending stats.\n",
      "The city Hervey Bay was found with the ID of 2146219, appending stats.\n",
      "The city Waitati was found with the ID of 2179825, appending stats.\n",
      "The city Batagay was found with the ID of 2027044, appending stats.\n",
      "The city Port Elizabeth was found with the ID of 964420, appending stats.\n",
      "The city Mossamedes was found with the ID of 3347019, appending stats.\n",
      "The city Qasigiannguit was found with the ID of 3420768, appending stats.\n",
      "The city Puerto Escondido was found with the ID of 3520994, appending stats.\n",
      "The city Novo Aripuanã was found with the ID of 3663142, appending stats.\n",
      "The city Keflavik was found with the ID of 3415496, appending stats.\n",
      "The city Marsaxlokk was found with the ID of 2562247, appending stats.\n",
      "The city Bālāpur was found with the ID of 1277636, appending stats.\n",
      "The city Pangai was found with the ID of 4032369, appending stats.\n",
      "The city Anaconda was found with the ID of 5637146, appending stats.\n",
      "The city Forsytheganj was found with the ID of 10722858, appending stats.\n",
      "The city Tautira was found with the ID of 4033557, appending stats.\n",
      "Sorry, that city was not found.\n",
      "The city Cayenne was found with the ID of 3382160, appending stats.\n",
      "The city Beyneu was found with the ID of 610298, appending stats.\n",
      "The city Port Macquarie was found with the ID of 2152659, appending stats.\n",
      "The city Ponta Delgada was found with the ID of 3372783, appending stats.\n",
      "Sorry, that city was not found.\n",
      "The city Kavaratti was found with the ID of 1267390, appending stats.\n",
      "The city Villamontes was found with the ID of 3901547, appending stats.\n",
      "The city Labuhan was found with the ID of 8079926, appending stats.\n",
      "The city Daura was found with the ID of 2345096, appending stats.\n",
      "The city Tiarei was found with the ID of 4033356, appending stats.\n",
      "The city Corner Brook was found with the ID of 5927969, appending stats.\n",
      "The city Kütahya was found with the ID of 305268, appending stats.\n",
      "The city West Bay was found with the ID of 3580477, appending stats.\n",
      "The city Grand-Lahou was found with the ID of 2288105, appending stats.\n",
      "The city Alice Springs was found with the ID of 2077895, appending stats.\n",
      "The city Ketchikan was found with the ID of 5554428, appending stats.\n",
      "The city Quryq was found with the ID of 609919, appending stats.\n",
      "The city Yar-Sale was found with the ID of 1486321, appending stats.\n",
      "The city Launceston was found with the ID of 2160517, appending stats.\n",
      "The city Mahon was found with the ID of 2514301, appending stats.\n",
      "The city Baruun-Urt was found with the ID of 2032614, appending stats.\n",
      "Sorry, that city was not found.\n",
      "The city Tutóia was found with the ID of 3385899, appending stats.\n",
      "The city Opuwo was found with the ID of 3354077, appending stats.\n",
      "The city Tateyama was found with the ID of 1850523, appending stats.\n",
      "The city San Rafael was found with the ID of 3836669, appending stats.\n",
      "The city Mazatlán was found with the ID of 3996322, appending stats.\n",
      "The city Raudeberg was found with the ID of 3146487, appending stats.\n",
      "Sorry, that city was not found.\n",
      "The city Lodja was found with the ID of 211647, appending stats.\n",
      "The city Chiang Mai was found with the ID of 1153670, appending stats.\n",
      "The city Yangi Marg`ilon was found with the ID of 1513491, appending stats.\n",
      "The city Smithers was found with the ID of 6149996, appending stats.\n",
      "The city Asău was found with the ID of 686090, appending stats.\n",
      "The city Souillac was found with the ID of 933995, appending stats.\n",
      "The city Nhulunbuy was found with the ID of 2064735, appending stats.\n",
      "The city Daru was found with the ID of 2098329, appending stats.\n",
      "The city La Palma was found with the ID of 5364022, appending stats.\n",
      "The city Santa Cruz de Tenerife was found with the ID of 2511174, appending stats.\n",
      "The city Katihar was found with the ID of 1267480, appending stats.\n",
      "The city Northam was found with the ID of 2641434, appending stats.\n",
      "The city Linxia Chengguanzhen was found with the ID of 1803331, appending stats.\n",
      "The city Sanbu was found with the ID of 1797873, appending stats.\n",
      "The city Shakawe was found with the ID of 933077, appending stats.\n",
      "The city Haapiti was found with the ID of 4034438, appending stats.\n",
      "The city Tubualá was found with the ID of 3700393, appending stats.\n",
      "The city Dunedin was found with the ID of 2191562, appending stats.\n",
      "The city Talnakh was found with the ID of 1490256, appending stats.\n",
      "The city Aranda de Duero was found with the ID of 3129877, appending stats.\n",
      "The city Seoul was found with the ID of 1835848, appending stats.\n",
      "The city Kahului was found with the ID of 5847411, appending stats.\n",
      "The city Lashio was found with the ID of 1314759, appending stats.\n",
      "The city Nicoya was found with the ID of 3622716, appending stats.\n",
      "The city Koungou was found with the ID of 1090225, appending stats.\n",
      "Sorry, that city was not found.\n",
      "The city Tessalit was found with the ID of 2449893, appending stats.\n",
      "The city Puerto Quijarro was found with the ID of 3444201, appending stats.\n",
      "The city Russell was found with the ID of 4047434, appending stats.\n",
      "The city Baní was found with the ID of 3512067, appending stats.\n",
      "The city Peruíbe was found with the ID of 3454061, appending stats.\n",
      "The city Dingle was found with the ID of 1714733, appending stats.\n",
      "The city La Fria was found with the ID of 3795152, appending stats.\n",
      "The city Severo-Yeniseyskiy was found with the ID of 1492566, appending stats.\n",
      "The city Yumen was found with the ID of 1528998, appending stats.\n",
      "The city Ponoka was found with the ID of 6109273, appending stats.\n",
      "Sorry, that city was not found.\n",
      "The city Jacareacanga was found with the ID of 3397763, appending stats.\n",
      "The city Vangaindrano was found with the ID of 1054329, appending stats.\n",
      "The city Znamenka was found with the ID of 462357, appending stats.\n",
      "The city Garmsār was found with the ID of 133964, appending stats.\n",
      "The city Ürümqi was found with the ID of 1529102, appending stats.\n",
      "The city General Roca was found with the ID of 3855065, appending stats.\n",
      "The city Lüderitz was found with the ID of 3355672, appending stats.\n",
      "The city Kampot was found with the ID of 1831112, appending stats.\n",
      "The city Aykhal was found with the ID of 2027296, appending stats.\n",
      "The city Oromocto was found with the ID of 6094407, appending stats.\n",
      "The city Kansk was found with the ID of 1504682, appending stats.\n",
      "The city Beira was found with the ID of 1052373, appending stats.\n",
      "The city Nantucket was found with the ID of 4944903, appending stats.\n",
      "The city Slantsy was found with the ID of 492162, appending stats.\n",
      "The city Havøysund was found with the ID of 779622, appending stats.\n",
      "The city Kudymkar was found with the ID of 539817, appending stats.\n",
      "The city Kutum was found with the ID of 371745, appending stats.\n",
      "The city Powell River was found with the ID of 6112608, appending stats.\n",
      "The city Anzio was found with the ID of 6542092, appending stats.\n",
      "The city Ballina was found with the ID of 2177069, appending stats.\n",
      "Sorry, that city was not found.\n",
      "The city Leningradskiy was found with the ID of 2123814, appending stats.\n",
      "The city Nuquí was found with the ID of 3673690, appending stats.\n",
      "The city Lamongan was found with the ID of 1638562, appending stats.\n",
      "The city Gladstone was found with the ID of 2165478, appending stats.\n",
      "The city Hammerfest was found with the ID of 779683, appending stats.\n",
      "The city Saint-François was found with the ID of 2980080, appending stats.\n",
      "The city Namatanai was found with the ID of 2090021, appending stats.\n",
      "The city Dzaoudzi was found with the ID of 921900, appending stats.\n",
      "The city Vicuña was found with the ID of 3868308, appending stats.\n",
      "The city Karpogory was found with the ID of 552256, appending stats.\n",
      "The city Salinas was found with the ID of 5391295, appending stats.\n",
      "Sorry, that city was not found.\n",
      "The city Varadero was found with the ID of 3534632, appending stats.\n",
      "The city Evensk was found with the ID of 2125693, appending stats.\n",
      "The city Berlevåg was found with the ID of 780687, appending stats.\n",
      "The city Rocha was found with the ID of 3440777, appending stats.\n",
      "The city Karratha was found with the ID of 6620339, appending stats.\n",
      "The city Vanimo was found with the ID of 2084442, appending stats.\n",
      "The city Shibetsu was found with the ID of 2128206, appending stats.\n",
      "The city Verkhnevilyuysk was found with the ID of 2013639, appending stats.\n",
      "The city San Cristobal was found with the ID of 3628473, appending stats.\n",
      "The city Wuchang was found with the ID of 2034141, appending stats.\n",
      "The city Lebedyn was found with the ID of 613273, appending stats.\n",
      "The city Masalli was found with the ID of 1832663, appending stats.\n",
      "The city Half Moon Bay was found with the ID of 5354943, appending stats.\n",
      "The city Koróni was found with the ID of 259265, appending stats.\n",
      "The city Sribne was found with the ID of 693010, appending stats.\n",
      "The city Petatlán was found with the ID of 3992842, appending stats.\n",
      "Sorry, that city was not found.\n",
      "The city Vila Franca do Campo was found with the ID of 3372472, appending stats.\n",
      "The city Am Timan was found with the ID of 245338, appending stats.\n",
      "The city Nakamura was found with the ID of 1855891, appending stats.\n",
      "The city Iwaki was found with the ID of 2112539, appending stats.\n",
      "The city Boiro was found with the ID of 3127889, appending stats.\n",
      "The city Norman Wells was found with the ID of 6089245, appending stats.\n",
      "The city Gradiste was found with the ID of 784535, appending stats.\n",
      "The city Lagos was found with the ID of 2332453, appending stats.\n",
      "The city Alyangula was found with the ID of 2079582, appending stats.\n",
      "The city Simpang was found with the ID of 1627035, appending stats.\n",
      "The city Ottawa was found with the ID of 6094817, appending stats.\n",
      "The city Amapá was found with the ID of 3407762, appending stats.\n",
      "The city Taoudenni was found with the ID of 2450173, appending stats.\n",
      "The city Chimoio was found with the ID of 1049261, appending stats.\n",
      "The city Salinópolis was found with the ID of 3389822, appending stats.\n",
      "The city Malé was found with the ID of 1282027, appending stats.\n",
      "The city Troitsko-Pechorsk was found with the ID of 481548, appending stats.\n",
      "The city Novy Urengoy was found with the ID of 1496511, appending stats.\n",
      "The city Escanaba was found with the ID of 4992232, appending stats.\n",
      "The city Camopi was found with the ID of 3382226, appending stats.\n",
      "Sorry, that city was not found.\n",
      "The city Nouadhibou was found with the ID of 2377457, appending stats.\n",
      "The city Qingdao was found with the ID of 1797929, appending stats.\n",
      "The city Siocon was found with the ID of 1686123, appending stats.\n",
      "The city Komsomolets was found with the ID of 1522348, appending stats.\n",
      "The city Kiama was found with the ID of 2161515, appending stats.\n",
      "The city Purranque was found with the ID of 3874579, appending stats.\n",
      "The city Santa Marinella was found with the ID of 3167520, appending stats.\n",
      "The city Kovdor was found with the ID of 543508, appending stats.\n",
      "Sorry, that city was not found.\n",
      "The city Quang Ngai was found with the ID of 1568770, appending stats.\n",
      "The city Mariental was found with the ID of 3355595, appending stats.\n",
      "The city Kashgar was found with the ID of 1280849, appending stats.\n",
      "The city Cururupu was found with the ID of 3401148, appending stats.\n",
      "The city Corinth was found with the ID of 259289, appending stats.\n",
      "The city Inongo was found with the ID of 2315417, appending stats.\n",
      "The city Grants Pass was found with the ID of 5729080, appending stats.\n",
      "The city Marabu was found with the ID of 1738050, appending stats.\n",
      "The city Ranong was found with the ID of 1150965, appending stats.\n",
      "The city At-Bashi was found with the ID of 1528796, appending stats.\n",
      "The city Saint-Pierre was found with the ID of 935214, appending stats.\n",
      "The city Victor Harbor was found with the ID of 2059470, appending stats.\n",
      "The city Ardakān was found with the ID of 143073, appending stats.\n",
      "The city Flin Flon was found with the ID of 5954718, appending stats.\n",
      "The city Pedreiras was found with the ID of 3400969, appending stats.\n",
      "The city Cockburn Town was found with the ID of 3576994, appending stats.\n",
      "The city Saldanha was found with the ID of 3361934, appending stats.\n",
      "The city Port Lincoln was found with the ID of 2063036, appending stats.\n",
      "The city Gunjur was found with the ID of 2413419, appending stats.\n",
      "Sorry, that city was not found.\n",
      "The city Vizinga was found with the ID of 473263, appending stats.\n",
      "The city Mount Isa was found with the ID of 2065594, appending stats.\n",
      "The city Funadhoo was found with the ID of 1337620, appending stats.\n",
      "The city Mandiana was found with the ID of 2417795, appending stats.\n",
      "The city Bubaque was found with the ID of 2374583, appending stats.\n",
      "The city Zhangye was found with the ID of 1785036, appending stats.\n",
      "Sorry, that city was not found.\n",
      "The city Fare was found with the ID of 4034496, appending stats.\n",
      "The city Adré was found with the ID of 245669, appending stats.\n",
      "The city Hjelset was found with the ID of 3152548, appending stats.\n",
      "The city Tulsīpur was found with the ID of 1282635, appending stats.\n",
      "The city Huangcun was found with the ID of 1553571, appending stats.\n",
      "The city Bhatgaon was found with the ID of 1276079, appending stats.\n",
      "The city Klaksvík was found with the ID of 2618795, appending stats.\n",
      "The city Sobolevo was found with the ID of 525426, appending stats.\n",
      "Sorry, that city was not found.\n",
      "The city Schwerin was found with the ID of 2834282, appending stats.\n",
      "The city Black River was found with the ID of 3491355, appending stats.\n",
      "The city Yulara was found with the ID of 6355222, appending stats.\n",
      "The city Torrington was found with the ID of 4844309, appending stats.\n",
      "The city Presidencia Roque Sáenz Peña was found with the ID of 3840300, appending stats.\n",
      "The city Kerema was found with the ID of 2094144, appending stats.\n",
      "The city Sitka was found with the ID of 5557293, appending stats.\n",
      "The city Kikwit was found with the ID of 2314705, appending stats.\n",
      "Sorry, that city was not found.\n",
      "The city Kidal was found with the ID of 2455290, appending stats.\n",
      "The city Bonoua was found with the ID of 2291087, appending stats.\n",
      "The city Khani was found with the ID of 610864, appending stats.\n",
      "The city Aljezur was found with the ID of 2271968, appending stats.\n",
      "The city Locri was found with the ID of 2524371, appending stats.\n",
      "The city Diamantino was found with the ID of 3464724, appending stats.\n",
      "The city Harper was found with the ID of 2276492, appending stats.\n",
      "The city Vallenar was found with the ID of 3868633, appending stats.\n",
      "The city Wanaka was found with the ID of 2184707, appending stats.\n",
      "The city Melville was found with the ID of 5126555, appending stats.\n",
      "The city Gaza was found with the ID of 281133, appending stats.\n",
      "The city Salalah was found with the ID of 286621, appending stats.\n",
      "The city Jumla was found with the ID of 1283285, appending stats.\n",
      "The city Broken Hill was found with the ID of 2173911, appending stats.\n",
      "Sorry, that city was not found.\n",
      "The city Kuybyshevskiy Zaton was found with the ID of 538049, appending stats.\n",
      "The city Bambanglipuro was found with the ID of 1650434, appending stats.\n",
      "The city Terrasini was found with the ID of 2522952, appending stats.\n",
      "The city Luan was found with the ID of 2659977, appending stats.\n",
      "The city Sioux Lookout was found with the ID of 6148373, appending stats.\n",
      "The city Los Llanos de Aridane was found with the ID of 2514651, appending stats.\n",
      "The city Mucuri was found with the ID of 3456593, appending stats.\n",
      "The city Pushkino was found with the ID of 503977, appending stats.\n",
      "The city Akhmīm was found with the ID of 361661, appending stats.\n",
      "The city Meadow Lake was found with the ID of 5478673, appending stats.\n",
      "The city Cap Malheureux was found with the ID of 934649, appending stats.\n",
      "The city Nelson Bay was found with the ID of 2155562, appending stats.\n",
      "The city Mount Gambier was found with the ID of 2156643, appending stats.\n",
      "The city Coruripe was found with the ID of 3465329, appending stats.\n",
      "The city Martinsicuro was found with the ID of 3173833, appending stats.\n",
      "The city Mujiayingzi was found with the ID of 2035707, appending stats.\n",
      "The city Binga was found with the ID of 895057, appending stats.\n",
      "The city Linkou was found with the ID of 2036066, appending stats.\n",
      "The city Saint-Joseph was found with the ID of 6690296, appending stats.\n",
      "The city Tsiroanomandidy was found with the ID of 1054463, appending stats.\n",
      "The city Faro was found with the ID of 2268339, appending stats.\n",
      "The city Inta was found with the ID of 1505579, appending stats.\n",
      "Sorry, that city was not found.\n",
      "The city Bushehr was found with the ID of 139817, appending stats.\n",
      "The city Nadym was found with the ID of 1498087, appending stats.\n",
      "The city Tecpatán was found with the ID of 3516125, appending stats.\n",
      "The city Sept-Îles was found with the ID of 6144312, appending stats.\n",
      "Sorry, that city was not found.\n",
      "The city Sola was found with the ID of 2134814, appending stats.\n",
      "The city Canary Islands was found with the ID of 2593110, appending stats.\n",
      "The city Sabang was found with the ID of 1214026, appending stats.\n",
      "The city Houston was found with the ID of 4699066, appending stats.\n",
      "Sorry, that city was not found.\n",
      "The city Codrington was found with the ID of 2171099, appending stats.\n",
      "The city Dengzhou was found with the ID of 1812988, appending stats.\n",
      "The city Pangnirtung was found with the ID of 6096551, appending stats.\n",
      "The city Pandan was found with the ID of 1695546, appending stats.\n",
      "The city Chicama was found with the ID of 3698359, appending stats.\n",
      "The city Fairmont was found with the ID of 4805404, appending stats.\n",
      "The city Provincia di Benevento was found with the ID of 3182178, appending stats.\n",
      "The city Andros Town was found with the ID of 3572906, appending stats.\n",
      "The city Tanout was found with the ID of 2439155, appending stats.\n",
      "The city Kamenka was found with the ID of 553766, appending stats.\n",
      "The city Mogadishu was found with the ID of 53654, appending stats.\n",
      "Sorry, that city was not found.\n",
      "The city Gryfino was found with the ID of 3098200, appending stats.\n",
      "The city Jūybār was found with the ID of 129933, appending stats.\n",
      "The city Marystown was found with the ID of 6067472, appending stats.\n",
      "Sorry, that city was not found.\n",
      "The city Vaitape was found with the ID of 4033077, appending stats.\n",
      "The city North Branch was found with the ID of 5039421, appending stats.\n",
      "The city Toora-Khem was found with the ID of 1489401, appending stats.\n",
      "The city Lárdos was found with the ID of 408689, appending stats.\n",
      "The city Itacoatiara was found with the ID of 3397893, appending stats.\n",
      "The city Villa Carlos Paz was found with the ID of 3832791, appending stats.\n",
      "The city Pacifica was found with the ID of 5380420, appending stats.\n",
      "The city Ābyek was found with the ID of 144794, appending stats.\n",
      "The city Kununurra was found with the ID of 2068110, appending stats.\n",
      "The city Río Gallegos was found with the ID of 3838859, appending stats.\n",
      "The city Mirny was found with the ID of 2019951, appending stats.\n",
      "The city Sanlúcar la Mayor was found with the ID of 2511304, appending stats.\n",
      "The city Aswān was found with the ID of 359792, appending stats.\n",
      "The city Maniwaki was found with the ID of 6065262, appending stats.\n",
      "The city Pisco was found with the ID of 3932145, appending stats.\n",
      "The city Izhma was found with the ID of 554830, appending stats.\n",
      "The city Nampula was found with the ID of 1033356, appending stats.\n",
      "The city Ambilobe was found with the ID of 1082243, appending stats.\n",
      "The city Walvis Bay was found with the ID of 3359638, appending stats.\n",
      "The city Port Hardy was found with the ID of 6111862, appending stats.\n",
      "The city Kumul was found with the ID of 1529484, appending stats.\n",
      "The city Lucea was found with the ID of 3489657, appending stats.\n",
      "The city Okha was found with the ID of 2122614, appending stats.\n",
      "The city Penhold was found with the ID of 6100954, appending stats.\n",
      "The city Cherskiy was found with the ID of 2126199, appending stats.\n",
      "The city Gucheng was found with the ID of 1809597, appending stats.\n",
      "The city Lagarto was found with the ID of 3459342, appending stats.\n",
      "Sorry, that city was not found.\n",
      "The city Salta was found with the ID of 3838233, appending stats.\n",
      "The city Swan Hill was found with the ID of 2147756, appending stats.\n",
      "The city Natal was found with the ID of 3394023, appending stats.\n",
      "The city Agirish was found with the ID of 1512101, appending stats.\n",
      "The city Makakilo City was found with the ID of 5850554, appending stats.\n"
     ]
    }
   ],
   "source": [
    "#Perform a weather check on each city using a series of successive API calls.\n",
    "#Include a print log of each city as it's being processed (with the city number and city name).\n",
    "# IT IS GETTING INTERUPTED AT CITY 6: \n",
    "# {'cod': '404' , 'message' : 'city not found'}\n",
    "####PRINT OUT LOG OF CURRENT CITY AND ID AS YOU GO##############\n",
    "for each_city in city:\n",
    "    response = requests.get(query_url + each_city).json()\n",
    "    #pprint(response)\n",
    "    try:\n",
    "        city_dt.append(response[\"dt\"])\n",
    "        id.append(response[\"id\"])\n",
    "        name.append(response[\"name\"])\n",
    "        temp.append(response['main']['temp'])\n",
    "        lat.append(response[\"coord\"][\"lat\"])\n",
    "        lon.append(response['coord']['lon'])\n",
    "        wind_speed.append(response[\"wind\"][\"speed\"])\n",
    "        max_temp.append(response[\"main\"][\"temp_max\"])\n",
    "        humidity.append(response[\"main\"][\"humidity\"])\n",
    "        clouds.append(response[\"clouds\"][\"all\"])\n",
    "        country.append(response[\"sys\"][\"country\"])\n",
    "        actual_city.append(each_city)\n",
    "        print(f\"The city {response['name']} was found with the ID of {response['id']}, appending stats.\")\n",
    "    except KeyError: \n",
    "        print(\"Sorry, that city was not found.\")\n",
    "        pass"
   ]
  },
  {
   "cell_type": "markdown",
   "metadata": {},
   "source": [
    "# Convert Raw Data to DF"
   ]
  },
  {
   "cell_type": "code",
   "execution_count": null,
   "metadata": {},
   "outputs": [],
   "source": [
    "#Create a DF and display the DataFrame"
   ]
  },
  {
   "cell_type": "code",
   "execution_count": 38,
   "metadata": {},
   "outputs": [
    {
     "data": {
      "text/html": [
       "<div>\n",
       "<style scoped>\n",
       "    .dataframe tbody tr th:only-of-type {\n",
       "        vertical-align: middle;\n",
       "    }\n",
       "\n",
       "    .dataframe tbody tr th {\n",
       "        vertical-align: top;\n",
       "    }\n",
       "\n",
       "    .dataframe thead th {\n",
       "        text-align: right;\n",
       "    }\n",
       "</style>\n",
       "<table border=\"1\" class=\"dataframe\">\n",
       "  <thead>\n",
       "    <tr style=\"text-align: right;\">\n",
       "      <th></th>\n",
       "      <th>City</th>\n",
       "      <th>Lat</th>\n",
       "      <th>Lng</th>\n",
       "      <th>Max Temp</th>\n",
       "      <th>Humidity</th>\n",
       "      <th>Cloudiness</th>\n",
       "      <th>Wind Speed</th>\n",
       "      <th>Country</th>\n",
       "      <th>Date</th>\n",
       "    </tr>\n",
       "  </thead>\n",
       "  <tbody>\n",
       "    <tr>\n",
       "      <th>0</th>\n",
       "      <td>cape town</td>\n",
       "      <td>-33.9258</td>\n",
       "      <td>18.4232</td>\n",
       "      <td>75.00</td>\n",
       "      <td>56</td>\n",
       "      <td>0</td>\n",
       "      <td>12.66</td>\n",
       "      <td>ZA</td>\n",
       "      <td>2021-04-23 12:16:20</td>\n",
       "    </tr>\n",
       "    <tr>\n",
       "      <th>1</th>\n",
       "      <td>lavrentiya</td>\n",
       "      <td>65.5833</td>\n",
       "      <td>-171.0000</td>\n",
       "      <td>24.53</td>\n",
       "      <td>70</td>\n",
       "      <td>100</td>\n",
       "      <td>3.58</td>\n",
       "      <td>RU</td>\n",
       "      <td>2021-04-23 12:12:15</td>\n",
       "    </tr>\n",
       "    <tr>\n",
       "      <th>2</th>\n",
       "      <td>zonguldak</td>\n",
       "      <td>41.2500</td>\n",
       "      <td>31.8333</td>\n",
       "      <td>69.80</td>\n",
       "      <td>32</td>\n",
       "      <td>75</td>\n",
       "      <td>11.50</td>\n",
       "      <td>TR</td>\n",
       "      <td>2021-04-23 12:16:20</td>\n",
       "    </tr>\n",
       "    <tr>\n",
       "      <th>3</th>\n",
       "      <td>jamestown</td>\n",
       "      <td>42.0970</td>\n",
       "      <td>-79.2353</td>\n",
       "      <td>36.00</td>\n",
       "      <td>80</td>\n",
       "      <td>1</td>\n",
       "      <td>10.36</td>\n",
       "      <td>US</td>\n",
       "      <td>2021-04-23 12:13:35</td>\n",
       "    </tr>\n",
       "    <tr>\n",
       "      <th>4</th>\n",
       "      <td>south venice</td>\n",
       "      <td>27.0531</td>\n",
       "      <td>-82.4243</td>\n",
       "      <td>64.99</td>\n",
       "      <td>94</td>\n",
       "      <td>1</td>\n",
       "      <td>10.36</td>\n",
       "      <td>US</td>\n",
       "      <td>2021-04-23 12:16:21</td>\n",
       "    </tr>\n",
       "  </tbody>\n",
       "</table>\n",
       "</div>"
      ],
      "text/plain": [
       "           City      Lat       Lng  Max Temp  Humidity  Cloudiness  \\\n",
       "0     cape town -33.9258   18.4232     75.00        56           0   \n",
       "1    lavrentiya  65.5833 -171.0000     24.53        70         100   \n",
       "2     zonguldak  41.2500   31.8333     69.80        32          75   \n",
       "3     jamestown  42.0970  -79.2353     36.00        80           1   \n",
       "4  south venice  27.0531  -82.4243     64.99        94           1   \n",
       "\n",
       "   Wind Speed Country                Date  \n",
       "0       12.66      ZA 2021-04-23 12:16:20  \n",
       "1        3.58      RU 2021-04-23 12:12:15  \n",
       "2       11.50      TR 2021-04-23 12:16:20  \n",
       "3       10.36      US 2021-04-23 12:13:35  \n",
       "4       10.36      US 2021-04-23 12:16:21  "
      ]
     },
     "execution_count": 38,
     "metadata": {},
     "output_type": "execute_result"
    }
   ],
   "source": [
    "all_df = pd.DataFrame({\"City\": actual_city, \n",
    "                       \"Lat\" : lat,\n",
    "                       \"Lng\" : lon,\n",
    "                       \"Max Temp\" : max_temp,\n",
    "                       \"Humidity\": humidity, \n",
    "                       \"Cloudiness\" : clouds, \n",
    "                       \"Wind Speed\" : wind_speed, \n",
    "                       \"Country\" : country, \n",
    "                       \"Date\" : city_dt  \n",
    "                      })\n",
    "all_df[\"Date\"] = pd.to_datetime(all_df[\"Date\"], unit ='s')\n",
    "all_df.head()"
   ]
  },
  {
   "cell_type": "code",
   "execution_count": 39,
   "metadata": {},
   "outputs": [
    {
     "data": {
      "text/html": [
       "<div>\n",
       "<style scoped>\n",
       "    .dataframe tbody tr th:only-of-type {\n",
       "        vertical-align: middle;\n",
       "    }\n",
       "\n",
       "    .dataframe tbody tr th {\n",
       "        vertical-align: top;\n",
       "    }\n",
       "\n",
       "    .dataframe thead th {\n",
       "        text-align: right;\n",
       "    }\n",
       "</style>\n",
       "<table border=\"1\" class=\"dataframe\">\n",
       "  <thead>\n",
       "    <tr style=\"text-align: right;\">\n",
       "      <th></th>\n",
       "      <th>Lat</th>\n",
       "      <th>Lng</th>\n",
       "      <th>Max Temp</th>\n",
       "      <th>Humidity</th>\n",
       "      <th>Cloudiness</th>\n",
       "      <th>Wind Speed</th>\n",
       "    </tr>\n",
       "  </thead>\n",
       "  <tbody>\n",
       "    <tr>\n",
       "      <th>count</th>\n",
       "      <td>544.000000</td>\n",
       "      <td>544.000000</td>\n",
       "      <td>544.000000</td>\n",
       "      <td>544.000000</td>\n",
       "      <td>544.000000</td>\n",
       "      <td>544.000000</td>\n",
       "    </tr>\n",
       "    <tr>\n",
       "      <th>mean</th>\n",
       "      <td>19.175308</td>\n",
       "      <td>16.958296</td>\n",
       "      <td>61.648199</td>\n",
       "      <td>68.724265</td>\n",
       "      <td>54.284926</td>\n",
       "      <td>8.200313</td>\n",
       "    </tr>\n",
       "    <tr>\n",
       "      <th>std</th>\n",
       "      <td>33.435702</td>\n",
       "      <td>91.019436</td>\n",
       "      <td>21.469838</td>\n",
       "      <td>23.015274</td>\n",
       "      <td>37.556853</td>\n",
       "      <td>5.867128</td>\n",
       "    </tr>\n",
       "    <tr>\n",
       "      <th>min</th>\n",
       "      <td>-54.800000</td>\n",
       "      <td>-175.200000</td>\n",
       "      <td>-9.130000</td>\n",
       "      <td>3.000000</td>\n",
       "      <td>0.000000</td>\n",
       "      <td>0.490000</td>\n",
       "    </tr>\n",
       "    <tr>\n",
       "      <th>25%</th>\n",
       "      <td>-10.194200</td>\n",
       "      <td>-65.179650</td>\n",
       "      <td>48.000000</td>\n",
       "      <td>56.000000</td>\n",
       "      <td>20.000000</td>\n",
       "      <td>3.462500</td>\n",
       "    </tr>\n",
       "    <tr>\n",
       "      <th>50%</th>\n",
       "      <td>24.396700</td>\n",
       "      <td>21.900000</td>\n",
       "      <td>64.400000</td>\n",
       "      <td>74.000000</td>\n",
       "      <td>63.500000</td>\n",
       "      <td>6.910000</td>\n",
       "    </tr>\n",
       "    <tr>\n",
       "      <th>75%</th>\n",
       "      <td>46.186175</td>\n",
       "      <td>98.834400</td>\n",
       "      <td>78.800000</td>\n",
       "      <td>86.250000</td>\n",
       "      <td>90.000000</td>\n",
       "      <td>11.315000</td>\n",
       "    </tr>\n",
       "    <tr>\n",
       "      <th>max</th>\n",
       "      <td>78.218600</td>\n",
       "      <td>179.316700</td>\n",
       "      <td>105.890000</td>\n",
       "      <td>100.000000</td>\n",
       "      <td>100.000000</td>\n",
       "      <td>36.350000</td>\n",
       "    </tr>\n",
       "  </tbody>\n",
       "</table>\n",
       "</div>"
      ],
      "text/plain": [
       "              Lat         Lng    Max Temp    Humidity  Cloudiness  Wind Speed\n",
       "count  544.000000  544.000000  544.000000  544.000000  544.000000  544.000000\n",
       "mean    19.175308   16.958296   61.648199   68.724265   54.284926    8.200313\n",
       "std     33.435702   91.019436   21.469838   23.015274   37.556853    5.867128\n",
       "min    -54.800000 -175.200000   -9.130000    3.000000    0.000000    0.490000\n",
       "25%    -10.194200  -65.179650   48.000000   56.000000   20.000000    3.462500\n",
       "50%     24.396700   21.900000   64.400000   74.000000   63.500000    6.910000\n",
       "75%     46.186175   98.834400   78.800000   86.250000   90.000000   11.315000\n",
       "max     78.218600  179.316700  105.890000  100.000000  100.000000   36.350000"
      ]
     },
     "execution_count": 39,
     "metadata": {},
     "output_type": "execute_result"
    }
   ],
   "source": [
    "#Do a summary table\n",
    "all_df.describe()"
   ]
  },
  {
   "cell_type": "code",
   "execution_count": 40,
   "metadata": {},
   "outputs": [],
   "source": [
    "#Export the city data into a .csv.\n",
    "all_df.to_csv(\"../output_data/cities.csv\", encoding=\"utf-8\", index=False, header=True)"
   ]
  },
  {
   "cell_type": "markdown",
   "metadata": {},
   "source": [
    "# Inspect Data and Remove Cities Where Humidity is > 100%"
   ]
  },
  {
   "cell_type": "code",
   "execution_count": 41,
   "metadata": {},
   "outputs": [
    {
     "data": {
      "text/html": [
       "<div>\n",
       "<style scoped>\n",
       "    .dataframe tbody tr th:only-of-type {\n",
       "        vertical-align: middle;\n",
       "    }\n",
       "\n",
       "    .dataframe tbody tr th {\n",
       "        vertical-align: top;\n",
       "    }\n",
       "\n",
       "    .dataframe thead th {\n",
       "        text-align: right;\n",
       "    }\n",
       "</style>\n",
       "<table border=\"1\" class=\"dataframe\">\n",
       "  <thead>\n",
       "    <tr style=\"text-align: right;\">\n",
       "      <th></th>\n",
       "      <th>City</th>\n",
       "      <th>Lat</th>\n",
       "      <th>Lng</th>\n",
       "      <th>Max Temp</th>\n",
       "      <th>Humidity</th>\n",
       "      <th>Cloudiness</th>\n",
       "      <th>Wind Speed</th>\n",
       "      <th>Country</th>\n",
       "      <th>Date</th>\n",
       "    </tr>\n",
       "  </thead>\n",
       "  <tbody>\n",
       "    <tr>\n",
       "      <th>0</th>\n",
       "      <td>cape town</td>\n",
       "      <td>-33.9258</td>\n",
       "      <td>18.4232</td>\n",
       "      <td>75.00</td>\n",
       "      <td>56</td>\n",
       "      <td>0</td>\n",
       "      <td>12.66</td>\n",
       "      <td>ZA</td>\n",
       "      <td>2021-04-23 12:16:20</td>\n",
       "    </tr>\n",
       "    <tr>\n",
       "      <th>1</th>\n",
       "      <td>lavrentiya</td>\n",
       "      <td>65.5833</td>\n",
       "      <td>-171.0000</td>\n",
       "      <td>24.53</td>\n",
       "      <td>70</td>\n",
       "      <td>100</td>\n",
       "      <td>3.58</td>\n",
       "      <td>RU</td>\n",
       "      <td>2021-04-23 12:12:15</td>\n",
       "    </tr>\n",
       "    <tr>\n",
       "      <th>2</th>\n",
       "      <td>zonguldak</td>\n",
       "      <td>41.2500</td>\n",
       "      <td>31.8333</td>\n",
       "      <td>69.80</td>\n",
       "      <td>32</td>\n",
       "      <td>75</td>\n",
       "      <td>11.50</td>\n",
       "      <td>TR</td>\n",
       "      <td>2021-04-23 12:16:20</td>\n",
       "    </tr>\n",
       "    <tr>\n",
       "      <th>3</th>\n",
       "      <td>jamestown</td>\n",
       "      <td>42.0970</td>\n",
       "      <td>-79.2353</td>\n",
       "      <td>36.00</td>\n",
       "      <td>80</td>\n",
       "      <td>1</td>\n",
       "      <td>10.36</td>\n",
       "      <td>US</td>\n",
       "      <td>2021-04-23 12:13:35</td>\n",
       "    </tr>\n",
       "    <tr>\n",
       "      <th>4</th>\n",
       "      <td>south venice</td>\n",
       "      <td>27.0531</td>\n",
       "      <td>-82.4243</td>\n",
       "      <td>64.99</td>\n",
       "      <td>94</td>\n",
       "      <td>1</td>\n",
       "      <td>10.36</td>\n",
       "      <td>US</td>\n",
       "      <td>2021-04-23 12:16:21</td>\n",
       "    </tr>\n",
       "  </tbody>\n",
       "</table>\n",
       "</div>"
      ],
      "text/plain": [
       "           City      Lat       Lng  Max Temp  Humidity  Cloudiness  \\\n",
       "0     cape town -33.9258   18.4232     75.00        56           0   \n",
       "1    lavrentiya  65.5833 -171.0000     24.53        70         100   \n",
       "2     zonguldak  41.2500   31.8333     69.80        32          75   \n",
       "3     jamestown  42.0970  -79.2353     36.00        80           1   \n",
       "4  south venice  27.0531  -82.4243     64.99        94           1   \n",
       "\n",
       "   Wind Speed Country                Date  \n",
       "0       12.66      ZA 2021-04-23 12:16:20  \n",
       "1        3.58      RU 2021-04-23 12:12:15  \n",
       "2       11.50      TR 2021-04-23 12:16:20  \n",
       "3       10.36      US 2021-04-23 12:13:35  \n",
       "4       10.36      US 2021-04-23 12:16:21  "
      ]
     },
     "execution_count": 41,
     "metadata": {},
     "output_type": "execute_result"
    }
   ],
   "source": [
    "# Skip this step if no cities are > 100% humidity \n",
    "# Get the indices of cities that have humidity over 100%.\n",
    "# Make a new DataFrame equal to the city data to drop all humidity outliers by index.\n",
    "# Passing \"inplace=False\" will make a copy of the city_data DataFrame, which we call \"clean_city_data\".\n",
    "#Int64Index([], dtype='int64')\n",
    "all_df.drop(all_df.loc[all_df[\"Humidity\"] >=100].index,inplace=True)\n",
    "all_df.head()"
   ]
  },
  {
   "cell_type": "markdown",
   "metadata": {},
   "source": [
    "# Plot The Data"
   ]
  },
  {
   "cell_type": "code",
   "execution_count": 42,
   "metadata": {},
   "outputs": [],
   "source": [
    "#Use proper labeling of the plots using plot titles (including date of analysis) and axes labels.\n",
    "#Save the plotted figures as .pngs."
   ]
  },
  {
   "cell_type": "markdown",
   "metadata": {},
   "source": [
    "# Latitude vs. Max Temp Plot"
   ]
  },
  {
   "cell_type": "code",
   "execution_count": 116,
   "metadata": {},
   "outputs": [
    {
     "data": {
      "image/png": "[encoded data removed]",
      "text/plain": [
       "<Figure size 432x288 with 1 Axes>"
      ]
     },
     "metadata": {
      "needs_background": "light"
     },
     "output_type": "display_data"
    }
   ],
   "source": [
    "all_df.plot(kind = \"scatter\", x = \"Lat\", y = \"Max Temp\", marker=\"o\", c=\"red\", edgecolors=\"black\")\n",
    "plt.title(\"City Latitute vs. Max Temperature (4/23/21)\")\n",
    "plt.xlabel(\"Latitude\")\n",
    "plt.ylabel(\"Maximum Temperature\")\n",
    "plt.grid()\n",
    "plt.savefig(\"../output_data/city_lat_maxtemp.png\")\n",
    "plt.show()"
   ]
  },
  {
   "cell_type": "markdown",
   "metadata": {},
   "source": [
    "##### This scatterplot shows that latitudes closer to zero tend to have higher max temperatures, and that there is a parallel max temperature for negative and positive latitudes. "
   ]
  },
  {
   "cell_type": "markdown",
   "metadata": {},
   "source": [
    "# Latitude vs. Humidity Plot"
   ]
  },
  {
   "cell_type": "code",
   "execution_count": 115,
   "metadata": {},
   "outputs": [
    {
     "data": {
      "image/png": "[encoded data removed]",
      "text/plain": [
       "<Figure size 432x288 with 1 Axes>"
      ]
     },
     "metadata": {
      "needs_background": "light"
     },
     "output_type": "display_data"
    }
   ],
   "source": [
    "all_df.plot(kind = \"scatter\", x = \"Lat\", y = \"Humidity\", marker=\"o\", c=\"red\", edgecolors=\"black\")\n",
    "plt.title(\"City Latitute vs. Humidity (4/23/21)\")\n",
    "plt.xlabel(\"Latitude\")\n",
    "plt.ylabel(\"Humidity\")\n",
    "plt.grid()\n",
    "plt.savefig(\"../output_data/city_lat_humidity.png\")\n",
    "plt.show()"
   ]
  },
  {
   "cell_type": "markdown",
   "metadata": {},
   "source": [
    "##### This scatterplot shows that absolute humidity is high at a wide range of latitudes."
   ]
  },
  {
   "cell_type": "markdown",
   "metadata": {},
   "source": [
    "# Latitude vs. Cloudiness Plot"
   ]
  },
  {
   "cell_type": "code",
   "execution_count": 114,
   "metadata": {},
   "outputs": [
    {
     "data": {
      "image/png": "[encoded data removed]",
      "text/plain": [
       "<Figure size 432x288 with 1 Axes>"
      ]
     },
     "metadata": {
      "needs_background": "light"
     },
     "output_type": "display_data"
    }
   ],
   "source": [
    "all_df.plot(kind = \"scatter\", x = \"Lat\", y = \"Cloudiness\", marker=\"o\", c=\"red\", edgecolors=\"black\")\n",
    "plt.title(\"City Latitute vs. Cloudiness (4/23/21)\")\n",
    "plt.xlabel(\"Latitude\")\n",
    "plt.ylabel(\"Cloudiness\")\n",
    "plt.grid()\n",
    "plt.savefig(\"../output_data/city_lat_cloudiness.png\")\n",
    "plt.show()"
   ]
  },
  {
   "cell_type": "markdown",
   "metadata": {},
   "source": [
    "##### This scatterplot shows that cloudiness is fairly equally distributed across latitude - for example it appears that cloudiness at 40 degrees  latitude is almost as often 0 and 100 on the scale of cloudiness. "
   ]
  },
  {
   "cell_type": "markdown",
   "metadata": {},
   "source": [
    "# Latitude vs. Wind Speed Plot"
   ]
  },
  {
   "cell_type": "code",
   "execution_count": 113,
   "metadata": {},
   "outputs": [
    {
     "data": {
      "image/png": "[encoded data removed]",
      "text/plain": [
       "<Figure size 432x288 with 1 Axes>"
      ]
     },
     "metadata": {
      "needs_background": "light"
     },
     "output_type": "display_data"
    }
   ],
   "source": [
    "all_df.plot(kind = \"scatter\", x = \"Lat\", y = \"Wind Speed\", marker=\"o\", c=\"red\", edgecolors=\"black\")\n",
    "plt.title(\"City Latitute vs. Wind Speed (4/23/21)\")\n",
    "plt.xlabel(\"Latitude\")\n",
    "plt.ylabel(\"Wind Speed\")\n",
    "plt.grid()\n",
    "plt.savefig(\"../output_data/city_lat_windspeed.png\")\n",
    "plt.show()"
   ]
  },
  {
   "cell_type": "markdown",
   "metadata": {},
   "source": [
    "##### This scatterplot shows that wind speed does not appear to correlate with latitude - there are remarkable similar wind speeds across a wide range of latitudes. "
   ]
  },
  {
   "cell_type": "markdown",
   "metadata": {},
   "source": [
    "# Linear Regression"
   ]
  },
  {
   "cell_type": "code",
   "execution_count": 77,
   "metadata": {},
   "outputs": [
    {
     "data": {
      "text/html": [
       "<div>\n",
       "<style scoped>\n",
       "    .dataframe tbody tr th:only-of-type {\n",
       "        vertical-align: middle;\n",
       "    }\n",
       "\n",
       "    .dataframe tbody tr th {\n",
       "        vertical-align: top;\n",
       "    }\n",
       "\n",
       "    .dataframe thead th {\n",
       "        text-align: right;\n",
       "    }\n",
       "</style>\n",
       "<table border=\"1\" class=\"dataframe\">\n",
       "  <thead>\n",
       "    <tr style=\"text-align: right;\">\n",
       "      <th></th>\n",
       "      <th>Lat</th>\n",
       "      <th>Lng</th>\n",
       "      <th>Max Temp</th>\n",
       "      <th>Humidity</th>\n",
       "      <th>Cloudiness</th>\n",
       "      <th>Wind Speed</th>\n",
       "    </tr>\n",
       "  </thead>\n",
       "  <tbody>\n",
       "    <tr>\n",
       "      <th>count</th>\n",
       "      <td>174.000000</td>\n",
       "      <td>174.000000</td>\n",
       "      <td>174.000000</td>\n",
       "      <td>174.000000</td>\n",
       "      <td>174.000000</td>\n",
       "      <td>174.000000</td>\n",
       "    </tr>\n",
       "    <tr>\n",
       "      <th>mean</th>\n",
       "      <td>-21.036336</td>\n",
       "      <td>32.847467</td>\n",
       "      <td>71.408276</td>\n",
       "      <td>74.488506</td>\n",
       "      <td>52.620690</td>\n",
       "      <td>6.782759</td>\n",
       "    </tr>\n",
       "    <tr>\n",
       "      <th>std</th>\n",
       "      <td>12.994942</td>\n",
       "      <td>95.443060</td>\n",
       "      <td>11.700503</td>\n",
       "      <td>16.722052</td>\n",
       "      <td>36.513594</td>\n",
       "      <td>5.099138</td>\n",
       "    </tr>\n",
       "    <tr>\n",
       "      <th>min</th>\n",
       "      <td>-53.150000</td>\n",
       "      <td>-174.350000</td>\n",
       "      <td>39.200000</td>\n",
       "      <td>16.000000</td>\n",
       "      <td>0.000000</td>\n",
       "      <td>0.490000</td>\n",
       "    </tr>\n",
       "    <tr>\n",
       "      <th>25%</th>\n",
       "      <td>-31.431000</td>\n",
       "      <td>-55.995975</td>\n",
       "      <td>62.600000</td>\n",
       "      <td>67.000000</td>\n",
       "      <td>20.000000</td>\n",
       "      <td>2.935000</td>\n",
       "    </tr>\n",
       "    <tr>\n",
       "      <th>50%</th>\n",
       "      <td>-20.462400</td>\n",
       "      <td>27.626500</td>\n",
       "      <td>75.990000</td>\n",
       "      <td>78.000000</td>\n",
       "      <td>59.500000</td>\n",
       "      <td>5.525000</td>\n",
       "    </tr>\n",
       "    <tr>\n",
       "      <th>75%</th>\n",
       "      <td>-10.194200</td>\n",
       "      <td>130.629175</td>\n",
       "      <td>80.215000</td>\n",
       "      <td>86.750000</td>\n",
       "      <td>90.000000</td>\n",
       "      <td>9.772500</td>\n",
       "    </tr>\n",
       "    <tr>\n",
       "      <th>max</th>\n",
       "      <td>-0.600000</td>\n",
       "      <td>170.566700</td>\n",
       "      <td>91.710000</td>\n",
       "      <td>96.000000</td>\n",
       "      <td>100.000000</td>\n",
       "      <td>25.320000</td>\n",
       "    </tr>\n",
       "  </tbody>\n",
       "</table>\n",
       "</div>"
      ],
      "text/plain": [
       "              Lat         Lng    Max Temp    Humidity  Cloudiness  Wind Speed\n",
       "count  174.000000  174.000000  174.000000  174.000000  174.000000  174.000000\n",
       "mean   -21.036336   32.847467   71.408276   74.488506   52.620690    6.782759\n",
       "std     12.994942   95.443060   11.700503   16.722052   36.513594    5.099138\n",
       "min    -53.150000 -174.350000   39.200000   16.000000    0.000000    0.490000\n",
       "25%    -31.431000  -55.995975   62.600000   67.000000   20.000000    2.935000\n",
       "50%    -20.462400   27.626500   75.990000   78.000000   59.500000    5.525000\n",
       "75%    -10.194200  130.629175   80.215000   86.750000   90.000000    9.772500\n",
       "max     -0.600000  170.566700   91.710000   96.000000  100.000000   25.320000"
      ]
     },
     "execution_count": 77,
     "metadata": {},
     "output_type": "execute_result"
    }
   ],
   "source": [
    "#create 2 new DFs\n",
    "NH_df = all_df.loc[(all_df[\"Lat\"] >0) ]\n",
    "#NH_df.describe()\n",
    "SH_df = all_df.loc[(all_df[\"Lat\"] <0) ]\n",
    "SH_df.describe()"
   ]
  },
  {
   "cell_type": "markdown",
   "metadata": {},
   "source": [
    "# Northern Hemisphere - Max Temp vs. Latitude Linear Regression"
   ]
  },
  {
   "cell_type": "code",
   "execution_count": 81,
   "metadata": {},
   "outputs": [
    {
     "name": "stdout",
     "output_type": "stream",
     "text": [
      "The correlation between both factors is -0.84\n"
     ]
    }
   ],
   "source": [
    "lat_NH = NH_df.iloc[:,1]\n",
    "max_temp_NH = NH_df.iloc[:,3]\n",
    "correlation = st.pearsonr(lat_NH, max_temp_NH)\n",
    "print(f\"The correlation between both factors is {round(correlation[0],2)}\")"
   ]
  },
  {
   "cell_type": "code",
   "execution_count": 97,
   "metadata": {},
   "outputs": [
    {
     "data": {
      "image/png": "[encoded data removed]",
      "text/plain": [
       "<Figure size 432x288 with 1 Axes>"
      ]
     },
     "metadata": {
      "needs_background": "light"
     },
     "output_type": "display_data"
    }
   ],
   "source": [
    "#x_values = lat_NH, y_values = max_temp_NH\n",
    "(slope, intercept, rvalue, pvalue, stderr) = linregress(lat_NH, max_temp_NH)\n",
    "regress_values = lat_NH * slope + intercept\n",
    "line_eq = \"y = \" + str(round(slope,2)) + \"x + \" + str(round(intercept,2))\n",
    "plt.scatter(lat_NH, max_temp_NH)\n",
    "plt.plot(lat_NH,regress_values,\"r-\")\n",
    "plt.annotate(line_eq,(0,10),fontsize=15,color=\"red\")\n",
    "plt.xlabel(\"Latitude\")\n",
    "plt.ylabel(\"Max Temperature\")\n",
    "plt.title(\"Northern Hemisphere: City Latitute vs. Max Temp (4/23/21)\")\n",
    "plt.grid()\n",
    "plt.savefig(\"../output_data/city_lat_temp_LR_NH.png\")\n",
    "plt.show()"
   ]
  },
  {
   "cell_type": "code",
   "execution_count": null,
   "metadata": {},
   "outputs": [],
   "source": [
    "\n",
    "# The r-value is: 0.4693786382663062####### WHY???????  DID I NOT COVER THIS IN THE FIRST BOX??????#############################\n"
   ]
  },
  {
   "cell_type": "markdown",
   "metadata": {},
   "source": [
    "###### In the Northern Hemisphere, as latitude increases, max temperature decreases.  There is a strong, negative relationship between increasing latitude and increasing temperature."
   ]
  },
  {
   "cell_type": "markdown",
   "metadata": {},
   "source": [
    "# Southern Hemisphere - Max Temp vs. Latitude Linear Regression"
   ]
  },
  {
   "cell_type": "code",
   "execution_count": 86,
   "metadata": {},
   "outputs": [
    {
     "name": "stdout",
     "output_type": "stream",
     "text": [
      "The correlation between both factors is 0.76\n"
     ]
    }
   ],
   "source": [
    "lat_SH = SH_df.iloc[:,1]\n",
    "max_temp_SH = SH_df.iloc[:,3]\n",
    "correlation = st.pearsonr(lat_SH, max_temp_SH)\n",
    "print(f\"The correlation between both factors is {round(correlation[0],2)}\")"
   ]
  },
  {
   "cell_type": "code",
   "execution_count": 95,
   "metadata": {},
   "outputs": [
    {
     "data": {
      "image/png": "[encoded data removed]",
      "text/plain": [
       "<Figure size 432x288 with 1 Axes>"
      ]
     },
     "metadata": {
      "needs_background": "light"
     },
     "output_type": "display_data"
    }
   ],
   "source": [
    "#x_values = lat_SH, y_values = max_temp_SH\n",
    "(slope, intercept, rvalue, pvalue, stderr) = linregress(lat_SH, max_temp_SH)\n",
    "regress_values = lat_SH * slope + intercept\n",
    "line_eq = \"y = \" + str(round(slope,2)) + \"x + \" + str(round(intercept,2))\n",
    "plt.scatter(lat_SH, max_temp_SH)\n",
    "plt.plot(lat_SH,regress_values,\"r-\")\n",
    "plt.annotate(line_eq,(-53,85),fontsize=15,color=\"red\")\n",
    "plt.xlabel(\"Latitude\")\n",
    "plt.ylabel(\"Max Temperature\")\n",
    "plt.title(\"Southern Hemisphere: City Latitute vs. Max Temp (4/23/21)\")\n",
    "plt.grid()\n",
    "plt.savefig(\"../output_data/city_lat_temp_LR_SH.png\")\n",
    "plt.show()"
   ]
  },
  {
   "cell_type": "markdown",
   "metadata": {},
   "source": [
    "##### In the Southern Hemisphere, as latitude increases, max temperature also increases.  There is a strong, positive relationship between increasing latitude and increasing temperature."
   ]
  },
  {
   "cell_type": "code",
   "execution_count": null,
   "metadata": {},
   "outputs": [],
   "source": [
    "################ The r-value is: 0.6082708688906918 ##########################"
   ]
  },
  {
   "cell_type": "markdown",
   "metadata": {},
   "source": [
    "# Northern Hemisphere - Humidity (%) vs. Latitude Linear Regression"
   ]
  },
  {
   "cell_type": "code",
   "execution_count": 98,
   "metadata": {},
   "outputs": [
    {
     "name": "stdout",
     "output_type": "stream",
     "text": [
      "The correlation between both factors is 0.18\n"
     ]
    }
   ],
   "source": [
    "lat_NH = NH_df.iloc[:,1]\n",
    "humidity_NH = NH_df.iloc[:,4]\n",
    "correlation = st.pearsonr(lat_NH, humidity_NH)\n",
    "print(f\"The correlation between both factors is {round(correlation[0],2)}\")"
   ]
  },
  {
   "cell_type": "code",
   "execution_count": 119,
   "metadata": {},
   "outputs": [
    {
     "data": {
      "image/png": "[encoded data removed]",
      "text/plain": [
       "<Figure size 432x288 with 1 Axes>"
      ]
     },
     "metadata": {
      "needs_background": "light"
     },
     "output_type": "display_data"
    }
   ],
   "source": [
    "#x_values = lat_NH, y_values = humidity_NH\n",
    "(slope, intercept, rvalue, pvalue, stderr) = linregress(lat_NH, humidity_NH)\n",
    "regress_values = lat_NH * slope + intercept\n",
    "line_eq = \"y = \" + str(round(slope,2)) + \"x + \" + str(round(intercept,2))\n",
    "plt.scatter(lat_NH, humidity_NH)\n",
    "plt.plot(lat_NH,regress_values,\"r-\")\n",
    "plt.annotate(line_eq,(45,10),fontsize=15,color=\"red\")\n",
    "plt.xlabel(\"Latitude\")\n",
    "plt.ylabel(\"Humidity\")\n",
    "plt.title(\"Northern Hemisphere: City Latitute vs.Humidity (4/23/21)\")\n",
    "plt.grid()\n",
    "plt.savefig(\"../output_data/city_lat_humid_LR_NH.png\")\n",
    "plt.show()"
   ]
  },
  {
   "cell_type": "code",
   "execution_count": null,
   "metadata": {},
   "outputs": [],
   "source": [
    "#####################The r-value is: 0.000543987878808455############################"
   ]
  },
  {
   "cell_type": "markdown",
   "metadata": {},
   "source": [
    "##### In the Northern Hemisphere, there is a weak, positive relationship between latitude and humidity that borders on no relationship."
   ]
  },
  {
   "cell_type": "markdown",
   "metadata": {},
   "source": [
    "# Southern Hemisphere - Humidity (%) vs. Latitude Linear Regression"
   ]
  },
  {
   "cell_type": "code",
   "execution_count": 120,
   "metadata": {},
   "outputs": [
    {
     "name": "stdout",
     "output_type": "stream",
     "text": [
      "The correlation between both factors is 0.0\n"
     ]
    }
   ],
   "source": [
    "lat_SH = SH_df.iloc[:,1]\n",
    "humidity_SH = SH_df.iloc[:,4]\n",
    "correlation = st.pearsonr(lat_SH, humidity_SH)\n",
    "print(f\"The correlation between both factors is {round(correlation[0],2)}\")"
   ]
  },
  {
   "cell_type": "code",
   "execution_count": 121,
   "metadata": {},
   "outputs": [
    {
     "data": {
      "image/png": "[encoded data removed]",
      "text/plain": [
       "<Figure size 432x288 with 1 Axes>"
      ]
     },
     "metadata": {
      "needs_background": "light"
     },
     "output_type": "display_data"
    }
   ],
   "source": [
    "#x_values = lat_SH, y_values = humidity_SH\n",
    "(slope, intercept, rvalue, pvalue, stderr) = linregress(lat_SH, humidity_SH)\n",
    "regress_values = lat_SH * slope + intercept\n",
    "line_eq = \"y = \" + str(round(slope,2)) + \"x + \" + str(round(intercept,2))\n",
    "plt.scatter(lat_SH, humidity_SH)\n",
    "plt.plot(lat_SH,regress_values,\"r-\")\n",
    "plt.annotate(line_eq,(45,10),fontsize=15,color=\"red\")\n",
    "plt.xlabel(\"Latitude\")\n",
    "plt.ylabel(\"Humidity\")\n",
    "plt.title(\"Southern Hemisphere: City Latitute vs.Humidity (4/23/21)\")\n",
    "plt.grid()\n",
    "plt.savefig(\"../output_data/city_lat_humid_LR_SH.png\")\n",
    "plt.show()"
   ]
  },
  {
   "cell_type": "markdown",
   "metadata": {},
   "source": [
    "##### In the Southern Hemisphere, there is no relationship between latitude and humidity.   In other words: it is humid down there, pretty much wherever you go.  However, how it feels may be quite different. "
   ]
  },
  {
   "cell_type": "code",
   "execution_count": null,
   "metadata": {},
   "outputs": [],
   "source": [
    "# The r-value is: 0.014985174297345524"
   ]
  },
  {
   "cell_type": "markdown",
   "metadata": {},
   "source": [
    "# Northern Hemisphere - Cloudiness (%) vs. Latitude Linear Regression"
   ]
  },
  {
   "cell_type": "code",
   "execution_count": 122,
   "metadata": {},
   "outputs": [
    {
     "name": "stdout",
     "output_type": "stream",
     "text": [
      "The correlation between both factors is 0.26\n"
     ]
    }
   ],
   "source": [
    "lat_NH = NH_df.iloc[:,1]\n",
    "cloud_NH = NH_df.iloc[:,5]\n",
    "correlation = st.pearsonr(lat_NH, cloud_NH)\n",
    "print(f\"The correlation between both factors is {round(correlation[0],2)}\")"
   ]
  },
  {
   "cell_type": "code",
   "execution_count": 128,
   "metadata": {},
   "outputs": [
    {
     "data": {
      "image/png": "[encoded data removed]",
      "text/plain": [
       "<Figure size 432x288 with 1 Axes>"
      ]
     },
     "metadata": {
      "needs_background": "light"
     },
     "output_type": "display_data"
    }
   ],
   "source": [
    "#x_values = lat_NH, y_values = cloud_NH\n",
    "(slope, intercept, rvalue, pvalue, stderr) = linregress(lat_NH, cloud_NH)\n",
    "regress_values = lat_NH * slope + intercept\n",
    "line_eq = \"y = \" + str(round(slope,2)) + \"x + \" + str(round(intercept,2))\n",
    "plt.scatter(lat_NH, cloud_NH)\n",
    "plt.plot(lat_NH,regress_values,\"r-\")\n",
    "plt.annotate(line_eq,(45,45),fontsize=15,color=\"red\")\n",
    "plt.xlabel(\"Latitude\")\n",
    "plt.ylabel(\"Cloudiness\")\n",
    "plt.title(\"Northern Hemisphere: City Latitute vs.Cloudiness (4/23/21)\")\n",
    "plt.grid()\n",
    "plt.savefig(\"../output_data/city_lat_clouds_LR_NH.png\")\n",
    "plt.show()"
   ]
  },
  {
   "cell_type": "code",
   "execution_count": null,
   "metadata": {},
   "outputs": [],
   "source": [
    "# ##############The r-value is: 0.0020898727664228514################"
   ]
  },
  {
   "cell_type": "markdown",
   "metadata": {},
   "source": [
    "##### In the Northern Hemisphere, there is no weak positive relationship between cloudiness and latitude.    "
   ]
  },
  {
   "cell_type": "markdown",
   "metadata": {},
   "source": [
    "# Southern Hemisphere - Cloudiness (%) vs. Latitude Linear Regression"
   ]
  },
  {
   "cell_type": "code",
   "execution_count": 127,
   "metadata": {},
   "outputs": [
    {
     "name": "stdout",
     "output_type": "stream",
     "text": [
      "The correlation between both factors is 0.1\n"
     ]
    }
   ],
   "source": [
    "lat_SH = SH_df.iloc[:,1]\n",
    "cloud_SH = SH_df.iloc[:,5]\n",
    "correlation = st.pearsonr(lat_SH, cloud_SH)\n",
    "print(f\"The correlation between both factors is {round(correlation[0],2)}\")"
   ]
  },
  {
   "cell_type": "code",
   "execution_count": 132,
   "metadata": {},
   "outputs": [
    {
     "data": {
      "image/png": "[encoded data removed]",
      "text/plain": [
       "<Figure size 432x288 with 1 Axes>"
      ]
     },
     "metadata": {
      "needs_background": "light"
     },
     "output_type": "display_data"
    }
   ],
   "source": [
    "#x_values = lat_SH, y_values = cloud_SH\n",
    "(slope, intercept, rvalue, pvalue, stderr) = linregress(lat_SH, cloud_SH)\n",
    "regress_values = lat_SH * slope + intercept\n",
    "line_eq = \"y = \" + str(round(slope,2)) + \"x + \" + str(round(intercept,2))\n",
    "plt.scatter(lat_SH, cloud_SH)\n",
    "plt.plot(lat_SH,regress_values,\"r-\")\n",
    "plt.annotate(line_eq,(-55,22),fontsize=15,color=\"red\")\n",
    "plt.xlabel(\"Latitude\")\n",
    "plt.ylabel(\"Cloudiness\")\n",
    "plt.title(\"Southern Hemisphere: City Latitute vs.Cloudiness (4/23/21)\")\n",
    "plt.grid()\n",
    "plt.savefig(\"../output_data/city_lat_clouds_LR_SH.png\")\n",
    "plt.show()"
   ]
  },
  {
   "cell_type": "code",
   "execution_count": null,
   "metadata": {},
   "outputs": [],
   "source": [
    "# #############The r-value is: 0.0035263772085582894##############"
   ]
  },
  {
   "cell_type": "markdown",
   "metadata": {},
   "source": [
    "##### In the Southern Hemisphere, there is no meaningful relationship between cloudiness and latitude.    "
   ]
  },
  {
   "cell_type": "markdown",
   "metadata": {},
   "source": [
    "# Northern Hemisphere - Wind Speed (mph) vs. Latitude Linear Regression"
   ]
  },
  {
   "cell_type": "code",
   "execution_count": 133,
   "metadata": {},
   "outputs": [
    {
     "name": "stdout",
     "output_type": "stream",
     "text": [
      "The correlation between both factors is 0.05\n"
     ]
    }
   ],
   "source": [
    "lat_NH = NH_df.iloc[:,1]\n",
    "wind_NH = NH_df.iloc[:,6]\n",
    "correlation = st.pearsonr(lat_NH, wind_NH)\n",
    "print(f\"The correlation between both factors is {round(correlation[0],2)}\")"
   ]
  },
  {
   "cell_type": "code",
   "execution_count": 137,
   "metadata": {},
   "outputs": [
    {
     "data": {
      "image/png": "[encoded data removed]",
      "text/plain": [
       "<Figure size 432x288 with 1 Axes>"
      ]
     },
     "metadata": {
      "needs_background": "light"
     },
     "output_type": "display_data"
    }
   ],
   "source": [
    "#x_values = lat_NH, y_values = wind_NH\n",
    "(slope, intercept, rvalue, pvalue, stderr) = linregress(lat_NH, wind_NH)\n",
    "regress_values = lat_NH * slope + intercept\n",
    "line_eq = \"y = \" + str(round(slope,2)) + \"x + \" + str(round(intercept,2))\n",
    "plt.scatter(lat_NH, wind_NH)\n",
    "plt.plot(lat_NH,regress_values,\"r-\")\n",
    "plt.annotate(line_eq,(0,22),fontsize=15,color=\"red\")\n",
    "plt.xlabel(\"Latitude\")\n",
    "plt.ylabel(\"Wind Speed\")\n",
    "plt.title(\"Northern Hemisphere: City Latitute vs.Wind Speed (4/23/21)\")\n",
    "plt.grid()\n",
    "plt.savefig(\"../output_data/city_lat_wind_LR_NH.png\")\n",
    "plt.show()"
   ]
  },
  {
   "cell_type": "markdown",
   "metadata": {},
   "source": [
    "##### In the Northern Hemisphere, there is no meaningful relationship between wind speed and latitude.    "
   ]
  },
  {
   "cell_type": "code",
   "execution_count": null,
   "metadata": {},
   "outputs": [],
   "source": [
    "########## The r-value is: 0.04019723576144484#############"
   ]
  },
  {
   "cell_type": "markdown",
   "metadata": {},
   "source": [
    "# Southern Hemisphere - Wind Speed (mph) vs. Latitude Linear Regression"
   ]
  },
  {
   "cell_type": "code",
   "execution_count": 138,
   "metadata": {},
   "outputs": [
    {
     "name": "stdout",
     "output_type": "stream",
     "text": [
      "The correlation between both factors is -0.05\n"
     ]
    }
   ],
   "source": [
    "lat_SH = SH_df.iloc[:,1]\n",
    "wind_SH = SH_df.iloc[:,6]\n",
    "correlation = st.pearsonr(lat_SH, wind_SH)\n",
    "print(f\"The correlation between both factors is {round(correlation[0],2)}\")"
   ]
  },
  {
   "cell_type": "code",
   "execution_count": 141,
   "metadata": {},
   "outputs": [
    {
     "data": {
      "image/png": "[encoded data removed]",
      "text/plain": [
       "<Figure size 432x288 with 1 Axes>"
      ]
     },
     "metadata": {
      "needs_background": "light"
     },
     "output_type": "display_data"
    }
   ],
   "source": [
    "#x_values = lat_SH, y_values = wind_SH\n",
    "(slope, intercept, rvalue, pvalue, stderr) = linregress(lat_SH, wind_SH)\n",
    "regress_values = lat_SH * slope + intercept\n",
    "line_eq = \"y = \" + str(round(slope,2)) + \"x + \" + str(round(intercept,2))\n",
    "plt.scatter(lat_SH, wind_SH)\n",
    "plt.plot(lat_SH,regress_values,\"r-\")\n",
    "plt.annotate(line_eq,(-50,20),fontsize=15,color=\"red\")\n",
    "plt.xlabel(\"Latitude\")\n",
    "plt.ylabel(\"Wind Speed\")\n",
    "plt.title(\"Southern Hemisphere: City Latitute vs.Wind Speed (4/23/21)\")\n",
    "plt.grid()\n",
    "plt.savefig(\"../output_data/city_lat_wind_LR_SH.png\")\n",
    "plt.show()"
   ]
  },
  {
   "cell_type": "code",
   "execution_count": null,
   "metadata": {},
   "outputs": [],
   "source": [
    "# ############### The r-value is: 0.017128274759839232#############"
   ]
  },
  {
   "cell_type": "markdown",
   "metadata": {},
   "source": [
    "##### In the Southern Hemisphere, there is no meaningful relationship between wind speed and latitude.    "
   ]
  }
 ],
 "metadata": {
  "kernelspec": {
   "display_name": "Python 3",
   "language": "python",
   "name": "python3"
  },
  "language_info": {
   "codemirror_mode": {
    "name": "ipython",
    "version": 3
   },
   "file_extension": ".py",
   "mimetype": "text/x-python",
   "name": "python",
   "nbconvert_exporter": "python",
   "pygments_lexer": "ipython3",
   "version": "3.8.5"
  }
 },
 "nbformat": 4,
 "nbformat_minor": 4
}
